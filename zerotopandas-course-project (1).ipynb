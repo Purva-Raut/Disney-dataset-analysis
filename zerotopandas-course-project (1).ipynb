{
 "cells": [
  {
   "cell_type": "markdown",
   "metadata": {},
   "source": [
    "# Disney+ Movies and TV Shows Analysis\n",
    "\n",
    "Disney+ is one of the most popular media and video streaming platforms.This tabular dataset consists of listings of all the movies and tv shows available on Disney+, along with details such as - cast, directors, ratings, release year, duration, etc.Dataset link: https://www.kaggle.com/datasets/shivamb/disney-movies-and-tv-shows. I will try to analyse this dataset and try to answer interesting questions like :'Is there any relationship between the duration of the movies/TV shows and the year of release?','Top countries that produce content for Disney+' etc.I will be using pandas, matplotlib, seaborn libraries learned in the Jovian course-[Data Analysis with Python: Zero to Pandas](zerotopandas.com) for this analysis."
   ]
  },
  {
   "cell_type": "markdown",
   "metadata": {},
   "source": [
    "## Downloading the Dataset\n",
    "\n",
    "Downloaded the dataset from kaggle and used open dataset library."
   ]
  },
  {
   "cell_type": "code",
   "execution_count": 1,
   "metadata": {},
   "outputs": [],
   "source": [
    "!pip install jovian opendatasets --upgrade --quiet"
   ]
  },
  {
   "cell_type": "markdown",
   "metadata": {},
   "source": [
    "Let's begin by downloading the data, and listing the files within the dataset."
   ]
  },
  {
   "cell_type": "code",
   "execution_count": 2,
   "metadata": {},
   "outputs": [],
   "source": [
    "#Dataset url from kaggle\n",
    "dataset_url = 'https://www.kaggle.com/datasets/shivamb/disney-movies-and-tv-shows' "
   ]
  },
  {
   "cell_type": "code",
   "execution_count": 3,
   "metadata": {},
   "outputs": [
    {
     "name": "stdout",
     "output_type": "stream",
     "text": [
      "Skipping, found downloaded files in \".\\disney-movies-and-tv-shows\" (use force=True to force download)\n"
     ]
    }
   ],
   "source": [
    "import opendatasets as od\n",
    "od.download('https://www.kaggle.com/datasets/shivamb/disney-movies-and-tv-shows')"
   ]
  },
  {
   "cell_type": "markdown",
   "metadata": {},
   "source": [
    "The dataset has been downloaded and extracted."
   ]
  },
  {
   "cell_type": "code",
   "execution_count": 4,
   "metadata": {},
   "outputs": [],
   "source": [
    "data_dir = './disney-movies-and-tv-shows'"
   ]
  },
  {
   "cell_type": "code",
   "execution_count": 5,
   "metadata": {},
   "outputs": [
    {
     "data": {
      "text/plain": [
       "['disney_plus_titles.csv']"
      ]
     },
     "execution_count": 5,
     "metadata": {},
     "output_type": "execute_result"
    }
   ],
   "source": [
    "import os\n",
    "os.listdir(data_dir)"
   ]
  },
  {
   "cell_type": "markdown",
   "metadata": {},
   "source": [
    "Let us save and upload our work to Jovian before continuing."
   ]
  },
  {
   "cell_type": "code",
   "execution_count": 6,
   "metadata": {},
   "outputs": [],
   "source": [
    "project_name = \"disney-plus-movies-and-tv-shows\""
   ]
  },
  {
   "cell_type": "code",
   "execution_count": 7,
   "metadata": {},
   "outputs": [],
   "source": [
    "!pip install jovian --upgrade -q"
   ]
  },
  {
   "cell_type": "code",
   "execution_count": 8,
   "metadata": {},
   "outputs": [],
   "source": [
    "import jovian"
   ]
  },
  {
   "cell_type": "code",
   "execution_count": 9,
   "metadata": {},
   "outputs": [
    {
     "data": {
      "application/javascript": [
       "window.require && require([\"base/js/namespace\"],function(Jupyter){Jupyter.notebook.save_checkpoint()})"
      ],
      "text/plain": [
       "<IPython.core.display.Javascript object>"
      ]
     },
     "metadata": {},
     "output_type": "display_data"
    },
    {
     "name": "stdout",
     "output_type": "stream",
     "text": [
      "[jovian] Updating notebook \"purva-raut/disney-plus-movies-and-tv-shows\" on https://jovian.ai/\u001b[0m\n",
      "[jovian] Committed successfully! https://jovian.ai/purva-raut/disney-plus-movies-and-tv-shows\u001b[0m\n"
     ]
    },
    {
     "data": {
      "text/plain": [
       "'https://jovian.ai/purva-raut/disney-plus-movies-and-tv-shows'"
      ]
     },
     "execution_count": 9,
     "metadata": {},
     "output_type": "execute_result"
    }
   ],
   "source": [
    "jovian.commit(project=project_name)"
   ]
  },
  {
   "cell_type": "markdown",
   "metadata": {},
   "source": [
    "## Data Preparation and Cleaning\n",
    "The dataset is downloaded.Now will convert it to dataframe using pandas.Review the dataset rows and columns. Check for missing and null values and treat them.\n"
   ]
  },
  {
   "cell_type": "code",
   "execution_count": 10,
   "metadata": {},
   "outputs": [],
   "source": [
    "import pandas as pd"
   ]
  },
  {
   "cell_type": "code",
   "execution_count": 11,
   "metadata": {},
   "outputs": [],
   "source": [
    "disney_raw_df = pd.read_csv(data_dir + \"/disney_plus_titles.csv\")"
   ]
  },
  {
   "cell_type": "code",
   "execution_count": 12,
   "metadata": {},
   "outputs": [
    {
     "data": {
      "text/html": [
       "<div>\n",
       "<style scoped>\n",
       "    .dataframe tbody tr th:only-of-type {\n",
       "        vertical-align: middle;\n",
       "    }\n",
       "\n",
       "    .dataframe tbody tr th {\n",
       "        vertical-align: top;\n",
       "    }\n",
       "\n",
       "    .dataframe thead th {\n",
       "        text-align: right;\n",
       "    }\n",
       "</style>\n",
       "<table border=\"1\" class=\"dataframe\">\n",
       "  <thead>\n",
       "    <tr style=\"text-align: right;\">\n",
       "      <th></th>\n",
       "      <th>show_id</th>\n",
       "      <th>type</th>\n",
       "      <th>title</th>\n",
       "      <th>director</th>\n",
       "      <th>cast</th>\n",
       "      <th>country</th>\n",
       "      <th>date_added</th>\n",
       "      <th>release_year</th>\n",
       "      <th>rating</th>\n",
       "      <th>duration</th>\n",
       "      <th>listed_in</th>\n",
       "      <th>description</th>\n",
       "    </tr>\n",
       "  </thead>\n",
       "  <tbody>\n",
       "    <tr>\n",
       "      <th>0</th>\n",
       "      <td>s1</td>\n",
       "      <td>Movie</td>\n",
       "      <td>Duck the Halls: A Mickey Mouse Christmas Special</td>\n",
       "      <td>Alonso Ramirez Ramos, Dave Wasson</td>\n",
       "      <td>Chris Diamantopoulos, Tony Anselmo, Tress MacN...</td>\n",
       "      <td>NaN</td>\n",
       "      <td>November 26, 2021</td>\n",
       "      <td>2016</td>\n",
       "      <td>TV-G</td>\n",
       "      <td>23 min</td>\n",
       "      <td>Animation, Family</td>\n",
       "      <td>Join Mickey and the gang as they duck the halls!</td>\n",
       "    </tr>\n",
       "    <tr>\n",
       "      <th>1</th>\n",
       "      <td>s2</td>\n",
       "      <td>Movie</td>\n",
       "      <td>Ernest Saves Christmas</td>\n",
       "      <td>John Cherry</td>\n",
       "      <td>Jim Varney, Noelle Parker, Douglas Seale</td>\n",
       "      <td>NaN</td>\n",
       "      <td>November 26, 2021</td>\n",
       "      <td>1988</td>\n",
       "      <td>PG</td>\n",
       "      <td>91 min</td>\n",
       "      <td>Comedy</td>\n",
       "      <td>Santa Claus passes his magic bag to a new St. ...</td>\n",
       "    </tr>\n",
       "    <tr>\n",
       "      <th>2</th>\n",
       "      <td>s3</td>\n",
       "      <td>Movie</td>\n",
       "      <td>Ice Age: A Mammoth Christmas</td>\n",
       "      <td>Karen Disher</td>\n",
       "      <td>Raymond Albert Romano, John Leguizamo, Denis L...</td>\n",
       "      <td>United States</td>\n",
       "      <td>November 26, 2021</td>\n",
       "      <td>2011</td>\n",
       "      <td>TV-G</td>\n",
       "      <td>23 min</td>\n",
       "      <td>Animation, Comedy, Family</td>\n",
       "      <td>Sid the Sloth is on Santa's naughty list.</td>\n",
       "    </tr>\n",
       "    <tr>\n",
       "      <th>3</th>\n",
       "      <td>s4</td>\n",
       "      <td>Movie</td>\n",
       "      <td>The Queen Family Singalong</td>\n",
       "      <td>Hamish Hamilton</td>\n",
       "      <td>Darren Criss, Adam Lambert, Derek Hough, Alexa...</td>\n",
       "      <td>NaN</td>\n",
       "      <td>November 26, 2021</td>\n",
       "      <td>2021</td>\n",
       "      <td>TV-PG</td>\n",
       "      <td>41 min</td>\n",
       "      <td>Musical</td>\n",
       "      <td>This is real life, not just fantasy!</td>\n",
       "    </tr>\n",
       "    <tr>\n",
       "      <th>4</th>\n",
       "      <td>s5</td>\n",
       "      <td>TV Show</td>\n",
       "      <td>The Beatles: Get Back</td>\n",
       "      <td>NaN</td>\n",
       "      <td>John Lennon, Paul McCartney, George Harrison, ...</td>\n",
       "      <td>NaN</td>\n",
       "      <td>November 25, 2021</td>\n",
       "      <td>2021</td>\n",
       "      <td>NaN</td>\n",
       "      <td>1 Season</td>\n",
       "      <td>Docuseries, Historical, Music</td>\n",
       "      <td>A three-part documentary from Peter Jackson ca...</td>\n",
       "    </tr>\n",
       "  </tbody>\n",
       "</table>\n",
       "</div>"
      ],
      "text/plain": [
       "  show_id     type                                             title  \\\n",
       "0      s1    Movie  Duck the Halls: A Mickey Mouse Christmas Special   \n",
       "1      s2    Movie                            Ernest Saves Christmas   \n",
       "2      s3    Movie                      Ice Age: A Mammoth Christmas   \n",
       "3      s4    Movie                        The Queen Family Singalong   \n",
       "4      s5  TV Show                             The Beatles: Get Back   \n",
       "\n",
       "                            director  \\\n",
       "0  Alonso Ramirez Ramos, Dave Wasson   \n",
       "1                        John Cherry   \n",
       "2                       Karen Disher   \n",
       "3                    Hamish Hamilton   \n",
       "4                                NaN   \n",
       "\n",
       "                                                cast        country  \\\n",
       "0  Chris Diamantopoulos, Tony Anselmo, Tress MacN...            NaN   \n",
       "1           Jim Varney, Noelle Parker, Douglas Seale            NaN   \n",
       "2  Raymond Albert Romano, John Leguizamo, Denis L...  United States   \n",
       "3  Darren Criss, Adam Lambert, Derek Hough, Alexa...            NaN   \n",
       "4  John Lennon, Paul McCartney, George Harrison, ...            NaN   \n",
       "\n",
       "          date_added  release_year rating  duration  \\\n",
       "0  November 26, 2021          2016   TV-G    23 min   \n",
       "1  November 26, 2021          1988     PG    91 min   \n",
       "2  November 26, 2021          2011   TV-G    23 min   \n",
       "3  November 26, 2021          2021  TV-PG    41 min   \n",
       "4  November 25, 2021          2021    NaN  1 Season   \n",
       "\n",
       "                       listed_in  \\\n",
       "0              Animation, Family   \n",
       "1                         Comedy   \n",
       "2      Animation, Comedy, Family   \n",
       "3                        Musical   \n",
       "4  Docuseries, Historical, Music   \n",
       "\n",
       "                                         description  \n",
       "0   Join Mickey and the gang as they duck the halls!  \n",
       "1  Santa Claus passes his magic bag to a new St. ...  \n",
       "2          Sid the Sloth is on Santa's naughty list.  \n",
       "3               This is real life, not just fantasy!  \n",
       "4  A three-part documentary from Peter Jackson ca...  "
      ]
     },
     "execution_count": 12,
     "metadata": {},
     "output_type": "execute_result"
    }
   ],
   "source": [
    "disney_raw_df.head()"
   ]
  },
  {
   "cell_type": "code",
   "execution_count": 13,
   "metadata": {},
   "outputs": [
    {
     "data": {
      "text/plain": [
       "(1450, 12)"
      ]
     },
     "execution_count": 13,
     "metadata": {},
     "output_type": "execute_result"
    }
   ],
   "source": [
    "# count total rows and columns\n",
    "disney_raw_df.shape"
   ]
  },
  {
   "cell_type": "code",
   "execution_count": 14,
   "metadata": {},
   "outputs": [],
   "source": [
    "# .shape method gives us that the dataframe has 1450 rows and 12 columns"
   ]
  },
  {
   "cell_type": "code",
   "execution_count": 15,
   "metadata": {},
   "outputs": [
    {
     "name": "stdout",
     "output_type": "stream",
     "text": [
      "<class 'pandas.core.frame.DataFrame'>\n",
      "RangeIndex: 1450 entries, 0 to 1449\n",
      "Data columns (total 12 columns):\n",
      " #   Column        Non-Null Count  Dtype \n",
      "---  ------        --------------  ----- \n",
      " 0   show_id       1450 non-null   object\n",
      " 1   type          1450 non-null   object\n",
      " 2   title         1450 non-null   object\n",
      " 3   director      977 non-null    object\n",
      " 4   cast          1260 non-null   object\n",
      " 5   country       1231 non-null   object\n",
      " 6   date_added    1447 non-null   object\n",
      " 7   release_year  1450 non-null   int64 \n",
      " 8   rating        1447 non-null   object\n",
      " 9   duration      1450 non-null   object\n",
      " 10  listed_in     1450 non-null   object\n",
      " 11  description   1450 non-null   object\n",
      "dtypes: int64(1), object(11)\n",
      "memory usage: 136.1+ KB\n"
     ]
    }
   ],
   "source": [
    "disney_raw_df.info()\n",
    "# This basically counts non-null values for the columns and also mentions datatype. \n",
    "# Here we can observe that only 'release_year' has integer(numeric) datatype and rest all are object (string) datatype."
   ]
  },
  {
   "cell_type": "code",
   "execution_count": 16,
   "metadata": {},
   "outputs": [
    {
     "data": {
      "text/html": [
       "<div>\n",
       "<style scoped>\n",
       "    .dataframe tbody tr th:only-of-type {\n",
       "        vertical-align: middle;\n",
       "    }\n",
       "\n",
       "    .dataframe tbody tr th {\n",
       "        vertical-align: top;\n",
       "    }\n",
       "\n",
       "    .dataframe thead th {\n",
       "        text-align: right;\n",
       "    }\n",
       "</style>\n",
       "<table border=\"1\" class=\"dataframe\">\n",
       "  <thead>\n",
       "    <tr style=\"text-align: right;\">\n",
       "      <th></th>\n",
       "      <th>release_year</th>\n",
       "    </tr>\n",
       "  </thead>\n",
       "  <tbody>\n",
       "    <tr>\n",
       "      <th>count</th>\n",
       "      <td>1450.000000</td>\n",
       "    </tr>\n",
       "    <tr>\n",
       "      <th>mean</th>\n",
       "      <td>2003.091724</td>\n",
       "    </tr>\n",
       "    <tr>\n",
       "      <th>std</th>\n",
       "      <td>21.860162</td>\n",
       "    </tr>\n",
       "    <tr>\n",
       "      <th>min</th>\n",
       "      <td>1928.000000</td>\n",
       "    </tr>\n",
       "    <tr>\n",
       "      <th>25%</th>\n",
       "      <td>1999.000000</td>\n",
       "    </tr>\n",
       "    <tr>\n",
       "      <th>50%</th>\n",
       "      <td>2011.000000</td>\n",
       "    </tr>\n",
       "    <tr>\n",
       "      <th>75%</th>\n",
       "      <td>2018.000000</td>\n",
       "    </tr>\n",
       "    <tr>\n",
       "      <th>max</th>\n",
       "      <td>2021.000000</td>\n",
       "    </tr>\n",
       "  </tbody>\n",
       "</table>\n",
       "</div>"
      ],
      "text/plain": [
       "       release_year\n",
       "count   1450.000000\n",
       "mean    2003.091724\n",
       "std       21.860162\n",
       "min     1928.000000\n",
       "25%     1999.000000\n",
       "50%     2011.000000\n",
       "75%     2018.000000\n",
       "max     2021.000000"
      ]
     },
     "execution_count": 16,
     "metadata": {},
     "output_type": "execute_result"
    }
   ],
   "source": [
    "disney_raw_df.describe()\n",
    "# gives the count, mean and other statistical information about the int datatype."
   ]
  },
  {
   "cell_type": "code",
   "execution_count": 17,
   "metadata": {},
   "outputs": [
    {
     "data": {
      "text/plain": [
       "True"
      ]
     },
     "execution_count": 17,
     "metadata": {},
     "output_type": "execute_result"
    }
   ],
   "source": [
    "disney_raw_df.isna().values.any()\n",
    "#we are checking if there are any null values in the entire dataframe. 'True' states that there are null values."
   ]
  },
  {
   "cell_type": "code",
   "execution_count": 18,
   "metadata": {},
   "outputs": [
    {
     "data": {
      "text/plain": [
       "show_id           0\n",
       "type              0\n",
       "title             0\n",
       "director        473\n",
       "cast            190\n",
       "country         219\n",
       "date_added        3\n",
       "release_year      0\n",
       "rating            3\n",
       "duration          0\n",
       "listed_in         0\n",
       "description       0\n",
       "dtype: int64"
      ]
     },
     "execution_count": 18,
     "metadata": {},
     "output_type": "execute_result"
    }
   ],
   "source": [
    "disney_raw_df.isna().sum()\n",
    "#This gives the sum of null values in the specific columns of the dataframe"
   ]
  },
  {
   "cell_type": "code",
   "execution_count": 19,
   "metadata": {},
   "outputs": [],
   "source": [
    "# converting object datatype to datetime datatype for column 'date_added\n",
    "disney_raw_df['date_added'] =  pd.to_datetime(disney_raw_df['date_added'])"
   ]
  },
  {
   "cell_type": "code",
   "execution_count": 20,
   "metadata": {},
   "outputs": [
    {
     "data": {
      "text/html": [
       "<div>\n",
       "<style scoped>\n",
       "    .dataframe tbody tr th:only-of-type {\n",
       "        vertical-align: middle;\n",
       "    }\n",
       "\n",
       "    .dataframe tbody tr th {\n",
       "        vertical-align: top;\n",
       "    }\n",
       "\n",
       "    .dataframe thead th {\n",
       "        text-align: right;\n",
       "    }\n",
       "</style>\n",
       "<table border=\"1\" class=\"dataframe\">\n",
       "  <thead>\n",
       "    <tr style=\"text-align: right;\">\n",
       "      <th></th>\n",
       "      <th>show_id</th>\n",
       "      <th>type</th>\n",
       "      <th>title</th>\n",
       "      <th>director</th>\n",
       "      <th>cast</th>\n",
       "      <th>country</th>\n",
       "      <th>date_added</th>\n",
       "      <th>release_year</th>\n",
       "      <th>rating</th>\n",
       "      <th>duration</th>\n",
       "      <th>listed_in</th>\n",
       "      <th>description</th>\n",
       "    </tr>\n",
       "  </thead>\n",
       "  <tbody>\n",
       "    <tr>\n",
       "      <th>0</th>\n",
       "      <td>s1</td>\n",
       "      <td>Movie</td>\n",
       "      <td>Duck the Halls: A Mickey Mouse Christmas Special</td>\n",
       "      <td>Alonso Ramirez Ramos, Dave Wasson</td>\n",
       "      <td>Chris Diamantopoulos, Tony Anselmo, Tress MacN...</td>\n",
       "      <td>NaN</td>\n",
       "      <td>2021-11-26</td>\n",
       "      <td>2016</td>\n",
       "      <td>TV-G</td>\n",
       "      <td>23 min</td>\n",
       "      <td>Animation, Family</td>\n",
       "      <td>Join Mickey and the gang as they duck the halls!</td>\n",
       "    </tr>\n",
       "    <tr>\n",
       "      <th>1</th>\n",
       "      <td>s2</td>\n",
       "      <td>Movie</td>\n",
       "      <td>Ernest Saves Christmas</td>\n",
       "      <td>John Cherry</td>\n",
       "      <td>Jim Varney, Noelle Parker, Douglas Seale</td>\n",
       "      <td>NaN</td>\n",
       "      <td>2021-11-26</td>\n",
       "      <td>1988</td>\n",
       "      <td>PG</td>\n",
       "      <td>91 min</td>\n",
       "      <td>Comedy</td>\n",
       "      <td>Santa Claus passes his magic bag to a new St. ...</td>\n",
       "    </tr>\n",
       "  </tbody>\n",
       "</table>\n",
       "</div>"
      ],
      "text/plain": [
       "  show_id   type                                             title  \\\n",
       "0      s1  Movie  Duck the Halls: A Mickey Mouse Christmas Special   \n",
       "1      s2  Movie                            Ernest Saves Christmas   \n",
       "\n",
       "                            director  \\\n",
       "0  Alonso Ramirez Ramos, Dave Wasson   \n",
       "1                        John Cherry   \n",
       "\n",
       "                                                cast country date_added  \\\n",
       "0  Chris Diamantopoulos, Tony Anselmo, Tress MacN...     NaN 2021-11-26   \n",
       "1           Jim Varney, Noelle Parker, Douglas Seale     NaN 2021-11-26   \n",
       "\n",
       "   release_year rating duration          listed_in  \\\n",
       "0          2016   TV-G   23 min  Animation, Family   \n",
       "1          1988     PG   91 min             Comedy   \n",
       "\n",
       "                                         description  \n",
       "0   Join Mickey and the gang as they duck the halls!  \n",
       "1  Santa Claus passes his magic bag to a new St. ...  "
      ]
     },
     "execution_count": 20,
     "metadata": {},
     "output_type": "execute_result"
    }
   ],
   "source": [
    "disney_raw_df.head(2)\n",
    "#checking if the col ''date_added' is converted to datetime datatype"
   ]
  },
  {
   "cell_type": "code",
   "execution_count": 21,
   "metadata": {},
   "outputs": [
    {
     "name": "stdout",
     "output_type": "stream",
     "text": [
      "<class 'pandas.core.frame.DataFrame'>\n",
      "RangeIndex: 1450 entries, 0 to 1449\n",
      "Data columns (total 12 columns):\n",
      " #   Column        Non-Null Count  Dtype         \n",
      "---  ------        --------------  -----         \n",
      " 0   show_id       1450 non-null   object        \n",
      " 1   type          1450 non-null   object        \n",
      " 2   title         1450 non-null   object        \n",
      " 3   director      977 non-null    object        \n",
      " 4   cast          1260 non-null   object        \n",
      " 5   country       1231 non-null   object        \n",
      " 6   date_added    1447 non-null   datetime64[ns]\n",
      " 7   release_year  1450 non-null   int64         \n",
      " 8   rating        1447 non-null   object        \n",
      " 9   duration      1450 non-null   object        \n",
      " 10  listed_in     1450 non-null   object        \n",
      " 11  description   1450 non-null   object        \n",
      "dtypes: datetime64[ns](1), int64(1), object(10)\n",
      "memory usage: 136.1+ KB\n"
     ]
    }
   ],
   "source": [
    "disney_raw_df.info()\n",
    "#checking if the col ''date_added' is converted to datetime datatype"
   ]
  },
  {
   "cell_type": "code",
   "execution_count": 22,
   "metadata": {
    "scrolled": true
   },
   "outputs": [
    {
     "data": {
      "text/html": [
       "<div>\n",
       "<style scoped>\n",
       "    .dataframe tbody tr th:only-of-type {\n",
       "        vertical-align: middle;\n",
       "    }\n",
       "\n",
       "    .dataframe tbody tr th {\n",
       "        vertical-align: top;\n",
       "    }\n",
       "\n",
       "    .dataframe thead th {\n",
       "        text-align: right;\n",
       "    }\n",
       "</style>\n",
       "<table border=\"1\" class=\"dataframe\">\n",
       "  <thead>\n",
       "    <tr style=\"text-align: right;\">\n",
       "      <th></th>\n",
       "      <th>show_id</th>\n",
       "      <th>type</th>\n",
       "      <th>title</th>\n",
       "      <th>director</th>\n",
       "      <th>cast</th>\n",
       "      <th>country</th>\n",
       "      <th>date_added</th>\n",
       "      <th>release_year</th>\n",
       "      <th>rating</th>\n",
       "      <th>duration</th>\n",
       "      <th>listed_in</th>\n",
       "      <th>description</th>\n",
       "    </tr>\n",
       "  </thead>\n",
       "  <tbody>\n",
       "    <tr>\n",
       "      <th>4</th>\n",
       "      <td>s5</td>\n",
       "      <td>TV Show</td>\n",
       "      <td>The Beatles: Get Back</td>\n",
       "      <td>NaN</td>\n",
       "      <td>John Lennon, Paul McCartney, George Harrison, ...</td>\n",
       "      <td>NaN</td>\n",
       "      <td>2021-11-25</td>\n",
       "      <td>2021</td>\n",
       "      <td>NaN</td>\n",
       "      <td>1 Season</td>\n",
       "      <td>Docuseries, Historical, Music</td>\n",
       "      <td>A three-part documentary from Peter Jackson ca...</td>\n",
       "    </tr>\n",
       "    <tr>\n",
       "      <th>276</th>\n",
       "      <td>s277</td>\n",
       "      <td>Movie</td>\n",
       "      <td>Disney My Music Story: Perfume</td>\n",
       "      <td>Kentaro Takayanagi</td>\n",
       "      <td>a-chan , KASHIYUKA , NOCCHi</td>\n",
       "      <td>NaN</td>\n",
       "      <td>2021-03-19</td>\n",
       "      <td>2019</td>\n",
       "      <td>NaN</td>\n",
       "      <td>53 min</td>\n",
       "      <td>Biographical, Documentary, Music</td>\n",
       "      <td>J-Pop band Perfume shares their passion for mu...</td>\n",
       "    </tr>\n",
       "    <tr>\n",
       "      <th>280</th>\n",
       "      <td>s281</td>\n",
       "      <td>TV Show</td>\n",
       "      <td>Marvel Studios ASSEMBLED</td>\n",
       "      <td>NaN</td>\n",
       "      <td>NaN</td>\n",
       "      <td>NaN</td>\n",
       "      <td>2021-03-12</td>\n",
       "      <td>2021</td>\n",
       "      <td>NaN</td>\n",
       "      <td>1 Season</td>\n",
       "      <td>Anthology, Docuseries</td>\n",
       "      <td>ASSEMBLED is an immersive series of docu-speci...</td>\n",
       "    </tr>\n",
       "  </tbody>\n",
       "</table>\n",
       "</div>"
      ],
      "text/plain": [
       "    show_id     type                           title            director  \\\n",
       "4        s5  TV Show           The Beatles: Get Back                 NaN   \n",
       "276    s277    Movie  Disney My Music Story: Perfume  Kentaro Takayanagi   \n",
       "280    s281  TV Show        Marvel Studios ASSEMBLED                 NaN   \n",
       "\n",
       "                                                  cast country date_added  \\\n",
       "4    John Lennon, Paul McCartney, George Harrison, ...     NaN 2021-11-25   \n",
       "276                        a-chan , KASHIYUKA , NOCCHi     NaN 2021-03-19   \n",
       "280                                                NaN     NaN 2021-03-12   \n",
       "\n",
       "     release_year rating  duration                         listed_in  \\\n",
       "4            2021    NaN  1 Season     Docuseries, Historical, Music   \n",
       "276          2019    NaN    53 min  Biographical, Documentary, Music   \n",
       "280          2021    NaN  1 Season             Anthology, Docuseries   \n",
       "\n",
       "                                           description  \n",
       "4    A three-part documentary from Peter Jackson ca...  \n",
       "276  J-Pop band Perfume shares their passion for mu...  \n",
       "280  ASSEMBLED is an immersive series of docu-speci...  "
      ]
     },
     "execution_count": 22,
     "metadata": {},
     "output_type": "execute_result"
    }
   ],
   "source": [
    "disney_raw_df[disney_raw_df['rating'].isna()]\n",
    "#lets check and treat the null values for considering the columns one by one starting at 'rating'"
   ]
  },
  {
   "cell_type": "code",
   "execution_count": 23,
   "metadata": {},
   "outputs": [],
   "source": [
    "#found ratings for the null 'Rating' column from Disney+ and imdb website.\n",
    "#Now treating the null values by specific values"
   ]
  },
  {
   "cell_type": "code",
   "execution_count": 24,
   "metadata": {},
   "outputs": [],
   "source": [
    "disney_raw_df.loc[4,'rating'] = 'PG-13'"
   ]
  },
  {
   "cell_type": "code",
   "execution_count": 25,
   "metadata": {},
   "outputs": [],
   "source": [
    "disney_raw_df.loc[276,'rating'] = 'TV-14'"
   ]
  },
  {
   "cell_type": "code",
   "execution_count": 26,
   "metadata": {},
   "outputs": [],
   "source": [
    "disney_raw_df.loc[280,'rating'] = 'TV-14'"
   ]
  },
  {
   "cell_type": "code",
   "execution_count": 27,
   "metadata": {},
   "outputs": [
    {
     "data": {
      "text/html": [
       "<div>\n",
       "<style scoped>\n",
       "    .dataframe tbody tr th:only-of-type {\n",
       "        vertical-align: middle;\n",
       "    }\n",
       "\n",
       "    .dataframe tbody tr th {\n",
       "        vertical-align: top;\n",
       "    }\n",
       "\n",
       "    .dataframe thead th {\n",
       "        text-align: right;\n",
       "    }\n",
       "</style>\n",
       "<table border=\"1\" class=\"dataframe\">\n",
       "  <thead>\n",
       "    <tr style=\"text-align: right;\">\n",
       "      <th></th>\n",
       "      <th>show_id</th>\n",
       "      <th>type</th>\n",
       "      <th>title</th>\n",
       "      <th>director</th>\n",
       "      <th>cast</th>\n",
       "      <th>country</th>\n",
       "      <th>date_added</th>\n",
       "      <th>release_year</th>\n",
       "      <th>rating</th>\n",
       "      <th>duration</th>\n",
       "      <th>listed_in</th>\n",
       "      <th>description</th>\n",
       "    </tr>\n",
       "  </thead>\n",
       "  <tbody>\n",
       "  </tbody>\n",
       "</table>\n",
       "</div>"
      ],
      "text/plain": [
       "Empty DataFrame\n",
       "Columns: [show_id, type, title, director, cast, country, date_added, release_year, rating, duration, listed_in, description]\n",
       "Index: []"
      ]
     },
     "execution_count": 27,
     "metadata": {},
     "output_type": "execute_result"
    }
   ],
   "source": [
    "disney_raw_df[disney_raw_df['rating'].isna()]\n",
    "#nulls replaced by specific values"
   ]
  },
  {
   "cell_type": "code",
   "execution_count": 28,
   "metadata": {},
   "outputs": [
    {
     "data": {
      "text/plain": [
       "show_id           0\n",
       "type              0\n",
       "title             0\n",
       "director        473\n",
       "cast            190\n",
       "country         219\n",
       "date_added        3\n",
       "release_year      0\n",
       "rating            0\n",
       "duration          0\n",
       "listed_in         0\n",
       "description       0\n",
       "dtype: int64"
      ]
     },
     "execution_count": 28,
     "metadata": {},
     "output_type": "execute_result"
    }
   ],
   "source": [
    "disney_raw_df.isna().sum()\n",
    "#checking if the nulls in 'rating' column are treated"
   ]
  },
  {
   "cell_type": "code",
   "execution_count": 29,
   "metadata": {},
   "outputs": [
    {
     "data": {
      "text/html": [
       "<div>\n",
       "<style scoped>\n",
       "    .dataframe tbody tr th:only-of-type {\n",
       "        vertical-align: middle;\n",
       "    }\n",
       "\n",
       "    .dataframe tbody tr th {\n",
       "        vertical-align: top;\n",
       "    }\n",
       "\n",
       "    .dataframe thead th {\n",
       "        text-align: right;\n",
       "    }\n",
       "</style>\n",
       "<table border=\"1\" class=\"dataframe\">\n",
       "  <thead>\n",
       "    <tr style=\"text-align: right;\">\n",
       "      <th></th>\n",
       "      <th>show_id</th>\n",
       "      <th>type</th>\n",
       "      <th>title</th>\n",
       "      <th>director</th>\n",
       "      <th>cast</th>\n",
       "      <th>country</th>\n",
       "      <th>date_added</th>\n",
       "      <th>release_year</th>\n",
       "      <th>rating</th>\n",
       "      <th>duration</th>\n",
       "      <th>listed_in</th>\n",
       "      <th>description</th>\n",
       "    </tr>\n",
       "  </thead>\n",
       "  <tbody>\n",
       "    <tr>\n",
       "      <th>1439</th>\n",
       "      <td>s1440</td>\n",
       "      <td>TV Show</td>\n",
       "      <td>Disney Kirby Buckets</td>\n",
       "      <td>NaN</td>\n",
       "      <td>Jacob Bertrand, Mekai Curtis, Cade Sutton, Oli...</td>\n",
       "      <td>United States</td>\n",
       "      <td>NaT</td>\n",
       "      <td>2014</td>\n",
       "      <td>TV-Y7</td>\n",
       "      <td>3 Seasons</td>\n",
       "      <td>Action-Adventure, Comedy, Coming of Age</td>\n",
       "      <td>Welcome to Kirby's world! It's rude and sketchy.</td>\n",
       "    </tr>\n",
       "    <tr>\n",
       "      <th>1440</th>\n",
       "      <td>s1441</td>\n",
       "      <td>TV Show</td>\n",
       "      <td>Disney Mech-X4</td>\n",
       "      <td>NaN</td>\n",
       "      <td>Nathaniel Potvin, Raymond Cham, Kamran Lucas, ...</td>\n",
       "      <td>Canada</td>\n",
       "      <td>NaT</td>\n",
       "      <td>2016</td>\n",
       "      <td>TV-Y7</td>\n",
       "      <td>2 Seasons</td>\n",
       "      <td>Action-Adventure, Comedy, Science Fiction</td>\n",
       "      <td>Ryan discovers his ability to control a giant ...</td>\n",
       "    </tr>\n",
       "    <tr>\n",
       "      <th>1441</th>\n",
       "      <td>s1442</td>\n",
       "      <td>TV Show</td>\n",
       "      <td>Imagination Movers</td>\n",
       "      <td>NaN</td>\n",
       "      <td>Rich Collins, Dave Poche, Scott Durbin, Scott ...</td>\n",
       "      <td>United States</td>\n",
       "      <td>NaT</td>\n",
       "      <td>2008</td>\n",
       "      <td>TV-Y</td>\n",
       "      <td>3 Seasons</td>\n",
       "      <td>Kids, Music</td>\n",
       "      <td>Rock out with the Imagination Movers, Disney J...</td>\n",
       "    </tr>\n",
       "  </tbody>\n",
       "</table>\n",
       "</div>"
      ],
      "text/plain": [
       "     show_id     type                 title director  \\\n",
       "1439   s1440  TV Show  Disney Kirby Buckets      NaN   \n",
       "1440   s1441  TV Show        Disney Mech-X4      NaN   \n",
       "1441   s1442  TV Show    Imagination Movers      NaN   \n",
       "\n",
       "                                                   cast        country  \\\n",
       "1439  Jacob Bertrand, Mekai Curtis, Cade Sutton, Oli...  United States   \n",
       "1440  Nathaniel Potvin, Raymond Cham, Kamran Lucas, ...         Canada   \n",
       "1441  Rich Collins, Dave Poche, Scott Durbin, Scott ...  United States   \n",
       "\n",
       "     date_added  release_year rating   duration  \\\n",
       "1439        NaT          2014  TV-Y7  3 Seasons   \n",
       "1440        NaT          2016  TV-Y7  2 Seasons   \n",
       "1441        NaT          2008   TV-Y  3 Seasons   \n",
       "\n",
       "                                      listed_in  \\\n",
       "1439    Action-Adventure, Comedy, Coming of Age   \n",
       "1440  Action-Adventure, Comedy, Science Fiction   \n",
       "1441                                Kids, Music   \n",
       "\n",
       "                                            description  \n",
       "1439   Welcome to Kirby's world! It's rude and sketchy.  \n",
       "1440  Ryan discovers his ability to control a giant ...  \n",
       "1441  Rock out with the Imagination Movers, Disney J...  "
      ]
     },
     "execution_count": 29,
     "metadata": {},
     "output_type": "execute_result"
    }
   ],
   "source": [
    "disney_raw_df[disney_raw_df['date_added'].isna()]\n",
    "#checking null values in 'date_added' column"
   ]
  },
  {
   "cell_type": "code",
   "execution_count": 30,
   "metadata": {},
   "outputs": [],
   "source": [
    "# dropping rows with null values for 'date_added' col\n",
    "disney_raw_df.dropna(axis=0, subset =['date_added'],inplace=True)"
   ]
  },
  {
   "cell_type": "code",
   "execution_count": 31,
   "metadata": {},
   "outputs": [
    {
     "data": {
      "text/plain": [
       "show_id           0\n",
       "type              0\n",
       "title             0\n",
       "director        470\n",
       "cast            190\n",
       "country         219\n",
       "date_added        0\n",
       "release_year      0\n",
       "rating            0\n",
       "duration          0\n",
       "listed_in         0\n",
       "description       0\n",
       "dtype: int64"
      ]
     },
     "execution_count": 31,
     "metadata": {},
     "output_type": "execute_result"
    }
   ],
   "source": [
    "disney_raw_df.isna().sum()\n",
    "#checking if the nulls in 'date_added' column are treated"
   ]
  },
  {
   "cell_type": "code",
   "execution_count": 32,
   "metadata": {},
   "outputs": [
    {
     "data": {
      "text/html": [
       "<div>\n",
       "<style scoped>\n",
       "    .dataframe tbody tr th:only-of-type {\n",
       "        vertical-align: middle;\n",
       "    }\n",
       "\n",
       "    .dataframe tbody tr th {\n",
       "        vertical-align: top;\n",
       "    }\n",
       "\n",
       "    .dataframe thead th {\n",
       "        text-align: right;\n",
       "    }\n",
       "</style>\n",
       "<table border=\"1\" class=\"dataframe\">\n",
       "  <thead>\n",
       "    <tr style=\"text-align: right;\">\n",
       "      <th></th>\n",
       "      <th>show_id</th>\n",
       "      <th>type</th>\n",
       "      <th>title</th>\n",
       "      <th>director</th>\n",
       "      <th>cast</th>\n",
       "      <th>country</th>\n",
       "      <th>date_added</th>\n",
       "      <th>release_year</th>\n",
       "      <th>rating</th>\n",
       "      <th>duration</th>\n",
       "      <th>listed_in</th>\n",
       "      <th>description</th>\n",
       "    </tr>\n",
       "  </thead>\n",
       "  <tbody>\n",
       "  </tbody>\n",
       "</table>\n",
       "</div>"
      ],
      "text/plain": [
       "Empty DataFrame\n",
       "Columns: [show_id, type, title, director, cast, country, date_added, release_year, rating, duration, listed_in, description]\n",
       "Index: []"
      ]
     },
     "execution_count": 32,
     "metadata": {},
     "output_type": "execute_result"
    }
   ],
   "source": [
    "#check if null values are dropped\n",
    "disney_raw_df[disney_raw_df['date_added'].isna()]"
   ]
  },
  {
   "cell_type": "code",
   "execution_count": 33,
   "metadata": {
    "scrolled": true
   },
   "outputs": [
    {
     "data": {
      "text/plain": [
       "show_id           0\n",
       "type              0\n",
       "title             0\n",
       "director        470\n",
       "cast            190\n",
       "country         219\n",
       "date_added        0\n",
       "release_year      0\n",
       "rating            0\n",
       "duration          0\n",
       "listed_in         0\n",
       "description       0\n",
       "dtype: int64"
      ]
     },
     "execution_count": 33,
     "metadata": {},
     "output_type": "execute_result"
    }
   ],
   "source": [
    "disney_raw_df.isna().sum()\n",
    "#need to treat for 'director','cast','country' columns"
   ]
  },
  {
   "cell_type": "code",
   "execution_count": 34,
   "metadata": {},
   "outputs": [],
   "source": [
    "#using fillna for null values in 'director','cast','country' columns"
   ]
  },
  {
   "cell_type": "code",
   "execution_count": 35,
   "metadata": {},
   "outputs": [],
   "source": [
    "disney_raw_df.fillna('Data unavailable',inplace=True)"
   ]
  },
  {
   "cell_type": "code",
   "execution_count": 36,
   "metadata": {},
   "outputs": [
    {
     "data": {
      "text/plain": [
       "show_id         0\n",
       "type            0\n",
       "title           0\n",
       "director        0\n",
       "cast            0\n",
       "country         0\n",
       "date_added      0\n",
       "release_year    0\n",
       "rating          0\n",
       "duration        0\n",
       "listed_in       0\n",
       "description     0\n",
       "dtype: int64"
      ]
     },
     "execution_count": 36,
     "metadata": {},
     "output_type": "execute_result"
    }
   ],
   "source": [
    "disney_raw_df.isna().sum()\n",
    "#check if all the null values in the dataframe are treated"
   ]
  },
  {
   "cell_type": "code",
   "execution_count": 37,
   "metadata": {},
   "outputs": [
    {
     "data": {
      "text/html": [
       "<div>\n",
       "<style scoped>\n",
       "    .dataframe tbody tr th:only-of-type {\n",
       "        vertical-align: middle;\n",
       "    }\n",
       "\n",
       "    .dataframe tbody tr th {\n",
       "        vertical-align: top;\n",
       "    }\n",
       "\n",
       "    .dataframe thead th {\n",
       "        text-align: right;\n",
       "    }\n",
       "</style>\n",
       "<table border=\"1\" class=\"dataframe\">\n",
       "  <thead>\n",
       "    <tr style=\"text-align: right;\">\n",
       "      <th></th>\n",
       "      <th>show_id</th>\n",
       "      <th>type</th>\n",
       "      <th>title</th>\n",
       "      <th>director</th>\n",
       "      <th>cast</th>\n",
       "      <th>country</th>\n",
       "      <th>date_added</th>\n",
       "      <th>release_year</th>\n",
       "      <th>rating</th>\n",
       "      <th>duration</th>\n",
       "      <th>listed_in</th>\n",
       "      <th>description</th>\n",
       "    </tr>\n",
       "  </thead>\n",
       "  <tbody>\n",
       "    <tr>\n",
       "      <th>0</th>\n",
       "      <td>s1</td>\n",
       "      <td>Movie</td>\n",
       "      <td>Duck the Halls: A Mickey Mouse Christmas Special</td>\n",
       "      <td>Alonso Ramirez Ramos, Dave Wasson</td>\n",
       "      <td>Chris Diamantopoulos, Tony Anselmo, Tress MacN...</td>\n",
       "      <td>Data unavailable</td>\n",
       "      <td>2021-11-26</td>\n",
       "      <td>2016</td>\n",
       "      <td>TV-G</td>\n",
       "      <td>23 min</td>\n",
       "      <td>Animation, Family</td>\n",
       "      <td>Join Mickey and the gang as they duck the halls!</td>\n",
       "    </tr>\n",
       "    <tr>\n",
       "      <th>1</th>\n",
       "      <td>s2</td>\n",
       "      <td>Movie</td>\n",
       "      <td>Ernest Saves Christmas</td>\n",
       "      <td>John Cherry</td>\n",
       "      <td>Jim Varney, Noelle Parker, Douglas Seale</td>\n",
       "      <td>Data unavailable</td>\n",
       "      <td>2021-11-26</td>\n",
       "      <td>1988</td>\n",
       "      <td>PG</td>\n",
       "      <td>91 min</td>\n",
       "      <td>Comedy</td>\n",
       "      <td>Santa Claus passes his magic bag to a new St. ...</td>\n",
       "    </tr>\n",
       "    <tr>\n",
       "      <th>2</th>\n",
       "      <td>s3</td>\n",
       "      <td>Movie</td>\n",
       "      <td>Ice Age: A Mammoth Christmas</td>\n",
       "      <td>Karen Disher</td>\n",
       "      <td>Raymond Albert Romano, John Leguizamo, Denis L...</td>\n",
       "      <td>United States</td>\n",
       "      <td>2021-11-26</td>\n",
       "      <td>2011</td>\n",
       "      <td>TV-G</td>\n",
       "      <td>23 min</td>\n",
       "      <td>Animation, Comedy, Family</td>\n",
       "      <td>Sid the Sloth is on Santa's naughty list.</td>\n",
       "    </tr>\n",
       "    <tr>\n",
       "      <th>3</th>\n",
       "      <td>s4</td>\n",
       "      <td>Movie</td>\n",
       "      <td>The Queen Family Singalong</td>\n",
       "      <td>Hamish Hamilton</td>\n",
       "      <td>Darren Criss, Adam Lambert, Derek Hough, Alexa...</td>\n",
       "      <td>Data unavailable</td>\n",
       "      <td>2021-11-26</td>\n",
       "      <td>2021</td>\n",
       "      <td>TV-PG</td>\n",
       "      <td>41 min</td>\n",
       "      <td>Musical</td>\n",
       "      <td>This is real life, not just fantasy!</td>\n",
       "    </tr>\n",
       "    <tr>\n",
       "      <th>4</th>\n",
       "      <td>s5</td>\n",
       "      <td>TV Show</td>\n",
       "      <td>The Beatles: Get Back</td>\n",
       "      <td>Data unavailable</td>\n",
       "      <td>John Lennon, Paul McCartney, George Harrison, ...</td>\n",
       "      <td>Data unavailable</td>\n",
       "      <td>2021-11-25</td>\n",
       "      <td>2021</td>\n",
       "      <td>PG-13</td>\n",
       "      <td>1 Season</td>\n",
       "      <td>Docuseries, Historical, Music</td>\n",
       "      <td>A three-part documentary from Peter Jackson ca...</td>\n",
       "    </tr>\n",
       "  </tbody>\n",
       "</table>\n",
       "</div>"
      ],
      "text/plain": [
       "  show_id     type                                             title  \\\n",
       "0      s1    Movie  Duck the Halls: A Mickey Mouse Christmas Special   \n",
       "1      s2    Movie                            Ernest Saves Christmas   \n",
       "2      s3    Movie                      Ice Age: A Mammoth Christmas   \n",
       "3      s4    Movie                        The Queen Family Singalong   \n",
       "4      s5  TV Show                             The Beatles: Get Back   \n",
       "\n",
       "                            director  \\\n",
       "0  Alonso Ramirez Ramos, Dave Wasson   \n",
       "1                        John Cherry   \n",
       "2                       Karen Disher   \n",
       "3                    Hamish Hamilton   \n",
       "4                   Data unavailable   \n",
       "\n",
       "                                                cast           country  \\\n",
       "0  Chris Diamantopoulos, Tony Anselmo, Tress MacN...  Data unavailable   \n",
       "1           Jim Varney, Noelle Parker, Douglas Seale  Data unavailable   \n",
       "2  Raymond Albert Romano, John Leguizamo, Denis L...     United States   \n",
       "3  Darren Criss, Adam Lambert, Derek Hough, Alexa...  Data unavailable   \n",
       "4  John Lennon, Paul McCartney, George Harrison, ...  Data unavailable   \n",
       "\n",
       "  date_added  release_year rating  duration                      listed_in  \\\n",
       "0 2021-11-26          2016   TV-G    23 min              Animation, Family   \n",
       "1 2021-11-26          1988     PG    91 min                         Comedy   \n",
       "2 2021-11-26          2011   TV-G    23 min      Animation, Comedy, Family   \n",
       "3 2021-11-26          2021  TV-PG    41 min                        Musical   \n",
       "4 2021-11-25          2021  PG-13  1 Season  Docuseries, Historical, Music   \n",
       "\n",
       "                                         description  \n",
       "0   Join Mickey and the gang as they duck the halls!  \n",
       "1  Santa Claus passes his magic bag to a new St. ...  \n",
       "2          Sid the Sloth is on Santa's naughty list.  \n",
       "3               This is real life, not just fantasy!  \n",
       "4  A three-part documentary from Peter Jackson ca...  "
      ]
     },
     "execution_count": 37,
     "metadata": {},
     "output_type": "execute_result"
    }
   ],
   "source": [
    "disney_raw_df.head(5)\n",
    "#check how the dataframe looks now"
   ]
  },
  {
   "cell_type": "code",
   "execution_count": 38,
   "metadata": {},
   "outputs": [
    {
     "data": {
      "text/plain": [
       "0"
      ]
     },
     "execution_count": 38,
     "metadata": {},
     "output_type": "execute_result"
    }
   ],
   "source": [
    "#check for duplicates\n",
    "disney_raw_df.duplicated().sum()\n",
    "#no duplicates"
   ]
  },
  {
   "cell_type": "code",
   "execution_count": 39,
   "metadata": {},
   "outputs": [],
   "source": [
    "import jovian"
   ]
  },
  {
   "cell_type": "code",
   "execution_count": 40,
   "metadata": {},
   "outputs": [
    {
     "data": {
      "application/javascript": [
       "window.require && require([\"base/js/namespace\"],function(Jupyter){Jupyter.notebook.save_checkpoint()})"
      ],
      "text/plain": [
       "<IPython.core.display.Javascript object>"
      ]
     },
     "metadata": {},
     "output_type": "display_data"
    },
    {
     "name": "stdout",
     "output_type": "stream",
     "text": [
      "[jovian] Updating notebook \"purva-raut/disney-plus-movies-and-tv-shows\" on https://jovian.ai/\u001b[0m\n",
      "[jovian] Committed successfully! https://jovian.ai/purva-raut/disney-plus-movies-and-tv-shows\u001b[0m\n"
     ]
    },
    {
     "data": {
      "text/plain": [
       "'https://jovian.ai/purva-raut/disney-plus-movies-and-tv-shows'"
      ]
     },
     "execution_count": 40,
     "metadata": {},
     "output_type": "execute_result"
    }
   ],
   "source": [
    "jovian.commit()"
   ]
  },
  {
   "cell_type": "markdown",
   "metadata": {},
   "source": [
    "## Exploratory Analysis and Visualization\n",
    "\n",
    "Here we try to find more information about the data using statistical measures and basic graphs to see distribution of the data and relation between different columns of the data.\n",
    "\n"
   ]
  },
  {
   "cell_type": "markdown",
   "metadata": {},
   "source": [
    "Let's begin by importing`matplotlib.pyplot` and `seaborn`."
   ]
  },
  {
   "cell_type": "code",
   "execution_count": 41,
   "metadata": {},
   "outputs": [],
   "source": [
    "import seaborn as sns\n",
    "import matplotlib\n",
    "import matplotlib.pyplot as plt\n",
    "%matplotlib inline\n",
    "\n",
    "sns.set_style('darkgrid')\n",
    "matplotlib.rcParams['font.size'] = 14\n",
    "matplotlib.rcParams['figure.figsize'] = (9, 5)\n",
    "matplotlib.rcParams['figure.facecolor'] = '#00000000'"
   ]
  },
  {
   "cell_type": "markdown",
   "metadata": {},
   "source": [
    "# Compute the mean, sum, range and other interesting statistics for numeric columns"
   ]
  },
  {
   "cell_type": "code",
   "execution_count": 42,
   "metadata": {},
   "outputs": [
    {
     "data": {
      "text/html": [
       "<div>\n",
       "<style scoped>\n",
       "    .dataframe tbody tr th:only-of-type {\n",
       "        vertical-align: middle;\n",
       "    }\n",
       "\n",
       "    .dataframe tbody tr th {\n",
       "        vertical-align: top;\n",
       "    }\n",
       "\n",
       "    .dataframe thead th {\n",
       "        text-align: right;\n",
       "    }\n",
       "</style>\n",
       "<table border=\"1\" class=\"dataframe\">\n",
       "  <thead>\n",
       "    <tr style=\"text-align: right;\">\n",
       "      <th></th>\n",
       "      <th>release_year</th>\n",
       "    </tr>\n",
       "  </thead>\n",
       "  <tbody>\n",
       "    <tr>\n",
       "      <th>count</th>\n",
       "      <td>1447.000000</td>\n",
       "    </tr>\n",
       "    <tr>\n",
       "      <th>mean</th>\n",
       "      <td>2003.071873</td>\n",
       "    </tr>\n",
       "    <tr>\n",
       "      <th>std</th>\n",
       "      <td>21.877923</td>\n",
       "    </tr>\n",
       "    <tr>\n",
       "      <th>min</th>\n",
       "      <td>1928.000000</td>\n",
       "    </tr>\n",
       "    <tr>\n",
       "      <th>25%</th>\n",
       "      <td>1999.000000</td>\n",
       "    </tr>\n",
       "    <tr>\n",
       "      <th>50%</th>\n",
       "      <td>2011.000000</td>\n",
       "    </tr>\n",
       "    <tr>\n",
       "      <th>75%</th>\n",
       "      <td>2018.000000</td>\n",
       "    </tr>\n",
       "    <tr>\n",
       "      <th>max</th>\n",
       "      <td>2021.000000</td>\n",
       "    </tr>\n",
       "  </tbody>\n",
       "</table>\n",
       "</div>"
      ],
      "text/plain": [
       "       release_year\n",
       "count   1447.000000\n",
       "mean    2003.071873\n",
       "std       21.877923\n",
       "min     1928.000000\n",
       "25%     1999.000000\n",
       "50%     2011.000000\n",
       "75%     2018.000000\n",
       "max     2021.000000"
      ]
     },
     "execution_count": 42,
     "metadata": {},
     "output_type": "execute_result"
    }
   ],
   "source": [
    "disney_raw_df.describe()\n",
    "# Gives the count, mean and other statistical information about the int datatype. \n",
    "# We have only one numeric column that is 'release_year'"
   ]
  },
  {
   "cell_type": "markdown",
   "metadata": {},
   "source": [
    "# Insights:\n",
    "We got to know that the total count of release years is 1447. Earliest release year is 1928 and latest is 2021 from min and max.\n",
    "The average release year is 2003."
   ]
  },
  {
   "cell_type": "markdown",
   "metadata": {},
   "source": [
    "# We can use a histogram to visualize how the values of release_year are distributed."
   ]
  },
  {
   "cell_type": "code",
   "execution_count": 43,
   "metadata": {},
   "outputs": [
    {
     "data": {
      "image/png": "[encoded data removed]",
      "text/plain": [
       "<Figure size 648x360 with 1 Axes>"
      ]
     },
     "metadata": {
      "needs_background": "light"
     },
     "output_type": "display_data"
    }
   ],
   "source": [
    "plt.title(\"Distribution of release year of the Disney content\")\n",
    "\n",
    "sns.histplot(disney_raw_df.release_year, kde=False);"
   ]
  },
  {
   "cell_type": "markdown",
   "metadata": {},
   "source": [
    "# Insights:\n",
    "We got to know that most of the content on Disney plus is from latest years i.e. from 2000 and above. The maximum content is from release year 2020."
   ]
  },
  {
   "cell_type": "markdown",
   "metadata": {},
   "source": [
    "# Let's draw separate histograms for each type"
   ]
  },
  {
   "cell_type": "code",
   "execution_count": 44,
   "metadata": {},
   "outputs": [
    {
     "data": {
      "text/plain": [
       "array(['Movie', 'TV Show'], dtype=object)"
      ]
     },
     "execution_count": 44,
     "metadata": {},
     "output_type": "execute_result"
    }
   ],
   "source": [
    "disney_raw_df['type'].unique()\n",
    "#checking unique values in 'type' column"
   ]
  },
  {
   "cell_type": "code",
   "execution_count": 45,
   "metadata": {},
   "outputs": [],
   "source": [
    "movies_df = disney_raw_df[disney_raw_df.type == 'Movie']\n",
    "tv_shows_df = disney_raw_df[disney_raw_df.type == 'TV Show']\n",
    "#created 2 separate dataframes for movies and TV Shows which will be useful for plotting multiple histograms."
   ]
  },
  {
   "cell_type": "code",
   "execution_count": 46,
   "metadata": {},
   "outputs": [
    {
     "data": {
      "image/png": "[encoded data removed]",
      "text/plain": [
       "<Figure size 648x360 with 1 Axes>"
      ]
     },
     "metadata": {
      "needs_background": "light"
     },
     "output_type": "display_data"
    }
   ],
   "source": [
    "plt.hist(movies_df.release_year, alpha=0.4);\n",
    "plt.hist(tv_shows_df.release_year, alpha=0.4);\n",
    "plt.legend(['Movie', 'TV Show']);"
   ]
  },
  {
   "cell_type": "markdown",
   "metadata": {},
   "source": [
    "# Insights:\n",
    "We got to know that most of the distribution for the release_year for Movies and TV shows on Disney plus is from latest years.\n",
    "Movies are added from before 1940 and above whereas TV shows are added from 1980 and above."
   ]
  },
  {
   "cell_type": "markdown",
   "metadata": {},
   "source": [
    "# Compute the mean, sum, range and other interesting statistics for datetime column"
   ]
  },
  {
   "cell_type": "code",
   "execution_count": 47,
   "metadata": {},
   "outputs": [
    {
     "data": {
      "text/plain": [
       "count                             1447\n",
       "mean     2020-05-22 01:54:26.620594176\n",
       "min                2019-10-01 00:00:00\n",
       "25%                2019-11-12 00:00:00\n",
       "50%                2019-11-12 00:00:00\n",
       "75%                2020-11-26 00:00:00\n",
       "max                2021-11-26 00:00:00\n",
       "Name: date_added, dtype: object"
      ]
     },
     "execution_count": 47,
     "metadata": {},
     "output_type": "execute_result"
    }
   ],
   "source": [
    "disney_raw_df['date_added'].describe(datetime_is_numeric=True)"
   ]
  },
  {
   "cell_type": "markdown",
   "metadata": {},
   "source": [
    "# Insights:\n",
    "We got to know that the earliest date of adding the content is 2019-10-01 and latest is 2021-11-26 from min and max.\n",
    "So the data we are working on had content added from Oct 2019 to Nov 2021."
   ]
  },
  {
   "cell_type": "markdown",
   "metadata": {},
   "source": [
    "**TODO** - Explore one or more columns by plotting a graph below, and add some explanation about it"
   ]
  },
  {
   "cell_type": "code",
   "execution_count": 48,
   "metadata": {},
   "outputs": [
    {
     "data": {
      "text/html": [
       "<div>\n",
       "<style scoped>\n",
       "    .dataframe tbody tr th:only-of-type {\n",
       "        vertical-align: middle;\n",
       "    }\n",
       "\n",
       "    .dataframe tbody tr th {\n",
       "        vertical-align: top;\n",
       "    }\n",
       "\n",
       "    .dataframe thead th {\n",
       "        text-align: right;\n",
       "    }\n",
       "</style>\n",
       "<table border=\"1\" class=\"dataframe\">\n",
       "  <thead>\n",
       "    <tr style=\"text-align: right;\">\n",
       "      <th></th>\n",
       "      <th>show_id</th>\n",
       "      <th>type</th>\n",
       "      <th>title</th>\n",
       "      <th>director</th>\n",
       "      <th>cast</th>\n",
       "      <th>country</th>\n",
       "      <th>date_added</th>\n",
       "      <th>release_year</th>\n",
       "      <th>rating</th>\n",
       "      <th>duration</th>\n",
       "      <th>listed_in</th>\n",
       "      <th>description</th>\n",
       "    </tr>\n",
       "  </thead>\n",
       "  <tbody>\n",
       "    <tr>\n",
       "      <th>0</th>\n",
       "      <td>s1</td>\n",
       "      <td>Movie</td>\n",
       "      <td>Duck the Halls: A Mickey Mouse Christmas Special</td>\n",
       "      <td>Alonso Ramirez Ramos, Dave Wasson</td>\n",
       "      <td>Chris Diamantopoulos, Tony Anselmo, Tress MacN...</td>\n",
       "      <td>Data unavailable</td>\n",
       "      <td>2021-11-26</td>\n",
       "      <td>2016</td>\n",
       "      <td>TV-G</td>\n",
       "      <td>23 min</td>\n",
       "      <td>Animation, Family</td>\n",
       "      <td>Join Mickey and the gang as they duck the halls!</td>\n",
       "    </tr>\n",
       "    <tr>\n",
       "      <th>1</th>\n",
       "      <td>s2</td>\n",
       "      <td>Movie</td>\n",
       "      <td>Ernest Saves Christmas</td>\n",
       "      <td>John Cherry</td>\n",
       "      <td>Jim Varney, Noelle Parker, Douglas Seale</td>\n",
       "      <td>Data unavailable</td>\n",
       "      <td>2021-11-26</td>\n",
       "      <td>1988</td>\n",
       "      <td>PG</td>\n",
       "      <td>91 min</td>\n",
       "      <td>Comedy</td>\n",
       "      <td>Santa Claus passes his magic bag to a new St. ...</td>\n",
       "    </tr>\n",
       "    <tr>\n",
       "      <th>2</th>\n",
       "      <td>s3</td>\n",
       "      <td>Movie</td>\n",
       "      <td>Ice Age: A Mammoth Christmas</td>\n",
       "      <td>Karen Disher</td>\n",
       "      <td>Raymond Albert Romano, John Leguizamo, Denis L...</td>\n",
       "      <td>United States</td>\n",
       "      <td>2021-11-26</td>\n",
       "      <td>2011</td>\n",
       "      <td>TV-G</td>\n",
       "      <td>23 min</td>\n",
       "      <td>Animation, Comedy, Family</td>\n",
       "      <td>Sid the Sloth is on Santa's naughty list.</td>\n",
       "    </tr>\n",
       "    <tr>\n",
       "      <th>3</th>\n",
       "      <td>s4</td>\n",
       "      <td>Movie</td>\n",
       "      <td>The Queen Family Singalong</td>\n",
       "      <td>Hamish Hamilton</td>\n",
       "      <td>Darren Criss, Adam Lambert, Derek Hough, Alexa...</td>\n",
       "      <td>Data unavailable</td>\n",
       "      <td>2021-11-26</td>\n",
       "      <td>2021</td>\n",
       "      <td>TV-PG</td>\n",
       "      <td>41 min</td>\n",
       "      <td>Musical</td>\n",
       "      <td>This is real life, not just fantasy!</td>\n",
       "    </tr>\n",
       "    <tr>\n",
       "      <th>5</th>\n",
       "      <td>s6</td>\n",
       "      <td>Movie</td>\n",
       "      <td>Becoming Cousteau</td>\n",
       "      <td>Liz Garbus</td>\n",
       "      <td>Jacques Yves Cousteau, Vincent Cassel</td>\n",
       "      <td>United States</td>\n",
       "      <td>2021-11-24</td>\n",
       "      <td>2021</td>\n",
       "      <td>PG-13</td>\n",
       "      <td>94 min</td>\n",
       "      <td>Biographical, Documentary</td>\n",
       "      <td>An inside look at the legendary life of advent...</td>\n",
       "    </tr>\n",
       "  </tbody>\n",
       "</table>\n",
       "</div>"
      ],
      "text/plain": [
       "  show_id   type                                             title  \\\n",
       "0      s1  Movie  Duck the Halls: A Mickey Mouse Christmas Special   \n",
       "1      s2  Movie                            Ernest Saves Christmas   \n",
       "2      s3  Movie                      Ice Age: A Mammoth Christmas   \n",
       "3      s4  Movie                        The Queen Family Singalong   \n",
       "5      s6  Movie                                 Becoming Cousteau   \n",
       "\n",
       "                            director  \\\n",
       "0  Alonso Ramirez Ramos, Dave Wasson   \n",
       "1                        John Cherry   \n",
       "2                       Karen Disher   \n",
       "3                    Hamish Hamilton   \n",
       "5                         Liz Garbus   \n",
       "\n",
       "                                                cast           country  \\\n",
       "0  Chris Diamantopoulos, Tony Anselmo, Tress MacN...  Data unavailable   \n",
       "1           Jim Varney, Noelle Parker, Douglas Seale  Data unavailable   \n",
       "2  Raymond Albert Romano, John Leguizamo, Denis L...     United States   \n",
       "3  Darren Criss, Adam Lambert, Derek Hough, Alexa...  Data unavailable   \n",
       "5              Jacques Yves Cousteau, Vincent Cassel     United States   \n",
       "\n",
       "  date_added  release_year rating duration                  listed_in  \\\n",
       "0 2021-11-26          2016   TV-G   23 min          Animation, Family   \n",
       "1 2021-11-26          1988     PG   91 min                     Comedy   \n",
       "2 2021-11-26          2011   TV-G   23 min  Animation, Comedy, Family   \n",
       "3 2021-11-26          2021  TV-PG   41 min                    Musical   \n",
       "5 2021-11-24          2021  PG-13   94 min  Biographical, Documentary   \n",
       "\n",
       "                                         description  \n",
       "0   Join Mickey and the gang as they duck the halls!  \n",
       "1  Santa Claus passes his magic bag to a new St. ...  \n",
       "2          Sid the Sloth is on Santa's naughty list.  \n",
       "3               This is real life, not just fantasy!  \n",
       "5  An inside look at the legendary life of advent...  "
      ]
     },
     "execution_count": 48,
     "metadata": {},
     "output_type": "execute_result"
    }
   ],
   "source": [
    "movies_df.head()"
   ]
  },
  {
   "cell_type": "code",
   "execution_count": 49,
   "metadata": {},
   "outputs": [
    {
     "name": "stderr",
     "output_type": "stream",
     "text": [
      "C:\\Users\\PURVAR~1\\AppData\\Local\\Temp/ipykernel_12588/541775181.py:2: SettingWithCopyWarning: \n",
      "A value is trying to be set on a copy of a slice from a DataFrame.\n",
      "Try using .loc[row_indexer,col_indexer] = value instead\n",
      "\n",
      "See the caveats in the documentation: https://pandas.pydata.org/pandas-docs/stable/user_guide/indexing.html#returning-a-view-versus-a-copy\n",
      "  movies_df['duration'] = movies_df['duration'].apply(lambda x :str(x).replace('min','')if 'min' in str(x) else x)\n"
     ]
    }
   ],
   "source": [
    "#Replace 'min' with blank in for values in the 'duration' column\n",
    "movies_df['duration'] = movies_df['duration'].apply(lambda x :str(x).replace('min','')if 'min' in str(x) else x)"
   ]
  },
  {
   "cell_type": "code",
   "execution_count": 50,
   "metadata": {
    "scrolled": true
   },
   "outputs": [
    {
     "data": {
      "text/html": [
       "<div>\n",
       "<style scoped>\n",
       "    .dataframe tbody tr th:only-of-type {\n",
       "        vertical-align: middle;\n",
       "    }\n",
       "\n",
       "    .dataframe tbody tr th {\n",
       "        vertical-align: top;\n",
       "    }\n",
       "\n",
       "    .dataframe thead th {\n",
       "        text-align: right;\n",
       "    }\n",
       "</style>\n",
       "<table border=\"1\" class=\"dataframe\">\n",
       "  <thead>\n",
       "    <tr style=\"text-align: right;\">\n",
       "      <th></th>\n",
       "      <th>show_id</th>\n",
       "      <th>type</th>\n",
       "      <th>title</th>\n",
       "      <th>director</th>\n",
       "      <th>cast</th>\n",
       "      <th>country</th>\n",
       "      <th>date_added</th>\n",
       "      <th>release_year</th>\n",
       "      <th>rating</th>\n",
       "      <th>duration</th>\n",
       "      <th>listed_in</th>\n",
       "      <th>description</th>\n",
       "    </tr>\n",
       "  </thead>\n",
       "  <tbody>\n",
       "    <tr>\n",
       "      <th>0</th>\n",
       "      <td>s1</td>\n",
       "      <td>Movie</td>\n",
       "      <td>Duck the Halls: A Mickey Mouse Christmas Special</td>\n",
       "      <td>Alonso Ramirez Ramos, Dave Wasson</td>\n",
       "      <td>Chris Diamantopoulos, Tony Anselmo, Tress MacN...</td>\n",
       "      <td>Data unavailable</td>\n",
       "      <td>2021-11-26</td>\n",
       "      <td>2016</td>\n",
       "      <td>TV-G</td>\n",
       "      <td>23</td>\n",
       "      <td>Animation, Family</td>\n",
       "      <td>Join Mickey and the gang as they duck the halls!</td>\n",
       "    </tr>\n",
       "    <tr>\n",
       "      <th>1</th>\n",
       "      <td>s2</td>\n",
       "      <td>Movie</td>\n",
       "      <td>Ernest Saves Christmas</td>\n",
       "      <td>John Cherry</td>\n",
       "      <td>Jim Varney, Noelle Parker, Douglas Seale</td>\n",
       "      <td>Data unavailable</td>\n",
       "      <td>2021-11-26</td>\n",
       "      <td>1988</td>\n",
       "      <td>PG</td>\n",
       "      <td>91</td>\n",
       "      <td>Comedy</td>\n",
       "      <td>Santa Claus passes his magic bag to a new St. ...</td>\n",
       "    </tr>\n",
       "    <tr>\n",
       "      <th>2</th>\n",
       "      <td>s3</td>\n",
       "      <td>Movie</td>\n",
       "      <td>Ice Age: A Mammoth Christmas</td>\n",
       "      <td>Karen Disher</td>\n",
       "      <td>Raymond Albert Romano, John Leguizamo, Denis L...</td>\n",
       "      <td>United States</td>\n",
       "      <td>2021-11-26</td>\n",
       "      <td>2011</td>\n",
       "      <td>TV-G</td>\n",
       "      <td>23</td>\n",
       "      <td>Animation, Comedy, Family</td>\n",
       "      <td>Sid the Sloth is on Santa's naughty list.</td>\n",
       "    </tr>\n",
       "    <tr>\n",
       "      <th>3</th>\n",
       "      <td>s4</td>\n",
       "      <td>Movie</td>\n",
       "      <td>The Queen Family Singalong</td>\n",
       "      <td>Hamish Hamilton</td>\n",
       "      <td>Darren Criss, Adam Lambert, Derek Hough, Alexa...</td>\n",
       "      <td>Data unavailable</td>\n",
       "      <td>2021-11-26</td>\n",
       "      <td>2021</td>\n",
       "      <td>TV-PG</td>\n",
       "      <td>41</td>\n",
       "      <td>Musical</td>\n",
       "      <td>This is real life, not just fantasy!</td>\n",
       "    </tr>\n",
       "    <tr>\n",
       "      <th>5</th>\n",
       "      <td>s6</td>\n",
       "      <td>Movie</td>\n",
       "      <td>Becoming Cousteau</td>\n",
       "      <td>Liz Garbus</td>\n",
       "      <td>Jacques Yves Cousteau, Vincent Cassel</td>\n",
       "      <td>United States</td>\n",
       "      <td>2021-11-24</td>\n",
       "      <td>2021</td>\n",
       "      <td>PG-13</td>\n",
       "      <td>94</td>\n",
       "      <td>Biographical, Documentary</td>\n",
       "      <td>An inside look at the legendary life of advent...</td>\n",
       "    </tr>\n",
       "  </tbody>\n",
       "</table>\n",
       "</div>"
      ],
      "text/plain": [
       "  show_id   type                                             title  \\\n",
       "0      s1  Movie  Duck the Halls: A Mickey Mouse Christmas Special   \n",
       "1      s2  Movie                            Ernest Saves Christmas   \n",
       "2      s3  Movie                      Ice Age: A Mammoth Christmas   \n",
       "3      s4  Movie                        The Queen Family Singalong   \n",
       "5      s6  Movie                                 Becoming Cousteau   \n",
       "\n",
       "                            director  \\\n",
       "0  Alonso Ramirez Ramos, Dave Wasson   \n",
       "1                        John Cherry   \n",
       "2                       Karen Disher   \n",
       "3                    Hamish Hamilton   \n",
       "5                         Liz Garbus   \n",
       "\n",
       "                                                cast           country  \\\n",
       "0  Chris Diamantopoulos, Tony Anselmo, Tress MacN...  Data unavailable   \n",
       "1           Jim Varney, Noelle Parker, Douglas Seale  Data unavailable   \n",
       "2  Raymond Albert Romano, John Leguizamo, Denis L...     United States   \n",
       "3  Darren Criss, Adam Lambert, Derek Hough, Alexa...  Data unavailable   \n",
       "5              Jacques Yves Cousteau, Vincent Cassel     United States   \n",
       "\n",
       "  date_added  release_year rating duration                  listed_in  \\\n",
       "0 2021-11-26          2016   TV-G      23           Animation, Family   \n",
       "1 2021-11-26          1988     PG      91                      Comedy   \n",
       "2 2021-11-26          2011   TV-G      23   Animation, Comedy, Family   \n",
       "3 2021-11-26          2021  TV-PG      41                     Musical   \n",
       "5 2021-11-24          2021  PG-13      94   Biographical, Documentary   \n",
       "\n",
       "                                         description  \n",
       "0   Join Mickey and the gang as they duck the halls!  \n",
       "1  Santa Claus passes his magic bag to a new St. ...  \n",
       "2          Sid the Sloth is on Santa's naughty list.  \n",
       "3               This is real life, not just fantasy!  \n",
       "5  An inside look at the legendary life of advent...  "
      ]
     },
     "execution_count": 50,
     "metadata": {},
     "output_type": "execute_result"
    }
   ],
   "source": [
    "movies_df.head()"
   ]
  },
  {
   "cell_type": "code",
   "execution_count": 51,
   "metadata": {},
   "outputs": [
    {
     "name": "stderr",
     "output_type": "stream",
     "text": [
      "C:\\Users\\PURVAR~1\\AppData\\Local\\Temp/ipykernel_12588/2217136814.py:2: SettingWithCopyWarning: \n",
      "A value is trying to be set on a copy of a slice from a DataFrame.\n",
      "Try using .loc[row_indexer,col_indexer] = value instead\n",
      "\n",
      "See the caveats in the documentation: https://pandas.pydata.org/pandas-docs/stable/user_guide/indexing.html#returning-a-view-versus-a-copy\n",
      "  movies_df['duration'] = pd.to_numeric(movies_df['duration'])\n"
     ]
    }
   ],
   "source": [
    "#Convert 'duration' column from object to into numeric data type\n",
    "movies_df['duration'] = pd.to_numeric(movies_df['duration'])"
   ]
  },
  {
   "cell_type": "code",
   "execution_count": 52,
   "metadata": {},
   "outputs": [
    {
     "name": "stdout",
     "output_type": "stream",
     "text": [
      "<class 'pandas.core.frame.DataFrame'>\n",
      "Int64Index: 1052 entries, 0 to 1449\n",
      "Data columns (total 12 columns):\n",
      " #   Column        Non-Null Count  Dtype         \n",
      "---  ------        --------------  -----         \n",
      " 0   show_id       1052 non-null   object        \n",
      " 1   type          1052 non-null   object        \n",
      " 2   title         1052 non-null   object        \n",
      " 3   director      1052 non-null   object        \n",
      " 4   cast          1052 non-null   object        \n",
      " 5   country       1052 non-null   object        \n",
      " 6   date_added    1052 non-null   datetime64[ns]\n",
      " 7   release_year  1052 non-null   int64         \n",
      " 8   rating        1052 non-null   object        \n",
      " 9   duration      1052 non-null   int64         \n",
      " 10  listed_in     1052 non-null   object        \n",
      " 11  description   1052 non-null   object        \n",
      "dtypes: datetime64[ns](1), int64(2), object(9)\n",
      "memory usage: 106.8+ KB\n"
     ]
    }
   ],
   "source": [
    "movies_df.info()"
   ]
  },
  {
   "cell_type": "code",
   "execution_count": 53,
   "metadata": {},
   "outputs": [
    {
     "data": {
      "image/png": "[encoded data removed]",
      "text/plain": [
       "<Figure size 648x360 with 1 Axes>"
      ]
     },
     "metadata": {
      "needs_background": "light"
     },
     "output_type": "display_data"
    }
   ],
   "source": [
    "#check relationship between duration and release_year\n",
    "sns.scatterplot(x=movies_df.release_year, y=movies_df.duration);"
   ]
  },
  {
   "cell_type": "markdown",
   "metadata": {},
   "source": [
    "# Insights:\n",
    "We can say that there is no correlation between release_year and the duration of the movie. We can observe that in the years around 1950 to 1985 no movies added were of lesser duration."
   ]
  },
  {
   "cell_type": "markdown",
   "metadata": {},
   "source": [
    "Let us save and upload our work to Jovian before continuing"
   ]
  },
  {
   "cell_type": "code",
   "execution_count": 54,
   "metadata": {},
   "outputs": [],
   "source": [
    "import jovian"
   ]
  },
  {
   "cell_type": "code",
   "execution_count": 55,
   "metadata": {},
   "outputs": [
    {
     "data": {
      "application/javascript": [
       "window.require && require([\"base/js/namespace\"],function(Jupyter){Jupyter.notebook.save_checkpoint()})"
      ],
      "text/plain": [
       "<IPython.core.display.Javascript object>"
      ]
     },
     "metadata": {},
     "output_type": "display_data"
    },
    {
     "name": "stdout",
     "output_type": "stream",
     "text": [
      "[jovian] Updating notebook \"purva-raut/disney-plus-movies-and-tv-shows\" on https://jovian.ai/\u001b[0m\n",
      "[jovian] Committed successfully! https://jovian.ai/purva-raut/disney-plus-movies-and-tv-shows\u001b[0m\n"
     ]
    },
    {
     "data": {
      "text/plain": [
       "'https://jovian.ai/purva-raut/disney-plus-movies-and-tv-shows'"
      ]
     },
     "execution_count": 55,
     "metadata": {},
     "output_type": "execute_result"
    }
   ],
   "source": [
    "jovian.commit()"
   ]
  },
  {
   "cell_type": "markdown",
   "metadata": {},
   "source": [
    "## Asking and Answering Questions\n",
    "\n",
    "Lets form some interesting questions and try to fing answers to the questions.\n",
    "\n"
   ]
  },
  {
   "cell_type": "markdown",
   "metadata": {},
   "source": [
    "#### Q1: Find out which release_year has max no. of movies+tv shows.Then find out of them how many are movies and tv shows."
   ]
  },
  {
   "cell_type": "code",
   "execution_count": 56,
   "metadata": {},
   "outputs": [],
   "source": [
    "#Use groupby to group the data with'release_year' and aggregate count on type to find no. of content for each release_year \n",
    "year_count = disney_raw_df.groupby(['release_year']).agg( Count = ('type','count'))"
   ]
  },
  {
   "cell_type": "code",
   "execution_count": 57,
   "metadata": {},
   "outputs": [
    {
     "data": {
      "text/html": [
       "<div>\n",
       "<style scoped>\n",
       "    .dataframe tbody tr th:only-of-type {\n",
       "        vertical-align: middle;\n",
       "    }\n",
       "\n",
       "    .dataframe tbody tr th {\n",
       "        vertical-align: top;\n",
       "    }\n",
       "\n",
       "    .dataframe thead th {\n",
       "        text-align: right;\n",
       "    }\n",
       "</style>\n",
       "<table border=\"1\" class=\"dataframe\">\n",
       "  <thead>\n",
       "    <tr style=\"text-align: right;\">\n",
       "      <th></th>\n",
       "      <th>Count</th>\n",
       "    </tr>\n",
       "    <tr>\n",
       "      <th>release_year</th>\n",
       "      <th></th>\n",
       "    </tr>\n",
       "  </thead>\n",
       "  <tbody>\n",
       "    <tr>\n",
       "      <th>2021</th>\n",
       "      <td>125</td>\n",
       "    </tr>\n",
       "    <tr>\n",
       "      <th>2020</th>\n",
       "      <td>114</td>\n",
       "    </tr>\n",
       "    <tr>\n",
       "      <th>2019</th>\n",
       "      <td>99</td>\n",
       "    </tr>\n",
       "    <tr>\n",
       "      <th>2017</th>\n",
       "      <td>69</td>\n",
       "    </tr>\n",
       "    <tr>\n",
       "      <th>2018</th>\n",
       "      <td>65</td>\n",
       "    </tr>\n",
       "    <tr>\n",
       "      <th>...</th>\n",
       "      <td>...</td>\n",
       "    </tr>\n",
       "    <tr>\n",
       "      <th>1944</th>\n",
       "      <td>1</td>\n",
       "    </tr>\n",
       "    <tr>\n",
       "      <th>1945</th>\n",
       "      <td>1</td>\n",
       "    </tr>\n",
       "    <tr>\n",
       "      <th>1968</th>\n",
       "      <td>1</td>\n",
       "    </tr>\n",
       "    <tr>\n",
       "      <th>1970</th>\n",
       "      <td>1</td>\n",
       "    </tr>\n",
       "    <tr>\n",
       "      <th>1928</th>\n",
       "      <td>1</td>\n",
       "    </tr>\n",
       "  </tbody>\n",
       "</table>\n",
       "<p>90 rows × 1 columns</p>\n",
       "</div>"
      ],
      "text/plain": [
       "              Count\n",
       "release_year       \n",
       "2021            125\n",
       "2020            114\n",
       "2019             99\n",
       "2017             69\n",
       "2018             65\n",
       "...             ...\n",
       "1944              1\n",
       "1945              1\n",
       "1968              1\n",
       "1970              1\n",
       "1928              1\n",
       "\n",
       "[90 rows x 1 columns]"
      ]
     },
     "execution_count": 57,
     "metadata": {},
     "output_type": "execute_result"
    }
   ],
   "source": [
    "#sorting values by descending order to get max no. on the top\n",
    "year_count.sort_values(by='Count',ascending=False)"
   ]
  },
  {
   "cell_type": "code",
   "execution_count": 58,
   "metadata": {},
   "outputs": [],
   "source": [
    "#Year 2021 has max no. of movies+tv shows which are 125."
   ]
  },
  {
   "cell_type": "code",
   "execution_count": 59,
   "metadata": {},
   "outputs": [],
   "source": [
    "#creatinh new dataframe with data only for year 2021\n",
    "disney_2021_df =disney_raw_df[disney_raw_df.release_year==2021]"
   ]
  },
  {
   "cell_type": "code",
   "execution_count": 60,
   "metadata": {},
   "outputs": [
    {
     "data": {
      "text/plain": [
       "Movie      70\n",
       "TV Show    55\n",
       "Name: type, dtype: int64"
      ]
     },
     "execution_count": 60,
     "metadata": {},
     "output_type": "execute_result"
    }
   ],
   "source": [
    "#this gives direct result for no. of movies and TV shows for in the dataframe\n",
    "disney_2021_df['type'].value_counts()"
   ]
  },
  {
   "cell_type": "code",
   "execution_count": 61,
   "metadata": {},
   "outputs": [
    {
     "data": {
      "image/png": "[encoded data removed]",
      "text/plain": [
       "<Figure size 648x360 with 1 Axes>"
      ]
     },
     "metadata": {
      "needs_background": "light"
     },
     "output_type": "display_data"
    }
   ],
   "source": [
    "#plotting bar graph- countplot for counting the no. of times the value repeated itself in the dataframe.\n",
    "#We have used matplotlib for title and seaborn for plotting the countplot.\n",
    "plt.title('Disney+ content for Release Year 2021')\n",
    "\n",
    "ax = sns.countplot(x=disney_2021_df['type'],\n",
    "                   order=disney_2021_df['type'].value_counts(ascending=False).index);\n",
    "\n",
    "abs_values = disney_2021_df['type'].value_counts(ascending=False).values\n",
    "\n",
    "ax.bar_label(container=ax.containers[0], labels=abs_values);"
   ]
  },
  {
   "cell_type": "code",
   "execution_count": 62,
   "metadata": {},
   "outputs": [],
   "source": [
    "#Year 2021 has max no. of movies+tv shows which are 125 out of which 70 are Movies and 55 are TV Shows."
   ]
  },
  {
   "cell_type": "markdown",
   "metadata": {},
   "source": [
    "#### Q2: Classify movies into 4 buckets and plot them <30 min(Short), Between 30 and 60 mins(Medium), Between 60 and 120 mins(Normal),>120(Long) movies and draw inference."
   ]
  },
  {
   "cell_type": "code",
   "execution_count": 63,
   "metadata": {},
   "outputs": [
    {
     "data": {
      "text/html": [
       "<div>\n",
       "<style scoped>\n",
       "    .dataframe tbody tr th:only-of-type {\n",
       "        vertical-align: middle;\n",
       "    }\n",
       "\n",
       "    .dataframe tbody tr th {\n",
       "        vertical-align: top;\n",
       "    }\n",
       "\n",
       "    .dataframe thead th {\n",
       "        text-align: right;\n",
       "    }\n",
       "</style>\n",
       "<table border=\"1\" class=\"dataframe\">\n",
       "  <thead>\n",
       "    <tr style=\"text-align: right;\">\n",
       "      <th></th>\n",
       "      <th>show_id</th>\n",
       "      <th>type</th>\n",
       "      <th>title</th>\n",
       "      <th>director</th>\n",
       "      <th>cast</th>\n",
       "      <th>country</th>\n",
       "      <th>date_added</th>\n",
       "      <th>release_year</th>\n",
       "      <th>rating</th>\n",
       "      <th>duration</th>\n",
       "      <th>listed_in</th>\n",
       "      <th>description</th>\n",
       "    </tr>\n",
       "  </thead>\n",
       "  <tbody>\n",
       "    <tr>\n",
       "      <th>0</th>\n",
       "      <td>s1</td>\n",
       "      <td>Movie</td>\n",
       "      <td>Duck the Halls: A Mickey Mouse Christmas Special</td>\n",
       "      <td>Alonso Ramirez Ramos, Dave Wasson</td>\n",
       "      <td>Chris Diamantopoulos, Tony Anselmo, Tress MacN...</td>\n",
       "      <td>Data unavailable</td>\n",
       "      <td>2021-11-26</td>\n",
       "      <td>2016</td>\n",
       "      <td>TV-G</td>\n",
       "      <td>23</td>\n",
       "      <td>Animation, Family</td>\n",
       "      <td>Join Mickey and the gang as they duck the halls!</td>\n",
       "    </tr>\n",
       "    <tr>\n",
       "      <th>1</th>\n",
       "      <td>s2</td>\n",
       "      <td>Movie</td>\n",
       "      <td>Ernest Saves Christmas</td>\n",
       "      <td>John Cherry</td>\n",
       "      <td>Jim Varney, Noelle Parker, Douglas Seale</td>\n",
       "      <td>Data unavailable</td>\n",
       "      <td>2021-11-26</td>\n",
       "      <td>1988</td>\n",
       "      <td>PG</td>\n",
       "      <td>91</td>\n",
       "      <td>Comedy</td>\n",
       "      <td>Santa Claus passes his magic bag to a new St. ...</td>\n",
       "    </tr>\n",
       "    <tr>\n",
       "      <th>2</th>\n",
       "      <td>s3</td>\n",
       "      <td>Movie</td>\n",
       "      <td>Ice Age: A Mammoth Christmas</td>\n",
       "      <td>Karen Disher</td>\n",
       "      <td>Raymond Albert Romano, John Leguizamo, Denis L...</td>\n",
       "      <td>United States</td>\n",
       "      <td>2021-11-26</td>\n",
       "      <td>2011</td>\n",
       "      <td>TV-G</td>\n",
       "      <td>23</td>\n",
       "      <td>Animation, Comedy, Family</td>\n",
       "      <td>Sid the Sloth is on Santa's naughty list.</td>\n",
       "    </tr>\n",
       "    <tr>\n",
       "      <th>3</th>\n",
       "      <td>s4</td>\n",
       "      <td>Movie</td>\n",
       "      <td>The Queen Family Singalong</td>\n",
       "      <td>Hamish Hamilton</td>\n",
       "      <td>Darren Criss, Adam Lambert, Derek Hough, Alexa...</td>\n",
       "      <td>Data unavailable</td>\n",
       "      <td>2021-11-26</td>\n",
       "      <td>2021</td>\n",
       "      <td>TV-PG</td>\n",
       "      <td>41</td>\n",
       "      <td>Musical</td>\n",
       "      <td>This is real life, not just fantasy!</td>\n",
       "    </tr>\n",
       "    <tr>\n",
       "      <th>5</th>\n",
       "      <td>s6</td>\n",
       "      <td>Movie</td>\n",
       "      <td>Becoming Cousteau</td>\n",
       "      <td>Liz Garbus</td>\n",
       "      <td>Jacques Yves Cousteau, Vincent Cassel</td>\n",
       "      <td>United States</td>\n",
       "      <td>2021-11-24</td>\n",
       "      <td>2021</td>\n",
       "      <td>PG-13</td>\n",
       "      <td>94</td>\n",
       "      <td>Biographical, Documentary</td>\n",
       "      <td>An inside look at the legendary life of advent...</td>\n",
       "    </tr>\n",
       "  </tbody>\n",
       "</table>\n",
       "</div>"
      ],
      "text/plain": [
       "  show_id   type                                             title  \\\n",
       "0      s1  Movie  Duck the Halls: A Mickey Mouse Christmas Special   \n",
       "1      s2  Movie                            Ernest Saves Christmas   \n",
       "2      s3  Movie                      Ice Age: A Mammoth Christmas   \n",
       "3      s4  Movie                        The Queen Family Singalong   \n",
       "5      s6  Movie                                 Becoming Cousteau   \n",
       "\n",
       "                            director  \\\n",
       "0  Alonso Ramirez Ramos, Dave Wasson   \n",
       "1                        John Cherry   \n",
       "2                       Karen Disher   \n",
       "3                    Hamish Hamilton   \n",
       "5                         Liz Garbus   \n",
       "\n",
       "                                                cast           country  \\\n",
       "0  Chris Diamantopoulos, Tony Anselmo, Tress MacN...  Data unavailable   \n",
       "1           Jim Varney, Noelle Parker, Douglas Seale  Data unavailable   \n",
       "2  Raymond Albert Romano, John Leguizamo, Denis L...     United States   \n",
       "3  Darren Criss, Adam Lambert, Derek Hough, Alexa...  Data unavailable   \n",
       "5              Jacques Yves Cousteau, Vincent Cassel     United States   \n",
       "\n",
       "  date_added  release_year rating  duration                  listed_in  \\\n",
       "0 2021-11-26          2016   TV-G        23          Animation, Family   \n",
       "1 2021-11-26          1988     PG        91                     Comedy   \n",
       "2 2021-11-26          2011   TV-G        23  Animation, Comedy, Family   \n",
       "3 2021-11-26          2021  TV-PG        41                    Musical   \n",
       "5 2021-11-24          2021  PG-13        94  Biographical, Documentary   \n",
       "\n",
       "                                         description  \n",
       "0   Join Mickey and the gang as they duck the halls!  \n",
       "1  Santa Claus passes his magic bag to a new St. ...  \n",
       "2          Sid the Sloth is on Santa's naughty list.  \n",
       "3               This is real life, not just fantasy!  \n",
       "5  An inside look at the legendary life of advent...  "
      ]
     },
     "execution_count": 63,
     "metadata": {},
     "output_type": "execute_result"
    }
   ],
   "source": [
    "movies_df.head()"
   ]
  },
  {
   "cell_type": "code",
   "execution_count": 64,
   "metadata": {},
   "outputs": [],
   "source": [
    "Short = movies_df[(movies_df.duration<30)]\n",
    "Medium = movies_df[(movies_df.duration>=30) & (movies_df.duration<60)]\n",
    "Normal = movies_df[(movies_df.duration>=60) & (movies_df.duration<120)]\n",
    "Long = movies_df[(movies_df.duration>=120)]"
   ]
  },
  {
   "cell_type": "code",
   "execution_count": 65,
   "metadata": {},
   "outputs": [
    {
     "data": {
      "image/png": "[encoded data removed]",
      "text/plain": [
       "<Figure size 648x360 with 1 Axes>"
      ]
     },
     "metadata": {
      "needs_background": "light"
     },
     "output_type": "display_data"
    }
   ],
   "source": [
    "sns.barplot(x=['Short','Medium','Normal','Long'],y=[len(Short),len(Medium),len(Normal),len(Long)])\n",
    "plt.tight_layout()"
   ]
  },
  {
   "cell_type": "markdown",
   "metadata": {},
   "source": [
    "#Maximum movies uploaded are 1 to 2 hours long followed by short duration movies of less than 30 mins which are less than half of the normal duration movies uploaded. 30 to 60 mins and more than 120 minutes seems like a bit odd for the movie duration so these movies are less."
   ]
  },
  {
   "cell_type": "markdown",
   "metadata": {},
   "source": [
    "#### Q3: Extract movies listed in 'Family' genre for duration 45 to 60 mins to recommend to secondary school entertainment period. Make sure that the Rating is not 16+ and above and release year is 1990 and above."
   ]
  },
  {
   "cell_type": "code",
   "execution_count": 66,
   "metadata": {},
   "outputs": [],
   "source": [
    "#lets extract movies for the spefied dutaion of 45 to 60 mins\n",
    "extracted_movies = movies_df[(movies_df.duration>=45) & (movies_df.duration<=60)]"
   ]
  },
  {
   "cell_type": "code",
   "execution_count": 67,
   "metadata": {},
   "outputs": [
    {
     "data": {
      "text/plain": [
       "array(['Comedy, Family, Musical', 'Documentary', 'Comedy',\n",
       "       'Animation, Family, Fantasy',\n",
       "       'Action-Adventure, Animation, Science Fiction',\n",
       "       'Animation, Fantasy', 'Biographical, Documentary',\n",
       "       'Animals & Nature, Documentary',\n",
       "       'Biographical, Documentary, Music', 'Documentary, Historical',\n",
       "       'Action-Adventure, Animation, Fantasy', 'Fantasy, Variety',\n",
       "       'Movies', 'Drama, Music, Romance', 'Family, Music, Variety',\n",
       "       'Action-Adventure, Animation, Comedy',\n",
       "       'Animals & Nature, Documentary, Survival',\n",
       "       'Animals & Nature, Documentary, Family',\n",
       "       'Documentary, Family, Historical', 'Coming of Age, Drama, Family',\n",
       "       'Historical, Musical', 'Documentary, Family',\n",
       "       'Animation, Documentary, Family', 'Drama, Family, Historical',\n",
       "       'Concert Film, Music, Musical', 'Animals & Nature, Family',\n",
       "       'Action-Adventure, Animation, Musical',\n",
       "       'Action-Adventure, Animation, Coming of Age',\n",
       "       'Documentary, Sports', 'Drama, Family, Mystery',\n",
       "       'Documentary, Family, Variety', 'Buddy, Comedy, Coming of Age',\n",
       "       'Animals & Nature, Documentary, Medical',\n",
       "       'Action-Adventure, Animals & Nature, Documentary',\n",
       "       'Comedy, Fantasy', 'Action-Adventure, Animals & Nature, Family',\n",
       "       'Animation, Coming of Age, Fantasy',\n",
       "       'Comedy, Coming of Age, Fantasy',\n",
       "       'Action-Adventure, Animals & Nature, Drama',\n",
       "       'Animals & Nature, Comedy, Family'], dtype=object)"
      ]
     },
     "execution_count": 67,
     "metadata": {},
     "output_type": "execute_result"
    }
   ],
   "source": [
    "#checking the genre given under listed_in column\n",
    "extracted_movies['listed_in'].unique()"
   ]
  },
  {
   "cell_type": "code",
   "execution_count": 68,
   "metadata": {},
   "outputs": [
    {
     "name": "stderr",
     "output_type": "stream",
     "text": [
      "C:\\Users\\PURVAR~1\\AppData\\Local\\Temp/ipykernel_12588/2568331056.py:4: SettingWithCopyWarning: \n",
      "A value is trying to be set on a copy of a slice from a DataFrame.\n",
      "Try using .loc[row_indexer,col_indexer] = value instead\n",
      "\n",
      "See the caveats in the documentation: https://pandas.pydata.org/pandas-docs/stable/user_guide/indexing.html#returning-a-view-versus-a-copy\n",
      "  extracted_movies['listed_in'] = extracted_movies['listed_in'].str.split(',')\n"
     ]
    }
   ],
   "source": [
    "#we need to split the strings from listed_in column to get genre in seperate rows for the movies\n",
    "#The split() method splits a string into a list.\n",
    "# we have specified ','(comma) as a separator\n",
    "extracted_movies['listed_in'] = extracted_movies['listed_in'].str.split(',')"
   ]
  },
  {
   "cell_type": "code",
   "execution_count": 69,
   "metadata": {},
   "outputs": [
    {
     "data": {
      "text/html": [
       "<div>\n",
       "<style scoped>\n",
       "    .dataframe tbody tr th:only-of-type {\n",
       "        vertical-align: middle;\n",
       "    }\n",
       "\n",
       "    .dataframe tbody tr th {\n",
       "        vertical-align: top;\n",
       "    }\n",
       "\n",
       "    .dataframe thead th {\n",
       "        text-align: right;\n",
       "    }\n",
       "</style>\n",
       "<table border=\"1\" class=\"dataframe\">\n",
       "  <thead>\n",
       "    <tr style=\"text-align: right;\">\n",
       "      <th></th>\n",
       "      <th>show_id</th>\n",
       "      <th>type</th>\n",
       "      <th>title</th>\n",
       "      <th>director</th>\n",
       "      <th>cast</th>\n",
       "      <th>country</th>\n",
       "      <th>date_added</th>\n",
       "      <th>release_year</th>\n",
       "      <th>rating</th>\n",
       "      <th>duration</th>\n",
       "      <th>listed_in</th>\n",
       "      <th>description</th>\n",
       "    </tr>\n",
       "  </thead>\n",
       "  <tbody>\n",
       "    <tr>\n",
       "      <th>9</th>\n",
       "      <td>s10</td>\n",
       "      <td>Movie</td>\n",
       "      <td>A Muppets Christmas: Letters To Santa</td>\n",
       "      <td>Kirk R. Thatcher</td>\n",
       "      <td>Steve Whitmire, Dave Goelz, Bill Barretta, Eri...</td>\n",
       "      <td>United States</td>\n",
       "      <td>2021-11-19</td>\n",
       "      <td>2008</td>\n",
       "      <td>G</td>\n",
       "      <td>45</td>\n",
       "      <td>[Comedy,  Family,  Musical]</td>\n",
       "      <td>Celebrate the holiday season with all your fav...</td>\n",
       "    </tr>\n",
       "    <tr>\n",
       "      <th>10</th>\n",
       "      <td>s11</td>\n",
       "      <td>Movie</td>\n",
       "      <td>Adventure Thru the Walt Disney Archives</td>\n",
       "      <td>John Gleim</td>\n",
       "      <td>Don Hahn, Kathryn Beaumont, Pete Docter, Kevin...</td>\n",
       "      <td>Data unavailable</td>\n",
       "      <td>2021-11-19</td>\n",
       "      <td>2020</td>\n",
       "      <td>TV-PG</td>\n",
       "      <td>59</td>\n",
       "      <td>[Documentary]</td>\n",
       "      <td>Explore the treasures and rich history of the ...</td>\n",
       "    </tr>\n",
       "    <tr>\n",
       "      <th>68</th>\n",
       "      <td>s69</td>\n",
       "      <td>Movie</td>\n",
       "      <td>Just Roll With It: You Decide Live!</td>\n",
       "      <td>Data unavailable</td>\n",
       "      <td>Tobie Windham, Suzi Barrett, Ramon Reed, Kayli...</td>\n",
       "      <td>Data unavailable</td>\n",
       "      <td>2021-10-08</td>\n",
       "      <td>2019</td>\n",
       "      <td>G</td>\n",
       "      <td>52</td>\n",
       "      <td>[Comedy]</td>\n",
       "      <td>The Bennett-Blatts set out to reverse an evil ...</td>\n",
       "    </tr>\n",
       "    <tr>\n",
       "      <th>69</th>\n",
       "      <td>s70</td>\n",
       "      <td>Movie</td>\n",
       "      <td>Mickey's Tale of Two Witches</td>\n",
       "      <td>Jeff Gordon</td>\n",
       "      <td>Bret Iwan, Kaitlyn Robrock, Bill Farmer, Danie...</td>\n",
       "      <td>Data unavailable</td>\n",
       "      <td>2021-10-08</td>\n",
       "      <td>2021</td>\n",
       "      <td>TV-Y</td>\n",
       "      <td>47</td>\n",
       "      <td>[Animation,  Family,  Fantasy]</td>\n",
       "      <td>Mickey tells a tale of two witches-in-training!</td>\n",
       "    </tr>\n",
       "    <tr>\n",
       "      <th>70</th>\n",
       "      <td>s71</td>\n",
       "      <td>Movie</td>\n",
       "      <td>Muppets Haunted Mansion</td>\n",
       "      <td>Kirk Thatcher</td>\n",
       "      <td>Dave Goelz, Bill Barretta, Will Arnett, Taraji...</td>\n",
       "      <td>Data unavailable</td>\n",
       "      <td>2021-10-08</td>\n",
       "      <td>2021</td>\n",
       "      <td>TV-PG</td>\n",
       "      <td>53</td>\n",
       "      <td>[Comedy,  Family,  Musical]</td>\n",
       "      <td>Gonzo is challenged to spend Halloween night i...</td>\n",
       "    </tr>\n",
       "  </tbody>\n",
       "</table>\n",
       "</div>"
      ],
      "text/plain": [
       "   show_id   type                                    title          director  \\\n",
       "9      s10  Movie    A Muppets Christmas: Letters To Santa  Kirk R. Thatcher   \n",
       "10     s11  Movie  Adventure Thru the Walt Disney Archives        John Gleim   \n",
       "68     s69  Movie      Just Roll With It: You Decide Live!  Data unavailable   \n",
       "69     s70  Movie             Mickey's Tale of Two Witches       Jeff Gordon   \n",
       "70     s71  Movie                  Muppets Haunted Mansion     Kirk Thatcher   \n",
       "\n",
       "                                                 cast           country  \\\n",
       "9   Steve Whitmire, Dave Goelz, Bill Barretta, Eri...     United States   \n",
       "10  Don Hahn, Kathryn Beaumont, Pete Docter, Kevin...  Data unavailable   \n",
       "68  Tobie Windham, Suzi Barrett, Ramon Reed, Kayli...  Data unavailable   \n",
       "69  Bret Iwan, Kaitlyn Robrock, Bill Farmer, Danie...  Data unavailable   \n",
       "70  Dave Goelz, Bill Barretta, Will Arnett, Taraji...  Data unavailable   \n",
       "\n",
       "   date_added  release_year rating  duration                       listed_in  \\\n",
       "9  2021-11-19          2008      G        45     [Comedy,  Family,  Musical]   \n",
       "10 2021-11-19          2020  TV-PG        59                   [Documentary]   \n",
       "68 2021-10-08          2019      G        52                        [Comedy]   \n",
       "69 2021-10-08          2021   TV-Y        47  [Animation,  Family,  Fantasy]   \n",
       "70 2021-10-08          2021  TV-PG        53     [Comedy,  Family,  Musical]   \n",
       "\n",
       "                                          description  \n",
       "9   Celebrate the holiday season with all your fav...  \n",
       "10  Explore the treasures and rich history of the ...  \n",
       "68  The Bennett-Blatts set out to reverse an evil ...  \n",
       "69    Mickey tells a tale of two witches-in-training!  \n",
       "70  Gonzo is challenged to spend Halloween night i...  "
      ]
     },
     "execution_count": 69,
     "metadata": {},
     "output_type": "execute_result"
    }
   ],
   "source": [
    "extracted_movies.head()"
   ]
  },
  {
   "cell_type": "code",
   "execution_count": 70,
   "metadata": {},
   "outputs": [],
   "source": [
    "# The explode() method converts each element of the specified column(s) into a row.\n",
    "out = extracted_movies.explode('listed_in')"
   ]
  },
  {
   "cell_type": "code",
   "execution_count": 71,
   "metadata": {},
   "outputs": [
    {
     "data": {
      "text/html": [
       "<div>\n",
       "<style scoped>\n",
       "    .dataframe tbody tr th:only-of-type {\n",
       "        vertical-align: middle;\n",
       "    }\n",
       "\n",
       "    .dataframe tbody tr th {\n",
       "        vertical-align: top;\n",
       "    }\n",
       "\n",
       "    .dataframe thead th {\n",
       "        text-align: right;\n",
       "    }\n",
       "</style>\n",
       "<table border=\"1\" class=\"dataframe\">\n",
       "  <thead>\n",
       "    <tr style=\"text-align: right;\">\n",
       "      <th></th>\n",
       "      <th>show_id</th>\n",
       "      <th>type</th>\n",
       "      <th>title</th>\n",
       "      <th>director</th>\n",
       "      <th>cast</th>\n",
       "      <th>country</th>\n",
       "      <th>date_added</th>\n",
       "      <th>release_year</th>\n",
       "      <th>rating</th>\n",
       "      <th>duration</th>\n",
       "      <th>listed_in</th>\n",
       "      <th>description</th>\n",
       "    </tr>\n",
       "  </thead>\n",
       "  <tbody>\n",
       "    <tr>\n",
       "      <th>9</th>\n",
       "      <td>s10</td>\n",
       "      <td>Movie</td>\n",
       "      <td>A Muppets Christmas: Letters To Santa</td>\n",
       "      <td>Kirk R. Thatcher</td>\n",
       "      <td>Steve Whitmire, Dave Goelz, Bill Barretta, Eri...</td>\n",
       "      <td>United States</td>\n",
       "      <td>2021-11-19</td>\n",
       "      <td>2008</td>\n",
       "      <td>G</td>\n",
       "      <td>45</td>\n",
       "      <td>Comedy</td>\n",
       "      <td>Celebrate the holiday season with all your fav...</td>\n",
       "    </tr>\n",
       "    <tr>\n",
       "      <th>9</th>\n",
       "      <td>s10</td>\n",
       "      <td>Movie</td>\n",
       "      <td>A Muppets Christmas: Letters To Santa</td>\n",
       "      <td>Kirk R. Thatcher</td>\n",
       "      <td>Steve Whitmire, Dave Goelz, Bill Barretta, Eri...</td>\n",
       "      <td>United States</td>\n",
       "      <td>2021-11-19</td>\n",
       "      <td>2008</td>\n",
       "      <td>G</td>\n",
       "      <td>45</td>\n",
       "      <td>Family</td>\n",
       "      <td>Celebrate the holiday season with all your fav...</td>\n",
       "    </tr>\n",
       "    <tr>\n",
       "      <th>9</th>\n",
       "      <td>s10</td>\n",
       "      <td>Movie</td>\n",
       "      <td>A Muppets Christmas: Letters To Santa</td>\n",
       "      <td>Kirk R. Thatcher</td>\n",
       "      <td>Steve Whitmire, Dave Goelz, Bill Barretta, Eri...</td>\n",
       "      <td>United States</td>\n",
       "      <td>2021-11-19</td>\n",
       "      <td>2008</td>\n",
       "      <td>G</td>\n",
       "      <td>45</td>\n",
       "      <td>Musical</td>\n",
       "      <td>Celebrate the holiday season with all your fav...</td>\n",
       "    </tr>\n",
       "    <tr>\n",
       "      <th>10</th>\n",
       "      <td>s11</td>\n",
       "      <td>Movie</td>\n",
       "      <td>Adventure Thru the Walt Disney Archives</td>\n",
       "      <td>John Gleim</td>\n",
       "      <td>Don Hahn, Kathryn Beaumont, Pete Docter, Kevin...</td>\n",
       "      <td>Data unavailable</td>\n",
       "      <td>2021-11-19</td>\n",
       "      <td>2020</td>\n",
       "      <td>TV-PG</td>\n",
       "      <td>59</td>\n",
       "      <td>Documentary</td>\n",
       "      <td>Explore the treasures and rich history of the ...</td>\n",
       "    </tr>\n",
       "    <tr>\n",
       "      <th>68</th>\n",
       "      <td>s69</td>\n",
       "      <td>Movie</td>\n",
       "      <td>Just Roll With It: You Decide Live!</td>\n",
       "      <td>Data unavailable</td>\n",
       "      <td>Tobie Windham, Suzi Barrett, Ramon Reed, Kayli...</td>\n",
       "      <td>Data unavailable</td>\n",
       "      <td>2021-10-08</td>\n",
       "      <td>2019</td>\n",
       "      <td>G</td>\n",
       "      <td>52</td>\n",
       "      <td>Comedy</td>\n",
       "      <td>The Bennett-Blatts set out to reverse an evil ...</td>\n",
       "    </tr>\n",
       "  </tbody>\n",
       "</table>\n",
       "</div>"
      ],
      "text/plain": [
       "   show_id   type                                    title          director  \\\n",
       "9      s10  Movie    A Muppets Christmas: Letters To Santa  Kirk R. Thatcher   \n",
       "9      s10  Movie    A Muppets Christmas: Letters To Santa  Kirk R. Thatcher   \n",
       "9      s10  Movie    A Muppets Christmas: Letters To Santa  Kirk R. Thatcher   \n",
       "10     s11  Movie  Adventure Thru the Walt Disney Archives        John Gleim   \n",
       "68     s69  Movie      Just Roll With It: You Decide Live!  Data unavailable   \n",
       "\n",
       "                                                 cast           country  \\\n",
       "9   Steve Whitmire, Dave Goelz, Bill Barretta, Eri...     United States   \n",
       "9   Steve Whitmire, Dave Goelz, Bill Barretta, Eri...     United States   \n",
       "9   Steve Whitmire, Dave Goelz, Bill Barretta, Eri...     United States   \n",
       "10  Don Hahn, Kathryn Beaumont, Pete Docter, Kevin...  Data unavailable   \n",
       "68  Tobie Windham, Suzi Barrett, Ramon Reed, Kayli...  Data unavailable   \n",
       "\n",
       "   date_added  release_year rating  duration    listed_in  \\\n",
       "9  2021-11-19          2008      G        45       Comedy   \n",
       "9  2021-11-19          2008      G        45       Family   \n",
       "9  2021-11-19          2008      G        45      Musical   \n",
       "10 2021-11-19          2020  TV-PG        59  Documentary   \n",
       "68 2021-10-08          2019      G        52       Comedy   \n",
       "\n",
       "                                          description  \n",
       "9   Celebrate the holiday season with all your fav...  \n",
       "9   Celebrate the holiday season with all your fav...  \n",
       "9   Celebrate the holiday season with all your fav...  \n",
       "10  Explore the treasures and rich history of the ...  \n",
       "68  The Bennett-Blatts set out to reverse an evil ...  "
      ]
     },
     "execution_count": 71,
     "metadata": {},
     "output_type": "execute_result"
    }
   ],
   "source": [
    "out.head()"
   ]
  },
  {
   "cell_type": "code",
   "execution_count": 72,
   "metadata": {},
   "outputs": [
    {
     "data": {
      "text/plain": [
       "array(['Comedy', ' Family', ' Musical', 'Documentary', 'Animation',\n",
       "       ' Fantasy', 'Action-Adventure', ' Animation', ' Science Fiction',\n",
       "       'Biographical', ' Documentary', 'Animals & Nature', ' Music',\n",
       "       ' Historical', 'Fantasy', ' Variety', 'Movies', 'Drama',\n",
       "       ' Romance', 'Family', ' Comedy', ' Survival', 'Coming of Age',\n",
       "       ' Drama', 'Historical', 'Concert Film', ' Coming of Age',\n",
       "       ' Sports', ' Mystery', 'Buddy', ' Medical', ' Animals & Nature'],\n",
       "      dtype=object)"
      ]
     },
     "execution_count": 72,
     "metadata": {},
     "output_type": "execute_result"
    }
   ],
   "source": [
    "out['listed_in'].unique()"
   ]
  },
  {
   "cell_type": "code",
   "execution_count": 73,
   "metadata": {},
   "outputs": [
    {
     "data": {
      "text/plain": [
       "32"
      ]
     },
     "execution_count": 73,
     "metadata": {},
     "output_type": "execute_result"
    }
   ],
   "source": [
    "out['listed_in'].nunique()"
   ]
  },
  {
   "cell_type": "code",
   "execution_count": 74,
   "metadata": {},
   "outputs": [],
   "source": [
    "#lets remove the whitespaces\n",
    "out['listed_in'] = out['listed_in'].str.strip()"
   ]
  },
  {
   "cell_type": "code",
   "execution_count": 75,
   "metadata": {},
   "outputs": [
    {
     "data": {
      "text/plain": [
       "array(['Comedy', 'Family', 'Musical', 'Documentary', 'Animation',\n",
       "       'Fantasy', 'Action-Adventure', 'Science Fiction', 'Biographical',\n",
       "       'Animals & Nature', 'Music', 'Historical', 'Variety', 'Movies',\n",
       "       'Drama', 'Romance', 'Survival', 'Coming of Age', 'Concert Film',\n",
       "       'Sports', 'Mystery', 'Buddy', 'Medical'], dtype=object)"
      ]
     },
     "execution_count": 75,
     "metadata": {},
     "output_type": "execute_result"
    }
   ],
   "source": [
    "#The unique() method returns the unique values for each or specified column.\n",
    "out['listed_in'].unique()"
   ]
  },
  {
   "cell_type": "code",
   "execution_count": 76,
   "metadata": {},
   "outputs": [
    {
     "data": {
      "text/plain": [
       "23"
      ]
     },
     "execution_count": 76,
     "metadata": {},
     "output_type": "execute_result"
    }
   ],
   "source": [
    "#The nunique() method returns the number of unique values for specified or each column.\n",
    "out['listed_in'].nunique()"
   ]
  },
  {
   "cell_type": "code",
   "execution_count": 77,
   "metadata": {},
   "outputs": [
    {
     "data": {
      "text/html": [
       "<div>\n",
       "<style scoped>\n",
       "    .dataframe tbody tr th:only-of-type {\n",
       "        vertical-align: middle;\n",
       "    }\n",
       "\n",
       "    .dataframe tbody tr th {\n",
       "        vertical-align: top;\n",
       "    }\n",
       "\n",
       "    .dataframe thead th {\n",
       "        text-align: right;\n",
       "    }\n",
       "</style>\n",
       "<table border=\"1\" class=\"dataframe\">\n",
       "  <thead>\n",
       "    <tr style=\"text-align: right;\">\n",
       "      <th></th>\n",
       "      <th>show_id</th>\n",
       "      <th>type</th>\n",
       "      <th>title</th>\n",
       "      <th>director</th>\n",
       "      <th>cast</th>\n",
       "      <th>country</th>\n",
       "      <th>date_added</th>\n",
       "      <th>release_year</th>\n",
       "      <th>rating</th>\n",
       "      <th>duration</th>\n",
       "      <th>listed_in</th>\n",
       "      <th>description</th>\n",
       "    </tr>\n",
       "  </thead>\n",
       "  <tbody>\n",
       "    <tr>\n",
       "      <th>9</th>\n",
       "      <td>s10</td>\n",
       "      <td>Movie</td>\n",
       "      <td>A Muppets Christmas: Letters To Santa</td>\n",
       "      <td>Kirk R. Thatcher</td>\n",
       "      <td>Steve Whitmire, Dave Goelz, Bill Barretta, Eri...</td>\n",
       "      <td>United States</td>\n",
       "      <td>2021-11-19</td>\n",
       "      <td>2008</td>\n",
       "      <td>G</td>\n",
       "      <td>45</td>\n",
       "      <td>Comedy</td>\n",
       "      <td>Celebrate the holiday season with all your fav...</td>\n",
       "    </tr>\n",
       "    <tr>\n",
       "      <th>9</th>\n",
       "      <td>s10</td>\n",
       "      <td>Movie</td>\n",
       "      <td>A Muppets Christmas: Letters To Santa</td>\n",
       "      <td>Kirk R. Thatcher</td>\n",
       "      <td>Steve Whitmire, Dave Goelz, Bill Barretta, Eri...</td>\n",
       "      <td>United States</td>\n",
       "      <td>2021-11-19</td>\n",
       "      <td>2008</td>\n",
       "      <td>G</td>\n",
       "      <td>45</td>\n",
       "      <td>Family</td>\n",
       "      <td>Celebrate the holiday season with all your fav...</td>\n",
       "    </tr>\n",
       "    <tr>\n",
       "      <th>9</th>\n",
       "      <td>s10</td>\n",
       "      <td>Movie</td>\n",
       "      <td>A Muppets Christmas: Letters To Santa</td>\n",
       "      <td>Kirk R. Thatcher</td>\n",
       "      <td>Steve Whitmire, Dave Goelz, Bill Barretta, Eri...</td>\n",
       "      <td>United States</td>\n",
       "      <td>2021-11-19</td>\n",
       "      <td>2008</td>\n",
       "      <td>G</td>\n",
       "      <td>45</td>\n",
       "      <td>Musical</td>\n",
       "      <td>Celebrate the holiday season with all your fav...</td>\n",
       "    </tr>\n",
       "    <tr>\n",
       "      <th>10</th>\n",
       "      <td>s11</td>\n",
       "      <td>Movie</td>\n",
       "      <td>Adventure Thru the Walt Disney Archives</td>\n",
       "      <td>John Gleim</td>\n",
       "      <td>Don Hahn, Kathryn Beaumont, Pete Docter, Kevin...</td>\n",
       "      <td>Data unavailable</td>\n",
       "      <td>2021-11-19</td>\n",
       "      <td>2020</td>\n",
       "      <td>TV-PG</td>\n",
       "      <td>59</td>\n",
       "      <td>Documentary</td>\n",
       "      <td>Explore the treasures and rich history of the ...</td>\n",
       "    </tr>\n",
       "    <tr>\n",
       "      <th>68</th>\n",
       "      <td>s69</td>\n",
       "      <td>Movie</td>\n",
       "      <td>Just Roll With It: You Decide Live!</td>\n",
       "      <td>Data unavailable</td>\n",
       "      <td>Tobie Windham, Suzi Barrett, Ramon Reed, Kayli...</td>\n",
       "      <td>Data unavailable</td>\n",
       "      <td>2021-10-08</td>\n",
       "      <td>2019</td>\n",
       "      <td>G</td>\n",
       "      <td>52</td>\n",
       "      <td>Comedy</td>\n",
       "      <td>The Bennett-Blatts set out to reverse an evil ...</td>\n",
       "    </tr>\n",
       "  </tbody>\n",
       "</table>\n",
       "</div>"
      ],
      "text/plain": [
       "   show_id   type                                    title          director  \\\n",
       "9      s10  Movie    A Muppets Christmas: Letters To Santa  Kirk R. Thatcher   \n",
       "9      s10  Movie    A Muppets Christmas: Letters To Santa  Kirk R. Thatcher   \n",
       "9      s10  Movie    A Muppets Christmas: Letters To Santa  Kirk R. Thatcher   \n",
       "10     s11  Movie  Adventure Thru the Walt Disney Archives        John Gleim   \n",
       "68     s69  Movie      Just Roll With It: You Decide Live!  Data unavailable   \n",
       "\n",
       "                                                 cast           country  \\\n",
       "9   Steve Whitmire, Dave Goelz, Bill Barretta, Eri...     United States   \n",
       "9   Steve Whitmire, Dave Goelz, Bill Barretta, Eri...     United States   \n",
       "9   Steve Whitmire, Dave Goelz, Bill Barretta, Eri...     United States   \n",
       "10  Don Hahn, Kathryn Beaumont, Pete Docter, Kevin...  Data unavailable   \n",
       "68  Tobie Windham, Suzi Barrett, Ramon Reed, Kayli...  Data unavailable   \n",
       "\n",
       "   date_added  release_year rating  duration    listed_in  \\\n",
       "9  2021-11-19          2008      G        45       Comedy   \n",
       "9  2021-11-19          2008      G        45       Family   \n",
       "9  2021-11-19          2008      G        45      Musical   \n",
       "10 2021-11-19          2020  TV-PG        59  Documentary   \n",
       "68 2021-10-08          2019      G        52       Comedy   \n",
       "\n",
       "                                          description  \n",
       "9   Celebrate the holiday season with all your fav...  \n",
       "9   Celebrate the holiday season with all your fav...  \n",
       "9   Celebrate the holiday season with all your fav...  \n",
       "10  Explore the treasures and rich history of the ...  \n",
       "68  The Bennett-Blatts set out to reverse an evil ...  "
      ]
     },
     "execution_count": 77,
     "metadata": {},
     "output_type": "execute_result"
    }
   ],
   "source": [
    "out.head()"
   ]
  },
  {
   "cell_type": "code",
   "execution_count": 78,
   "metadata": {},
   "outputs": [],
   "source": [
    "# keeping only the movies listed_in 'Family genre\n",
    "movies_for_schools = out[(out.listed_in == 'Family')]"
   ]
  },
  {
   "cell_type": "code",
   "execution_count": 79,
   "metadata": {},
   "outputs": [
    {
     "data": {
      "text/html": [
       "<div>\n",
       "<style scoped>\n",
       "    .dataframe tbody tr th:only-of-type {\n",
       "        vertical-align: middle;\n",
       "    }\n",
       "\n",
       "    .dataframe tbody tr th {\n",
       "        vertical-align: top;\n",
       "    }\n",
       "\n",
       "    .dataframe thead th {\n",
       "        text-align: right;\n",
       "    }\n",
       "</style>\n",
       "<table border=\"1\" class=\"dataframe\">\n",
       "  <thead>\n",
       "    <tr style=\"text-align: right;\">\n",
       "      <th></th>\n",
       "      <th>show_id</th>\n",
       "      <th>type</th>\n",
       "      <th>title</th>\n",
       "      <th>director</th>\n",
       "      <th>cast</th>\n",
       "      <th>country</th>\n",
       "      <th>date_added</th>\n",
       "      <th>release_year</th>\n",
       "      <th>rating</th>\n",
       "      <th>duration</th>\n",
       "      <th>listed_in</th>\n",
       "      <th>description</th>\n",
       "    </tr>\n",
       "  </thead>\n",
       "  <tbody>\n",
       "    <tr>\n",
       "      <th>9</th>\n",
       "      <td>s10</td>\n",
       "      <td>Movie</td>\n",
       "      <td>A Muppets Christmas: Letters To Santa</td>\n",
       "      <td>Kirk R. Thatcher</td>\n",
       "      <td>Steve Whitmire, Dave Goelz, Bill Barretta, Eri...</td>\n",
       "      <td>United States</td>\n",
       "      <td>2021-11-19</td>\n",
       "      <td>2008</td>\n",
       "      <td>G</td>\n",
       "      <td>45</td>\n",
       "      <td>Family</td>\n",
       "      <td>Celebrate the holiday season with all your fav...</td>\n",
       "    </tr>\n",
       "    <tr>\n",
       "      <th>69</th>\n",
       "      <td>s70</td>\n",
       "      <td>Movie</td>\n",
       "      <td>Mickey's Tale of Two Witches</td>\n",
       "      <td>Jeff Gordon</td>\n",
       "      <td>Bret Iwan, Kaitlyn Robrock, Bill Farmer, Danie...</td>\n",
       "      <td>Data unavailable</td>\n",
       "      <td>2021-10-08</td>\n",
       "      <td>2021</td>\n",
       "      <td>TV-Y</td>\n",
       "      <td>47</td>\n",
       "      <td>Family</td>\n",
       "      <td>Mickey tells a tale of two witches-in-training!</td>\n",
       "    </tr>\n",
       "    <tr>\n",
       "      <th>70</th>\n",
       "      <td>s71</td>\n",
       "      <td>Movie</td>\n",
       "      <td>Muppets Haunted Mansion</td>\n",
       "      <td>Kirk Thatcher</td>\n",
       "      <td>Dave Goelz, Bill Barretta, Will Arnett, Taraji...</td>\n",
       "      <td>Data unavailable</td>\n",
       "      <td>2021-10-08</td>\n",
       "      <td>2021</td>\n",
       "      <td>TV-PG</td>\n",
       "      <td>53</td>\n",
       "      <td>Family</td>\n",
       "      <td>Gonzo is challenged to spend Halloween night i...</td>\n",
       "    </tr>\n",
       "    <tr>\n",
       "      <th>349</th>\n",
       "      <td>s350</td>\n",
       "      <td>Movie</td>\n",
       "      <td>The Disney Holiday Singalong</td>\n",
       "      <td>Data unavailable</td>\n",
       "      <td>Ryan Seacrest, Andrea Bocelli, BTS , Michael B...</td>\n",
       "      <td>United States</td>\n",
       "      <td>2020-12-04</td>\n",
       "      <td>2020</td>\n",
       "      <td>TV-G</td>\n",
       "      <td>45</td>\n",
       "      <td>Family</td>\n",
       "      <td>A festive musical event with more Disney melod...</td>\n",
       "    </tr>\n",
       "    <tr>\n",
       "      <th>395</th>\n",
       "      <td>s396</td>\n",
       "      <td>Movie</td>\n",
       "      <td>Wild Portugal</td>\n",
       "      <td>Christian Baumeister</td>\n",
       "      <td>Bart Thomasson</td>\n",
       "      <td>Data unavailable</td>\n",
       "      <td>2020-10-09</td>\n",
       "      <td>2020</td>\n",
       "      <td>TV-14</td>\n",
       "      <td>45</td>\n",
       "      <td>Family</td>\n",
       "      <td>Explore a rugged world where diverse species f...</td>\n",
       "    </tr>\n",
       "    <tr>\n",
       "      <th>466</th>\n",
       "      <td>s467</td>\n",
       "      <td>Movie</td>\n",
       "      <td>A Pre-Opening Report from Disneyland</td>\n",
       "      <td>Wilfred Jackson</td>\n",
       "      <td>Walt Disney, Winston Hibler</td>\n",
       "      <td>United States</td>\n",
       "      <td>2020-07-17</td>\n",
       "      <td>1955</td>\n",
       "      <td>TV-PG</td>\n",
       "      <td>55</td>\n",
       "      <td>Family</td>\n",
       "      <td>Walt provides a look at the details needed to ...</td>\n",
       "    </tr>\n",
       "    <tr>\n",
       "      <th>471</th>\n",
       "      <td>s472</td>\n",
       "      <td>Movie</td>\n",
       "      <td>The Mouseketeers at Walt Disney World</td>\n",
       "      <td>John Tracy</td>\n",
       "      <td>Jo Worley, Ronnie Schell, Dennis Underwood, Le...</td>\n",
       "      <td>United States</td>\n",
       "      <td>2020-07-17</td>\n",
       "      <td>1977</td>\n",
       "      <td>TV-PG</td>\n",
       "      <td>56</td>\n",
       "      <td>Family</td>\n",
       "      <td>The Mouseketeers arrive to perform at Walt Dis...</td>\n",
       "    </tr>\n",
       "    <tr>\n",
       "      <th>489</th>\n",
       "      <td>s490</td>\n",
       "      <td>Movie</td>\n",
       "      <td>Man in Space</td>\n",
       "      <td>Ward Kimball</td>\n",
       "      <td>Walt Disney, Dick Tufeld, Ward Kimball, Willy ...</td>\n",
       "      <td>United States</td>\n",
       "      <td>2020-06-26</td>\n",
       "      <td>1955</td>\n",
       "      <td>TV-PG</td>\n",
       "      <td>49</td>\n",
       "      <td>Family</td>\n",
       "      <td>From the TV series Disneyland, a look at the h...</td>\n",
       "    </tr>\n",
       "    <tr>\n",
       "      <th>490</th>\n",
       "      <td>s491</td>\n",
       "      <td>Movie</td>\n",
       "      <td>Mars and Beyond</td>\n",
       "      <td>Ward Kimball</td>\n",
       "      <td>Walt Disney, Paul Frees, Dr. Ernst Stuhlinger,...</td>\n",
       "      <td>United States</td>\n",
       "      <td>2020-06-26</td>\n",
       "      <td>1957</td>\n",
       "      <td>TV-G</td>\n",
       "      <td>53</td>\n",
       "      <td>Family</td>\n",
       "      <td>An animated look at humankind's early views of...</td>\n",
       "    </tr>\n",
       "    <tr>\n",
       "      <th>495</th>\n",
       "      <td>s496</td>\n",
       "      <td>Movie</td>\n",
       "      <td>Big Sur: Wild California</td>\n",
       "      <td>Data unavailable</td>\n",
       "      <td>Hector Elizondo</td>\n",
       "      <td>United States</td>\n",
       "      <td>2020-06-19</td>\n",
       "      <td>2010</td>\n",
       "      <td>TV-PG</td>\n",
       "      <td>47</td>\n",
       "      <td>Family</td>\n",
       "      <td>Why is California's Big Sur coastline experien...</td>\n",
       "    </tr>\n",
       "    <tr>\n",
       "      <th>504</th>\n",
       "      <td>s505</td>\n",
       "      <td>Movie</td>\n",
       "      <td>The Liberty Story</td>\n",
       "      <td>Hamilton Luske, Robert Stevenson</td>\n",
       "      <td>Walt Disney</td>\n",
       "      <td>United States</td>\n",
       "      <td>2020-06-12</td>\n",
       "      <td>1957</td>\n",
       "      <td>TV-PG</td>\n",
       "      <td>48</td>\n",
       "      <td>Family</td>\n",
       "      <td>Walt Disney presents segments of America's fig...</td>\n",
       "    </tr>\n",
       "    <tr>\n",
       "      <th>505</th>\n",
       "      <td>s506</td>\n",
       "      <td>Movie</td>\n",
       "      <td>The Story of the Animated Drawing</td>\n",
       "      <td>Wilfred Jackson, William Beaudine</td>\n",
       "      <td>Data unavailable</td>\n",
       "      <td>United States</td>\n",
       "      <td>2020-06-12</td>\n",
       "      <td>1955</td>\n",
       "      <td>TV-PG</td>\n",
       "      <td>49</td>\n",
       "      <td>Family</td>\n",
       "      <td>Walt Disney discusses the history of animation...</td>\n",
       "    </tr>\n",
       "    <tr>\n",
       "      <th>567</th>\n",
       "      <td>s568</td>\n",
       "      <td>Movie</td>\n",
       "      <td>A Tale of Two Critters</td>\n",
       "      <td>Jack Speirs</td>\n",
       "      <td>Mayf Nutter</td>\n",
       "      <td>United States</td>\n",
       "      <td>2020-04-03</td>\n",
       "      <td>1977</td>\n",
       "      <td>G</td>\n",
       "      <td>48</td>\n",
       "      <td>Family</td>\n",
       "      <td>A bear cub and a raccoon become fast friends. ...</td>\n",
       "    </tr>\n",
       "    <tr>\n",
       "      <th>752</th>\n",
       "      <td>s753</td>\n",
       "      <td>Movie</td>\n",
       "      <td>Bizarre Dinosaurs</td>\n",
       "      <td>Jenny Kubo</td>\n",
       "      <td>Peter Cullen</td>\n",
       "      <td>United States</td>\n",
       "      <td>2019-11-12</td>\n",
       "      <td>2009</td>\n",
       "      <td>TV-PG</td>\n",
       "      <td>46</td>\n",
       "      <td>Family</td>\n",
       "      <td>Which dinosaurs were the strangest of the stra...</td>\n",
       "    </tr>\n",
       "    <tr>\n",
       "      <th>786</th>\n",
       "      <td>s787</td>\n",
       "      <td>Movie</td>\n",
       "      <td>Casebusters</td>\n",
       "      <td>Wes Craven</td>\n",
       "      <td>Pat Hingle, Noah Hathaway, Virginya Keehne, Ga...</td>\n",
       "      <td>United States</td>\n",
       "      <td>2019-11-12</td>\n",
       "      <td>1986</td>\n",
       "      <td>TV-PG</td>\n",
       "      <td>46</td>\n",
       "      <td>Family</td>\n",
       "      <td>Sibling sleuths investigate a crime that threa...</td>\n",
       "    </tr>\n",
       "    <tr>\n",
       "      <th>853</th>\n",
       "      <td>s854</td>\n",
       "      <td>Movie</td>\n",
       "      <td>Disneyland Around the Seasons (Walt Disney's W...</td>\n",
       "      <td>Hamilton Luske</td>\n",
       "      <td>Walt Disney</td>\n",
       "      <td>United States</td>\n",
       "      <td>2019-11-12</td>\n",
       "      <td>1966</td>\n",
       "      <td>TV-PG</td>\n",
       "      <td>51</td>\n",
       "      <td>Family</td>\n",
       "      <td>Walt Disney talks about Disneyland in 1966. Se...</td>\n",
       "    </tr>\n",
       "    <tr>\n",
       "      <th>913</th>\n",
       "      <td>s914</td>\n",
       "      <td>Movie</td>\n",
       "      <td>Giants of the Deep Blue</td>\n",
       "      <td>Ken Corben</td>\n",
       "      <td>Bill Graves</td>\n",
       "      <td>Data unavailable</td>\n",
       "      <td>2019-11-12</td>\n",
       "      <td>2018</td>\n",
       "      <td>TV-PG</td>\n",
       "      <td>45</td>\n",
       "      <td>Family</td>\n",
       "      <td>Go beneath the surface of the sea for an extra...</td>\n",
       "    </tr>\n",
       "    <tr>\n",
       "      <th>1136</th>\n",
       "      <td>s1137</td>\n",
       "      <td>Movie</td>\n",
       "      <td>Planet of the Birds</td>\n",
       "      <td>Data unavailable</td>\n",
       "      <td>Rodd Houston</td>\n",
       "      <td>Data unavailable</td>\n",
       "      <td>2019-11-12</td>\n",
       "      <td>2018</td>\n",
       "      <td>TV-PG</td>\n",
       "      <td>45</td>\n",
       "      <td>Family</td>\n",
       "      <td>Tough and versatile, birds live in almost ever...</td>\n",
       "    </tr>\n",
       "    <tr>\n",
       "      <th>1173</th>\n",
       "      <td>s1174</td>\n",
       "      <td>Movie</td>\n",
       "      <td>Sacred Planet</td>\n",
       "      <td>Jon Long</td>\n",
       "      <td>Robert Redford, Arapata McKay, Tsaan Ciqae, Ma...</td>\n",
       "      <td>Canada, Malaysia, United States</td>\n",
       "      <td>2019-11-12</td>\n",
       "      <td>2004</td>\n",
       "      <td>G</td>\n",
       "      <td>47</td>\n",
       "      <td>Family</td>\n",
       "      <td>Visit some of the most exotic and beautiful pl...</td>\n",
       "    </tr>\n",
       "    <tr>\n",
       "      <th>1225</th>\n",
       "      <td>s1226</td>\n",
       "      <td>Movie</td>\n",
       "      <td>Sultan and the Rock Star</td>\n",
       "      <td>Ed Abroms</td>\n",
       "      <td>Timothy Hutton, Ken Swofford, Bruce Glover, Ne...</td>\n",
       "      <td>United States</td>\n",
       "      <td>2019-11-12</td>\n",
       "      <td>1980</td>\n",
       "      <td>TV-PG</td>\n",
       "      <td>47</td>\n",
       "      <td>Family</td>\n",
       "      <td>A rock star befriends a gentle tiger being hun...</td>\n",
       "    </tr>\n",
       "    <tr>\n",
       "      <th>1318</th>\n",
       "      <td>s1319</td>\n",
       "      <td>Movie</td>\n",
       "      <td>The Plausible Impossible (Disneyland: 1954-58)</td>\n",
       "      <td>Wilfred Jackson, William Beaudine</td>\n",
       "      <td>Walt Disney</td>\n",
       "      <td>United States</td>\n",
       "      <td>2019-11-12</td>\n",
       "      <td>1956</td>\n",
       "      <td>TV-PG</td>\n",
       "      <td>52</td>\n",
       "      <td>Family</td>\n",
       "      <td>Walt Disney explains some of the techniques of...</td>\n",
       "    </tr>\n",
       "    <tr>\n",
       "      <th>1388</th>\n",
       "      <td>s1389</td>\n",
       "      <td>Movie</td>\n",
       "      <td>Tree Climbing Lions</td>\n",
       "      <td>Data unavailable</td>\n",
       "      <td>Alexander Braczkowski</td>\n",
       "      <td>Data unavailable</td>\n",
       "      <td>2019-11-12</td>\n",
       "      <td>2018</td>\n",
       "      <td>TV-PG</td>\n",
       "      <td>45</td>\n",
       "      <td>Family</td>\n",
       "      <td>Lions in Uganda exhibit a rare, mysterious beh...</td>\n",
       "    </tr>\n",
       "    <tr>\n",
       "      <th>1419</th>\n",
       "      <td>s1420</td>\n",
       "      <td>Movie</td>\n",
       "      <td>Yellowstone Cubs</td>\n",
       "      <td>Charles Draper</td>\n",
       "      <td>Rex Allen</td>\n",
       "      <td>United States</td>\n",
       "      <td>2019-11-12</td>\n",
       "      <td>1963</td>\n",
       "      <td>TV-PG</td>\n",
       "      <td>48</td>\n",
       "      <td>Family</td>\n",
       "      <td>Two bear cubs take a mischievous tour of Yello...</td>\n",
       "    </tr>\n",
       "  </tbody>\n",
       "</table>\n",
       "</div>"
      ],
      "text/plain": [
       "     show_id   type                                              title  \\\n",
       "9        s10  Movie              A Muppets Christmas: Letters To Santa   \n",
       "69       s70  Movie                       Mickey's Tale of Two Witches   \n",
       "70       s71  Movie                            Muppets Haunted Mansion   \n",
       "349     s350  Movie                       The Disney Holiday Singalong   \n",
       "395     s396  Movie                                      Wild Portugal   \n",
       "466     s467  Movie               A Pre-Opening Report from Disneyland   \n",
       "471     s472  Movie              The Mouseketeers at Walt Disney World   \n",
       "489     s490  Movie                                       Man in Space   \n",
       "490     s491  Movie                                    Mars and Beyond   \n",
       "495     s496  Movie                           Big Sur: Wild California   \n",
       "504     s505  Movie                                  The Liberty Story   \n",
       "505     s506  Movie                  The Story of the Animated Drawing   \n",
       "567     s568  Movie                             A Tale of Two Critters   \n",
       "752     s753  Movie                                  Bizarre Dinosaurs   \n",
       "786     s787  Movie                                        Casebusters   \n",
       "853     s854  Movie  Disneyland Around the Seasons (Walt Disney's W...   \n",
       "913     s914  Movie                            Giants of the Deep Blue   \n",
       "1136   s1137  Movie                                Planet of the Birds   \n",
       "1173   s1174  Movie                                      Sacred Planet   \n",
       "1225   s1226  Movie                           Sultan and the Rock Star   \n",
       "1318   s1319  Movie     The Plausible Impossible (Disneyland: 1954-58)   \n",
       "1388   s1389  Movie                                Tree Climbing Lions   \n",
       "1419   s1420  Movie                                   Yellowstone Cubs   \n",
       "\n",
       "                               director  \\\n",
       "9                      Kirk R. Thatcher   \n",
       "69                          Jeff Gordon   \n",
       "70                        Kirk Thatcher   \n",
       "349                    Data unavailable   \n",
       "395                Christian Baumeister   \n",
       "466                     Wilfred Jackson   \n",
       "471                          John Tracy   \n",
       "489                        Ward Kimball   \n",
       "490                        Ward Kimball   \n",
       "495                    Data unavailable   \n",
       "504    Hamilton Luske, Robert Stevenson   \n",
       "505   Wilfred Jackson, William Beaudine   \n",
       "567                         Jack Speirs   \n",
       "752                          Jenny Kubo   \n",
       "786                          Wes Craven   \n",
       "853                      Hamilton Luske   \n",
       "913                          Ken Corben   \n",
       "1136                   Data unavailable   \n",
       "1173                           Jon Long   \n",
       "1225                          Ed Abroms   \n",
       "1318  Wilfred Jackson, William Beaudine   \n",
       "1388                   Data unavailable   \n",
       "1419                     Charles Draper   \n",
       "\n",
       "                                                   cast  \\\n",
       "9     Steve Whitmire, Dave Goelz, Bill Barretta, Eri...   \n",
       "69    Bret Iwan, Kaitlyn Robrock, Bill Farmer, Danie...   \n",
       "70    Dave Goelz, Bill Barretta, Will Arnett, Taraji...   \n",
       "349   Ryan Seacrest, Andrea Bocelli, BTS , Michael B...   \n",
       "395                                      Bart Thomasson   \n",
       "466                         Walt Disney, Winston Hibler   \n",
       "471   Jo Worley, Ronnie Schell, Dennis Underwood, Le...   \n",
       "489   Walt Disney, Dick Tufeld, Ward Kimball, Willy ...   \n",
       "490   Walt Disney, Paul Frees, Dr. Ernst Stuhlinger,...   \n",
       "495                                     Hector Elizondo   \n",
       "504                                         Walt Disney   \n",
       "505                                    Data unavailable   \n",
       "567                                         Mayf Nutter   \n",
       "752                                        Peter Cullen   \n",
       "786   Pat Hingle, Noah Hathaway, Virginya Keehne, Ga...   \n",
       "853                                         Walt Disney   \n",
       "913                                         Bill Graves   \n",
       "1136                                       Rodd Houston   \n",
       "1173  Robert Redford, Arapata McKay, Tsaan Ciqae, Ma...   \n",
       "1225  Timothy Hutton, Ken Swofford, Bruce Glover, Ne...   \n",
       "1318                                        Walt Disney   \n",
       "1388                              Alexander Braczkowski   \n",
       "1419                                          Rex Allen   \n",
       "\n",
       "                              country date_added  release_year rating  \\\n",
       "9                       United States 2021-11-19          2008      G   \n",
       "69                   Data unavailable 2021-10-08          2021   TV-Y   \n",
       "70                   Data unavailable 2021-10-08          2021  TV-PG   \n",
       "349                     United States 2020-12-04          2020   TV-G   \n",
       "395                  Data unavailable 2020-10-09          2020  TV-14   \n",
       "466                     United States 2020-07-17          1955  TV-PG   \n",
       "471                     United States 2020-07-17          1977  TV-PG   \n",
       "489                     United States 2020-06-26          1955  TV-PG   \n",
       "490                     United States 2020-06-26          1957   TV-G   \n",
       "495                     United States 2020-06-19          2010  TV-PG   \n",
       "504                     United States 2020-06-12          1957  TV-PG   \n",
       "505                     United States 2020-06-12          1955  TV-PG   \n",
       "567                     United States 2020-04-03          1977      G   \n",
       "752                     United States 2019-11-12          2009  TV-PG   \n",
       "786                     United States 2019-11-12          1986  TV-PG   \n",
       "853                     United States 2019-11-12          1966  TV-PG   \n",
       "913                  Data unavailable 2019-11-12          2018  TV-PG   \n",
       "1136                 Data unavailable 2019-11-12          2018  TV-PG   \n",
       "1173  Canada, Malaysia, United States 2019-11-12          2004      G   \n",
       "1225                    United States 2019-11-12          1980  TV-PG   \n",
       "1318                    United States 2019-11-12          1956  TV-PG   \n",
       "1388                 Data unavailable 2019-11-12          2018  TV-PG   \n",
       "1419                    United States 2019-11-12          1963  TV-PG   \n",
       "\n",
       "      duration listed_in                                        description  \n",
       "9           45    Family  Celebrate the holiday season with all your fav...  \n",
       "69          47    Family    Mickey tells a tale of two witches-in-training!  \n",
       "70          53    Family  Gonzo is challenged to spend Halloween night i...  \n",
       "349         45    Family  A festive musical event with more Disney melod...  \n",
       "395         45    Family  Explore a rugged world where diverse species f...  \n",
       "466         55    Family  Walt provides a look at the details needed to ...  \n",
       "471         56    Family  The Mouseketeers arrive to perform at Walt Dis...  \n",
       "489         49    Family  From the TV series Disneyland, a look at the h...  \n",
       "490         53    Family  An animated look at humankind's early views of...  \n",
       "495         47    Family  Why is California's Big Sur coastline experien...  \n",
       "504         48    Family  Walt Disney presents segments of America's fig...  \n",
       "505         49    Family  Walt Disney discusses the history of animation...  \n",
       "567         48    Family  A bear cub and a raccoon become fast friends. ...  \n",
       "752         46    Family  Which dinosaurs were the strangest of the stra...  \n",
       "786         46    Family  Sibling sleuths investigate a crime that threa...  \n",
       "853         51    Family  Walt Disney talks about Disneyland in 1966. Se...  \n",
       "913         45    Family  Go beneath the surface of the sea for an extra...  \n",
       "1136        45    Family  Tough and versatile, birds live in almost ever...  \n",
       "1173        47    Family  Visit some of the most exotic and beautiful pl...  \n",
       "1225        47    Family  A rock star befriends a gentle tiger being hun...  \n",
       "1318        52    Family  Walt Disney explains some of the techniques of...  \n",
       "1388        45    Family  Lions in Uganda exhibit a rare, mysterious beh...  \n",
       "1419        48    Family  Two bear cubs take a mischievous tour of Yello...  "
      ]
     },
     "execution_count": 79,
     "metadata": {},
     "output_type": "execute_result"
    }
   ],
   "source": [
    "movies_for_schools"
   ]
  },
  {
   "cell_type": "code",
   "execution_count": 80,
   "metadata": {},
   "outputs": [
    {
     "data": {
      "text/plain": [
       "array(['G', 'TV-Y', 'TV-PG', 'TV-G', 'TV-14'], dtype=object)"
      ]
     },
     "execution_count": 80,
     "metadata": {},
     "output_type": "execute_result"
    }
   ],
   "source": [
    "#Check for rating\n",
    "movies_for_schools['rating'].unique()"
   ]
  },
  {
   "cell_type": "markdown",
   "metadata": {},
   "source": [
    "''' TV-Y = Young Audiences usually for age group 2-6\n",
    "\n",
    "TV-G = Family/General Audiences for all ages\n",
    "\n",
    "TV-PG = Parental Guidance -not suitable for pre-teens\n",
    "\n",
    "TV-14 = 14 years or above\n",
    "\n",
    "Rated G: General audiences – All ages admitted'''"
   ]
  },
  {
   "cell_type": "code",
   "execution_count": 81,
   "metadata": {},
   "outputs": [],
   "source": [
    "#lets drop the movies for 'TV-Y','TV-14'(to be safe as secondary school students will be from age group 12 to 16)\n",
    "movies_for_schools = movies_for_schools[(movies_for_schools.rating != 'TV-Y') & (movies_for_schools.rating != 'TV-14')]"
   ]
  },
  {
   "cell_type": "code",
   "execution_count": 82,
   "metadata": {},
   "outputs": [
    {
     "data": {
      "text/html": [
       "<div>\n",
       "<style scoped>\n",
       "    .dataframe tbody tr th:only-of-type {\n",
       "        vertical-align: middle;\n",
       "    }\n",
       "\n",
       "    .dataframe tbody tr th {\n",
       "        vertical-align: top;\n",
       "    }\n",
       "\n",
       "    .dataframe thead th {\n",
       "        text-align: right;\n",
       "    }\n",
       "</style>\n",
       "<table border=\"1\" class=\"dataframe\">\n",
       "  <thead>\n",
       "    <tr style=\"text-align: right;\">\n",
       "      <th></th>\n",
       "      <th>show_id</th>\n",
       "      <th>type</th>\n",
       "      <th>title</th>\n",
       "      <th>director</th>\n",
       "      <th>cast</th>\n",
       "      <th>country</th>\n",
       "      <th>date_added</th>\n",
       "      <th>release_year</th>\n",
       "      <th>rating</th>\n",
       "      <th>duration</th>\n",
       "      <th>listed_in</th>\n",
       "      <th>description</th>\n",
       "    </tr>\n",
       "  </thead>\n",
       "  <tbody>\n",
       "    <tr>\n",
       "      <th>9</th>\n",
       "      <td>s10</td>\n",
       "      <td>Movie</td>\n",
       "      <td>A Muppets Christmas: Letters To Santa</td>\n",
       "      <td>Kirk R. Thatcher</td>\n",
       "      <td>Steve Whitmire, Dave Goelz, Bill Barretta, Eri...</td>\n",
       "      <td>United States</td>\n",
       "      <td>2021-11-19</td>\n",
       "      <td>2008</td>\n",
       "      <td>G</td>\n",
       "      <td>45</td>\n",
       "      <td>Family</td>\n",
       "      <td>Celebrate the holiday season with all your fav...</td>\n",
       "    </tr>\n",
       "    <tr>\n",
       "      <th>70</th>\n",
       "      <td>s71</td>\n",
       "      <td>Movie</td>\n",
       "      <td>Muppets Haunted Mansion</td>\n",
       "      <td>Kirk Thatcher</td>\n",
       "      <td>Dave Goelz, Bill Barretta, Will Arnett, Taraji...</td>\n",
       "      <td>Data unavailable</td>\n",
       "      <td>2021-10-08</td>\n",
       "      <td>2021</td>\n",
       "      <td>TV-PG</td>\n",
       "      <td>53</td>\n",
       "      <td>Family</td>\n",
       "      <td>Gonzo is challenged to spend Halloween night i...</td>\n",
       "    </tr>\n",
       "    <tr>\n",
       "      <th>349</th>\n",
       "      <td>s350</td>\n",
       "      <td>Movie</td>\n",
       "      <td>The Disney Holiday Singalong</td>\n",
       "      <td>Data unavailable</td>\n",
       "      <td>Ryan Seacrest, Andrea Bocelli, BTS , Michael B...</td>\n",
       "      <td>United States</td>\n",
       "      <td>2020-12-04</td>\n",
       "      <td>2020</td>\n",
       "      <td>TV-G</td>\n",
       "      <td>45</td>\n",
       "      <td>Family</td>\n",
       "      <td>A festive musical event with more Disney melod...</td>\n",
       "    </tr>\n",
       "    <tr>\n",
       "      <th>466</th>\n",
       "      <td>s467</td>\n",
       "      <td>Movie</td>\n",
       "      <td>A Pre-Opening Report from Disneyland</td>\n",
       "      <td>Wilfred Jackson</td>\n",
       "      <td>Walt Disney, Winston Hibler</td>\n",
       "      <td>United States</td>\n",
       "      <td>2020-07-17</td>\n",
       "      <td>1955</td>\n",
       "      <td>TV-PG</td>\n",
       "      <td>55</td>\n",
       "      <td>Family</td>\n",
       "      <td>Walt provides a look at the details needed to ...</td>\n",
       "    </tr>\n",
       "    <tr>\n",
       "      <th>471</th>\n",
       "      <td>s472</td>\n",
       "      <td>Movie</td>\n",
       "      <td>The Mouseketeers at Walt Disney World</td>\n",
       "      <td>John Tracy</td>\n",
       "      <td>Jo Worley, Ronnie Schell, Dennis Underwood, Le...</td>\n",
       "      <td>United States</td>\n",
       "      <td>2020-07-17</td>\n",
       "      <td>1977</td>\n",
       "      <td>TV-PG</td>\n",
       "      <td>56</td>\n",
       "      <td>Family</td>\n",
       "      <td>The Mouseketeers arrive to perform at Walt Dis...</td>\n",
       "    </tr>\n",
       "    <tr>\n",
       "      <th>489</th>\n",
       "      <td>s490</td>\n",
       "      <td>Movie</td>\n",
       "      <td>Man in Space</td>\n",
       "      <td>Ward Kimball</td>\n",
       "      <td>Walt Disney, Dick Tufeld, Ward Kimball, Willy ...</td>\n",
       "      <td>United States</td>\n",
       "      <td>2020-06-26</td>\n",
       "      <td>1955</td>\n",
       "      <td>TV-PG</td>\n",
       "      <td>49</td>\n",
       "      <td>Family</td>\n",
       "      <td>From the TV series Disneyland, a look at the h...</td>\n",
       "    </tr>\n",
       "    <tr>\n",
       "      <th>490</th>\n",
       "      <td>s491</td>\n",
       "      <td>Movie</td>\n",
       "      <td>Mars and Beyond</td>\n",
       "      <td>Ward Kimball</td>\n",
       "      <td>Walt Disney, Paul Frees, Dr. Ernst Stuhlinger,...</td>\n",
       "      <td>United States</td>\n",
       "      <td>2020-06-26</td>\n",
       "      <td>1957</td>\n",
       "      <td>TV-G</td>\n",
       "      <td>53</td>\n",
       "      <td>Family</td>\n",
       "      <td>An animated look at humankind's early views of...</td>\n",
       "    </tr>\n",
       "    <tr>\n",
       "      <th>495</th>\n",
       "      <td>s496</td>\n",
       "      <td>Movie</td>\n",
       "      <td>Big Sur: Wild California</td>\n",
       "      <td>Data unavailable</td>\n",
       "      <td>Hector Elizondo</td>\n",
       "      <td>United States</td>\n",
       "      <td>2020-06-19</td>\n",
       "      <td>2010</td>\n",
       "      <td>TV-PG</td>\n",
       "      <td>47</td>\n",
       "      <td>Family</td>\n",
       "      <td>Why is California's Big Sur coastline experien...</td>\n",
       "    </tr>\n",
       "    <tr>\n",
       "      <th>504</th>\n",
       "      <td>s505</td>\n",
       "      <td>Movie</td>\n",
       "      <td>The Liberty Story</td>\n",
       "      <td>Hamilton Luske, Robert Stevenson</td>\n",
       "      <td>Walt Disney</td>\n",
       "      <td>United States</td>\n",
       "      <td>2020-06-12</td>\n",
       "      <td>1957</td>\n",
       "      <td>TV-PG</td>\n",
       "      <td>48</td>\n",
       "      <td>Family</td>\n",
       "      <td>Walt Disney presents segments of America's fig...</td>\n",
       "    </tr>\n",
       "    <tr>\n",
       "      <th>505</th>\n",
       "      <td>s506</td>\n",
       "      <td>Movie</td>\n",
       "      <td>The Story of the Animated Drawing</td>\n",
       "      <td>Wilfred Jackson, William Beaudine</td>\n",
       "      <td>Data unavailable</td>\n",
       "      <td>United States</td>\n",
       "      <td>2020-06-12</td>\n",
       "      <td>1955</td>\n",
       "      <td>TV-PG</td>\n",
       "      <td>49</td>\n",
       "      <td>Family</td>\n",
       "      <td>Walt Disney discusses the history of animation...</td>\n",
       "    </tr>\n",
       "    <tr>\n",
       "      <th>567</th>\n",
       "      <td>s568</td>\n",
       "      <td>Movie</td>\n",
       "      <td>A Tale of Two Critters</td>\n",
       "      <td>Jack Speirs</td>\n",
       "      <td>Mayf Nutter</td>\n",
       "      <td>United States</td>\n",
       "      <td>2020-04-03</td>\n",
       "      <td>1977</td>\n",
       "      <td>G</td>\n",
       "      <td>48</td>\n",
       "      <td>Family</td>\n",
       "      <td>A bear cub and a raccoon become fast friends. ...</td>\n",
       "    </tr>\n",
       "    <tr>\n",
       "      <th>752</th>\n",
       "      <td>s753</td>\n",
       "      <td>Movie</td>\n",
       "      <td>Bizarre Dinosaurs</td>\n",
       "      <td>Jenny Kubo</td>\n",
       "      <td>Peter Cullen</td>\n",
       "      <td>United States</td>\n",
       "      <td>2019-11-12</td>\n",
       "      <td>2009</td>\n",
       "      <td>TV-PG</td>\n",
       "      <td>46</td>\n",
       "      <td>Family</td>\n",
       "      <td>Which dinosaurs were the strangest of the stra...</td>\n",
       "    </tr>\n",
       "    <tr>\n",
       "      <th>786</th>\n",
       "      <td>s787</td>\n",
       "      <td>Movie</td>\n",
       "      <td>Casebusters</td>\n",
       "      <td>Wes Craven</td>\n",
       "      <td>Pat Hingle, Noah Hathaway, Virginya Keehne, Ga...</td>\n",
       "      <td>United States</td>\n",
       "      <td>2019-11-12</td>\n",
       "      <td>1986</td>\n",
       "      <td>TV-PG</td>\n",
       "      <td>46</td>\n",
       "      <td>Family</td>\n",
       "      <td>Sibling sleuths investigate a crime that threa...</td>\n",
       "    </tr>\n",
       "    <tr>\n",
       "      <th>853</th>\n",
       "      <td>s854</td>\n",
       "      <td>Movie</td>\n",
       "      <td>Disneyland Around the Seasons (Walt Disney's W...</td>\n",
       "      <td>Hamilton Luske</td>\n",
       "      <td>Walt Disney</td>\n",
       "      <td>United States</td>\n",
       "      <td>2019-11-12</td>\n",
       "      <td>1966</td>\n",
       "      <td>TV-PG</td>\n",
       "      <td>51</td>\n",
       "      <td>Family</td>\n",
       "      <td>Walt Disney talks about Disneyland in 1966. Se...</td>\n",
       "    </tr>\n",
       "    <tr>\n",
       "      <th>913</th>\n",
       "      <td>s914</td>\n",
       "      <td>Movie</td>\n",
       "      <td>Giants of the Deep Blue</td>\n",
       "      <td>Ken Corben</td>\n",
       "      <td>Bill Graves</td>\n",
       "      <td>Data unavailable</td>\n",
       "      <td>2019-11-12</td>\n",
       "      <td>2018</td>\n",
       "      <td>TV-PG</td>\n",
       "      <td>45</td>\n",
       "      <td>Family</td>\n",
       "      <td>Go beneath the surface of the sea for an extra...</td>\n",
       "    </tr>\n",
       "    <tr>\n",
       "      <th>1136</th>\n",
       "      <td>s1137</td>\n",
       "      <td>Movie</td>\n",
       "      <td>Planet of the Birds</td>\n",
       "      <td>Data unavailable</td>\n",
       "      <td>Rodd Houston</td>\n",
       "      <td>Data unavailable</td>\n",
       "      <td>2019-11-12</td>\n",
       "      <td>2018</td>\n",
       "      <td>TV-PG</td>\n",
       "      <td>45</td>\n",
       "      <td>Family</td>\n",
       "      <td>Tough and versatile, birds live in almost ever...</td>\n",
       "    </tr>\n",
       "    <tr>\n",
       "      <th>1173</th>\n",
       "      <td>s1174</td>\n",
       "      <td>Movie</td>\n",
       "      <td>Sacred Planet</td>\n",
       "      <td>Jon Long</td>\n",
       "      <td>Robert Redford, Arapata McKay, Tsaan Ciqae, Ma...</td>\n",
       "      <td>Canada, Malaysia, United States</td>\n",
       "      <td>2019-11-12</td>\n",
       "      <td>2004</td>\n",
       "      <td>G</td>\n",
       "      <td>47</td>\n",
       "      <td>Family</td>\n",
       "      <td>Visit some of the most exotic and beautiful pl...</td>\n",
       "    </tr>\n",
       "    <tr>\n",
       "      <th>1225</th>\n",
       "      <td>s1226</td>\n",
       "      <td>Movie</td>\n",
       "      <td>Sultan and the Rock Star</td>\n",
       "      <td>Ed Abroms</td>\n",
       "      <td>Timothy Hutton, Ken Swofford, Bruce Glover, Ne...</td>\n",
       "      <td>United States</td>\n",
       "      <td>2019-11-12</td>\n",
       "      <td>1980</td>\n",
       "      <td>TV-PG</td>\n",
       "      <td>47</td>\n",
       "      <td>Family</td>\n",
       "      <td>A rock star befriends a gentle tiger being hun...</td>\n",
       "    </tr>\n",
       "    <tr>\n",
       "      <th>1318</th>\n",
       "      <td>s1319</td>\n",
       "      <td>Movie</td>\n",
       "      <td>The Plausible Impossible (Disneyland: 1954-58)</td>\n",
       "      <td>Wilfred Jackson, William Beaudine</td>\n",
       "      <td>Walt Disney</td>\n",
       "      <td>United States</td>\n",
       "      <td>2019-11-12</td>\n",
       "      <td>1956</td>\n",
       "      <td>TV-PG</td>\n",
       "      <td>52</td>\n",
       "      <td>Family</td>\n",
       "      <td>Walt Disney explains some of the techniques of...</td>\n",
       "    </tr>\n",
       "    <tr>\n",
       "      <th>1388</th>\n",
       "      <td>s1389</td>\n",
       "      <td>Movie</td>\n",
       "      <td>Tree Climbing Lions</td>\n",
       "      <td>Data unavailable</td>\n",
       "      <td>Alexander Braczkowski</td>\n",
       "      <td>Data unavailable</td>\n",
       "      <td>2019-11-12</td>\n",
       "      <td>2018</td>\n",
       "      <td>TV-PG</td>\n",
       "      <td>45</td>\n",
       "      <td>Family</td>\n",
       "      <td>Lions in Uganda exhibit a rare, mysterious beh...</td>\n",
       "    </tr>\n",
       "    <tr>\n",
       "      <th>1419</th>\n",
       "      <td>s1420</td>\n",
       "      <td>Movie</td>\n",
       "      <td>Yellowstone Cubs</td>\n",
       "      <td>Charles Draper</td>\n",
       "      <td>Rex Allen</td>\n",
       "      <td>United States</td>\n",
       "      <td>2019-11-12</td>\n",
       "      <td>1963</td>\n",
       "      <td>TV-PG</td>\n",
       "      <td>48</td>\n",
       "      <td>Family</td>\n",
       "      <td>Two bear cubs take a mischievous tour of Yello...</td>\n",
       "    </tr>\n",
       "  </tbody>\n",
       "</table>\n",
       "</div>"
      ],
      "text/plain": [
       "     show_id   type                                              title  \\\n",
       "9        s10  Movie              A Muppets Christmas: Letters To Santa   \n",
       "70       s71  Movie                            Muppets Haunted Mansion   \n",
       "349     s350  Movie                       The Disney Holiday Singalong   \n",
       "466     s467  Movie               A Pre-Opening Report from Disneyland   \n",
       "471     s472  Movie              The Mouseketeers at Walt Disney World   \n",
       "489     s490  Movie                                       Man in Space   \n",
       "490     s491  Movie                                    Mars and Beyond   \n",
       "495     s496  Movie                           Big Sur: Wild California   \n",
       "504     s505  Movie                                  The Liberty Story   \n",
       "505     s506  Movie                  The Story of the Animated Drawing   \n",
       "567     s568  Movie                             A Tale of Two Critters   \n",
       "752     s753  Movie                                  Bizarre Dinosaurs   \n",
       "786     s787  Movie                                        Casebusters   \n",
       "853     s854  Movie  Disneyland Around the Seasons (Walt Disney's W...   \n",
       "913     s914  Movie                            Giants of the Deep Blue   \n",
       "1136   s1137  Movie                                Planet of the Birds   \n",
       "1173   s1174  Movie                                      Sacred Planet   \n",
       "1225   s1226  Movie                           Sultan and the Rock Star   \n",
       "1318   s1319  Movie     The Plausible Impossible (Disneyland: 1954-58)   \n",
       "1388   s1389  Movie                                Tree Climbing Lions   \n",
       "1419   s1420  Movie                                   Yellowstone Cubs   \n",
       "\n",
       "                               director  \\\n",
       "9                      Kirk R. Thatcher   \n",
       "70                        Kirk Thatcher   \n",
       "349                    Data unavailable   \n",
       "466                     Wilfred Jackson   \n",
       "471                          John Tracy   \n",
       "489                        Ward Kimball   \n",
       "490                        Ward Kimball   \n",
       "495                    Data unavailable   \n",
       "504    Hamilton Luske, Robert Stevenson   \n",
       "505   Wilfred Jackson, William Beaudine   \n",
       "567                         Jack Speirs   \n",
       "752                          Jenny Kubo   \n",
       "786                          Wes Craven   \n",
       "853                      Hamilton Luske   \n",
       "913                          Ken Corben   \n",
       "1136                   Data unavailable   \n",
       "1173                           Jon Long   \n",
       "1225                          Ed Abroms   \n",
       "1318  Wilfred Jackson, William Beaudine   \n",
       "1388                   Data unavailable   \n",
       "1419                     Charles Draper   \n",
       "\n",
       "                                                   cast  \\\n",
       "9     Steve Whitmire, Dave Goelz, Bill Barretta, Eri...   \n",
       "70    Dave Goelz, Bill Barretta, Will Arnett, Taraji...   \n",
       "349   Ryan Seacrest, Andrea Bocelli, BTS , Michael B...   \n",
       "466                         Walt Disney, Winston Hibler   \n",
       "471   Jo Worley, Ronnie Schell, Dennis Underwood, Le...   \n",
       "489   Walt Disney, Dick Tufeld, Ward Kimball, Willy ...   \n",
       "490   Walt Disney, Paul Frees, Dr. Ernst Stuhlinger,...   \n",
       "495                                     Hector Elizondo   \n",
       "504                                         Walt Disney   \n",
       "505                                    Data unavailable   \n",
       "567                                         Mayf Nutter   \n",
       "752                                        Peter Cullen   \n",
       "786   Pat Hingle, Noah Hathaway, Virginya Keehne, Ga...   \n",
       "853                                         Walt Disney   \n",
       "913                                         Bill Graves   \n",
       "1136                                       Rodd Houston   \n",
       "1173  Robert Redford, Arapata McKay, Tsaan Ciqae, Ma...   \n",
       "1225  Timothy Hutton, Ken Swofford, Bruce Glover, Ne...   \n",
       "1318                                        Walt Disney   \n",
       "1388                              Alexander Braczkowski   \n",
       "1419                                          Rex Allen   \n",
       "\n",
       "                              country date_added  release_year rating  \\\n",
       "9                       United States 2021-11-19          2008      G   \n",
       "70                   Data unavailable 2021-10-08          2021  TV-PG   \n",
       "349                     United States 2020-12-04          2020   TV-G   \n",
       "466                     United States 2020-07-17          1955  TV-PG   \n",
       "471                     United States 2020-07-17          1977  TV-PG   \n",
       "489                     United States 2020-06-26          1955  TV-PG   \n",
       "490                     United States 2020-06-26          1957   TV-G   \n",
       "495                     United States 2020-06-19          2010  TV-PG   \n",
       "504                     United States 2020-06-12          1957  TV-PG   \n",
       "505                     United States 2020-06-12          1955  TV-PG   \n",
       "567                     United States 2020-04-03          1977      G   \n",
       "752                     United States 2019-11-12          2009  TV-PG   \n",
       "786                     United States 2019-11-12          1986  TV-PG   \n",
       "853                     United States 2019-11-12          1966  TV-PG   \n",
       "913                  Data unavailable 2019-11-12          2018  TV-PG   \n",
       "1136                 Data unavailable 2019-11-12          2018  TV-PG   \n",
       "1173  Canada, Malaysia, United States 2019-11-12          2004      G   \n",
       "1225                    United States 2019-11-12          1980  TV-PG   \n",
       "1318                    United States 2019-11-12          1956  TV-PG   \n",
       "1388                 Data unavailable 2019-11-12          2018  TV-PG   \n",
       "1419                    United States 2019-11-12          1963  TV-PG   \n",
       "\n",
       "      duration listed_in                                        description  \n",
       "9           45    Family  Celebrate the holiday season with all your fav...  \n",
       "70          53    Family  Gonzo is challenged to spend Halloween night i...  \n",
       "349         45    Family  A festive musical event with more Disney melod...  \n",
       "466         55    Family  Walt provides a look at the details needed to ...  \n",
       "471         56    Family  The Mouseketeers arrive to perform at Walt Dis...  \n",
       "489         49    Family  From the TV series Disneyland, a look at the h...  \n",
       "490         53    Family  An animated look at humankind's early views of...  \n",
       "495         47    Family  Why is California's Big Sur coastline experien...  \n",
       "504         48    Family  Walt Disney presents segments of America's fig...  \n",
       "505         49    Family  Walt Disney discusses the history of animation...  \n",
       "567         48    Family  A bear cub and a raccoon become fast friends. ...  \n",
       "752         46    Family  Which dinosaurs were the strangest of the stra...  \n",
       "786         46    Family  Sibling sleuths investigate a crime that threa...  \n",
       "853         51    Family  Walt Disney talks about Disneyland in 1966. Se...  \n",
       "913         45    Family  Go beneath the surface of the sea for an extra...  \n",
       "1136        45    Family  Tough and versatile, birds live in almost ever...  \n",
       "1173        47    Family  Visit some of the most exotic and beautiful pl...  \n",
       "1225        47    Family  A rock star befriends a gentle tiger being hun...  \n",
       "1318        52    Family  Walt Disney explains some of the techniques of...  \n",
       "1388        45    Family  Lions in Uganda exhibit a rare, mysterious beh...  \n",
       "1419        48    Family  Two bear cubs take a mischievous tour of Yello...  "
      ]
     },
     "execution_count": 82,
     "metadata": {},
     "output_type": "execute_result"
    }
   ],
   "source": [
    "movies_for_schools"
   ]
  },
  {
   "cell_type": "code",
   "execution_count": 83,
   "metadata": {},
   "outputs": [],
   "source": [
    "#lets drop the movies for release year before 1990\n",
    "movies_for_schools = movies_for_schools[(movies_for_schools.release_year >= 1990)]"
   ]
  },
  {
   "cell_type": "code",
   "execution_count": 84,
   "metadata": {},
   "outputs": [
    {
     "data": {
      "text/html": [
       "<div>\n",
       "<style scoped>\n",
       "    .dataframe tbody tr th:only-of-type {\n",
       "        vertical-align: middle;\n",
       "    }\n",
       "\n",
       "    .dataframe tbody tr th {\n",
       "        vertical-align: top;\n",
       "    }\n",
       "\n",
       "    .dataframe thead th {\n",
       "        text-align: right;\n",
       "    }\n",
       "</style>\n",
       "<table border=\"1\" class=\"dataframe\">\n",
       "  <thead>\n",
       "    <tr style=\"text-align: right;\">\n",
       "      <th></th>\n",
       "      <th>show_id</th>\n",
       "      <th>type</th>\n",
       "      <th>title</th>\n",
       "      <th>director</th>\n",
       "      <th>cast</th>\n",
       "      <th>country</th>\n",
       "      <th>date_added</th>\n",
       "      <th>release_year</th>\n",
       "      <th>rating</th>\n",
       "      <th>duration</th>\n",
       "      <th>listed_in</th>\n",
       "      <th>description</th>\n",
       "    </tr>\n",
       "  </thead>\n",
       "  <tbody>\n",
       "    <tr>\n",
       "      <th>9</th>\n",
       "      <td>s10</td>\n",
       "      <td>Movie</td>\n",
       "      <td>A Muppets Christmas: Letters To Santa</td>\n",
       "      <td>Kirk R. Thatcher</td>\n",
       "      <td>Steve Whitmire, Dave Goelz, Bill Barretta, Eri...</td>\n",
       "      <td>United States</td>\n",
       "      <td>2021-11-19</td>\n",
       "      <td>2008</td>\n",
       "      <td>G</td>\n",
       "      <td>45</td>\n",
       "      <td>Family</td>\n",
       "      <td>Celebrate the holiday season with all your fav...</td>\n",
       "    </tr>\n",
       "    <tr>\n",
       "      <th>70</th>\n",
       "      <td>s71</td>\n",
       "      <td>Movie</td>\n",
       "      <td>Muppets Haunted Mansion</td>\n",
       "      <td>Kirk Thatcher</td>\n",
       "      <td>Dave Goelz, Bill Barretta, Will Arnett, Taraji...</td>\n",
       "      <td>Data unavailable</td>\n",
       "      <td>2021-10-08</td>\n",
       "      <td>2021</td>\n",
       "      <td>TV-PG</td>\n",
       "      <td>53</td>\n",
       "      <td>Family</td>\n",
       "      <td>Gonzo is challenged to spend Halloween night i...</td>\n",
       "    </tr>\n",
       "    <tr>\n",
       "      <th>349</th>\n",
       "      <td>s350</td>\n",
       "      <td>Movie</td>\n",
       "      <td>The Disney Holiday Singalong</td>\n",
       "      <td>Data unavailable</td>\n",
       "      <td>Ryan Seacrest, Andrea Bocelli, BTS , Michael B...</td>\n",
       "      <td>United States</td>\n",
       "      <td>2020-12-04</td>\n",
       "      <td>2020</td>\n",
       "      <td>TV-G</td>\n",
       "      <td>45</td>\n",
       "      <td>Family</td>\n",
       "      <td>A festive musical event with more Disney melod...</td>\n",
       "    </tr>\n",
       "    <tr>\n",
       "      <th>495</th>\n",
       "      <td>s496</td>\n",
       "      <td>Movie</td>\n",
       "      <td>Big Sur: Wild California</td>\n",
       "      <td>Data unavailable</td>\n",
       "      <td>Hector Elizondo</td>\n",
       "      <td>United States</td>\n",
       "      <td>2020-06-19</td>\n",
       "      <td>2010</td>\n",
       "      <td>TV-PG</td>\n",
       "      <td>47</td>\n",
       "      <td>Family</td>\n",
       "      <td>Why is California's Big Sur coastline experien...</td>\n",
       "    </tr>\n",
       "    <tr>\n",
       "      <th>752</th>\n",
       "      <td>s753</td>\n",
       "      <td>Movie</td>\n",
       "      <td>Bizarre Dinosaurs</td>\n",
       "      <td>Jenny Kubo</td>\n",
       "      <td>Peter Cullen</td>\n",
       "      <td>United States</td>\n",
       "      <td>2019-11-12</td>\n",
       "      <td>2009</td>\n",
       "      <td>TV-PG</td>\n",
       "      <td>46</td>\n",
       "      <td>Family</td>\n",
       "      <td>Which dinosaurs were the strangest of the stra...</td>\n",
       "    </tr>\n",
       "    <tr>\n",
       "      <th>913</th>\n",
       "      <td>s914</td>\n",
       "      <td>Movie</td>\n",
       "      <td>Giants of the Deep Blue</td>\n",
       "      <td>Ken Corben</td>\n",
       "      <td>Bill Graves</td>\n",
       "      <td>Data unavailable</td>\n",
       "      <td>2019-11-12</td>\n",
       "      <td>2018</td>\n",
       "      <td>TV-PG</td>\n",
       "      <td>45</td>\n",
       "      <td>Family</td>\n",
       "      <td>Go beneath the surface of the sea for an extra...</td>\n",
       "    </tr>\n",
       "    <tr>\n",
       "      <th>1136</th>\n",
       "      <td>s1137</td>\n",
       "      <td>Movie</td>\n",
       "      <td>Planet of the Birds</td>\n",
       "      <td>Data unavailable</td>\n",
       "      <td>Rodd Houston</td>\n",
       "      <td>Data unavailable</td>\n",
       "      <td>2019-11-12</td>\n",
       "      <td>2018</td>\n",
       "      <td>TV-PG</td>\n",
       "      <td>45</td>\n",
       "      <td>Family</td>\n",
       "      <td>Tough and versatile, birds live in almost ever...</td>\n",
       "    </tr>\n",
       "    <tr>\n",
       "      <th>1173</th>\n",
       "      <td>s1174</td>\n",
       "      <td>Movie</td>\n",
       "      <td>Sacred Planet</td>\n",
       "      <td>Jon Long</td>\n",
       "      <td>Robert Redford, Arapata McKay, Tsaan Ciqae, Ma...</td>\n",
       "      <td>Canada, Malaysia, United States</td>\n",
       "      <td>2019-11-12</td>\n",
       "      <td>2004</td>\n",
       "      <td>G</td>\n",
       "      <td>47</td>\n",
       "      <td>Family</td>\n",
       "      <td>Visit some of the most exotic and beautiful pl...</td>\n",
       "    </tr>\n",
       "    <tr>\n",
       "      <th>1388</th>\n",
       "      <td>s1389</td>\n",
       "      <td>Movie</td>\n",
       "      <td>Tree Climbing Lions</td>\n",
       "      <td>Data unavailable</td>\n",
       "      <td>Alexander Braczkowski</td>\n",
       "      <td>Data unavailable</td>\n",
       "      <td>2019-11-12</td>\n",
       "      <td>2018</td>\n",
       "      <td>TV-PG</td>\n",
       "      <td>45</td>\n",
       "      <td>Family</td>\n",
       "      <td>Lions in Uganda exhibit a rare, mysterious beh...</td>\n",
       "    </tr>\n",
       "  </tbody>\n",
       "</table>\n",
       "</div>"
      ],
      "text/plain": [
       "     show_id   type                                  title          director  \\\n",
       "9        s10  Movie  A Muppets Christmas: Letters To Santa  Kirk R. Thatcher   \n",
       "70       s71  Movie                Muppets Haunted Mansion     Kirk Thatcher   \n",
       "349     s350  Movie           The Disney Holiday Singalong  Data unavailable   \n",
       "495     s496  Movie               Big Sur: Wild California  Data unavailable   \n",
       "752     s753  Movie                      Bizarre Dinosaurs        Jenny Kubo   \n",
       "913     s914  Movie                Giants of the Deep Blue        Ken Corben   \n",
       "1136   s1137  Movie                    Planet of the Birds  Data unavailable   \n",
       "1173   s1174  Movie                          Sacred Planet          Jon Long   \n",
       "1388   s1389  Movie                    Tree Climbing Lions  Data unavailable   \n",
       "\n",
       "                                                   cast  \\\n",
       "9     Steve Whitmire, Dave Goelz, Bill Barretta, Eri...   \n",
       "70    Dave Goelz, Bill Barretta, Will Arnett, Taraji...   \n",
       "349   Ryan Seacrest, Andrea Bocelli, BTS , Michael B...   \n",
       "495                                     Hector Elizondo   \n",
       "752                                        Peter Cullen   \n",
       "913                                         Bill Graves   \n",
       "1136                                       Rodd Houston   \n",
       "1173  Robert Redford, Arapata McKay, Tsaan Ciqae, Ma...   \n",
       "1388                              Alexander Braczkowski   \n",
       "\n",
       "                              country date_added  release_year rating  \\\n",
       "9                       United States 2021-11-19          2008      G   \n",
       "70                   Data unavailable 2021-10-08          2021  TV-PG   \n",
       "349                     United States 2020-12-04          2020   TV-G   \n",
       "495                     United States 2020-06-19          2010  TV-PG   \n",
       "752                     United States 2019-11-12          2009  TV-PG   \n",
       "913                  Data unavailable 2019-11-12          2018  TV-PG   \n",
       "1136                 Data unavailable 2019-11-12          2018  TV-PG   \n",
       "1173  Canada, Malaysia, United States 2019-11-12          2004      G   \n",
       "1388                 Data unavailable 2019-11-12          2018  TV-PG   \n",
       "\n",
       "      duration listed_in                                        description  \n",
       "9           45    Family  Celebrate the holiday season with all your fav...  \n",
       "70          53    Family  Gonzo is challenged to spend Halloween night i...  \n",
       "349         45    Family  A festive musical event with more Disney melod...  \n",
       "495         47    Family  Why is California's Big Sur coastline experien...  \n",
       "752         46    Family  Which dinosaurs were the strangest of the stra...  \n",
       "913         45    Family  Go beneath the surface of the sea for an extra...  \n",
       "1136        45    Family  Tough and versatile, birds live in almost ever...  \n",
       "1173        47    Family  Visit some of the most exotic and beautiful pl...  \n",
       "1388        45    Family  Lions in Uganda exhibit a rare, mysterious beh...  "
      ]
     },
     "execution_count": 84,
     "metadata": {},
     "output_type": "execute_result"
    }
   ],
   "source": [
    "movies_for_schools"
   ]
  },
  {
   "cell_type": "code",
   "execution_count": 85,
   "metadata": {},
   "outputs": [
    {
     "data": {
      "text/plain": [
       "9       A Muppets Christmas: Letters To Santa\n",
       "70                    Muppets Haunted Mansion\n",
       "349              The Disney Holiday Singalong\n",
       "495                  Big Sur: Wild California\n",
       "752                         Bizarre Dinosaurs\n",
       "913                   Giants of the Deep Blue\n",
       "1136                      Planet of the Birds\n",
       "1173                            Sacred Planet\n",
       "1388                      Tree Climbing Lions\n",
       "Name: title, dtype: object"
      ]
     },
     "execution_count": 85,
     "metadata": {},
     "output_type": "execute_result"
    }
   ],
   "source": [
    "movies_for_schools['title']"
   ]
  },
  {
   "cell_type": "code",
   "execution_count": 86,
   "metadata": {},
   "outputs": [
    {
     "data": {
      "image/png": "[encoded data removed]",
      "text/plain": [
       "<Figure size 864x432 with 1 Axes>"
      ]
     },
     "metadata": {
      "needs_background": "light"
     },
     "output_type": "display_data"
    }
   ],
   "source": [
    "# We recommend the 9 movies for the school which are shortlisted as per their given criteria\n",
    "plt.figure(figsize=(12, 6))\n",
    "sns.barplot(x='duration', y='title', hue='rating', data=movies_for_schools);"
   ]
  },
  {
   "cell_type": "markdown",
   "metadata": {},
   "source": [
    "#### Q4: Find the top 10 countries with the most content on disney+"
   ]
  },
  {
   "cell_type": "code",
   "execution_count": 87,
   "metadata": {},
   "outputs": [
    {
     "data": {
      "text/html": [
       "<div>\n",
       "<style scoped>\n",
       "    .dataframe tbody tr th:only-of-type {\n",
       "        vertical-align: middle;\n",
       "    }\n",
       "\n",
       "    .dataframe tbody tr th {\n",
       "        vertical-align: top;\n",
       "    }\n",
       "\n",
       "    .dataframe thead th {\n",
       "        text-align: right;\n",
       "    }\n",
       "</style>\n",
       "<table border=\"1\" class=\"dataframe\">\n",
       "  <thead>\n",
       "    <tr style=\"text-align: right;\">\n",
       "      <th></th>\n",
       "      <th>show_id</th>\n",
       "      <th>type</th>\n",
       "      <th>title</th>\n",
       "      <th>director</th>\n",
       "      <th>cast</th>\n",
       "      <th>country</th>\n",
       "      <th>date_added</th>\n",
       "      <th>release_year</th>\n",
       "      <th>rating</th>\n",
       "      <th>duration</th>\n",
       "      <th>listed_in</th>\n",
       "      <th>description</th>\n",
       "    </tr>\n",
       "  </thead>\n",
       "  <tbody>\n",
       "    <tr>\n",
       "      <th>1445</th>\n",
       "      <td>s1446</td>\n",
       "      <td>Movie</td>\n",
       "      <td>X-Men Origins: Wolverine</td>\n",
       "      <td>Gavin Hood</td>\n",
       "      <td>Hugh Jackman, Liev Schreiber, Danny Huston, wi...</td>\n",
       "      <td>United States, United Kingdom</td>\n",
       "      <td>2021-06-04</td>\n",
       "      <td>2009</td>\n",
       "      <td>PG-13</td>\n",
       "      <td>108 min</td>\n",
       "      <td>Action-Adventure, Family, Science Fiction</td>\n",
       "      <td>Wolverine unites with legendary X-Men to fight...</td>\n",
       "    </tr>\n",
       "    <tr>\n",
       "      <th>1446</th>\n",
       "      <td>s1447</td>\n",
       "      <td>Movie</td>\n",
       "      <td>Night at the Museum: Battle of the Smithsonian</td>\n",
       "      <td>Shawn Levy</td>\n",
       "      <td>Ben Stiller, Amy Adams, Owen Wilson, Hank Azar...</td>\n",
       "      <td>United States, Canada</td>\n",
       "      <td>2021-04-02</td>\n",
       "      <td>2009</td>\n",
       "      <td>PG</td>\n",
       "      <td>106 min</td>\n",
       "      <td>Action-Adventure, Comedy, Family</td>\n",
       "      <td>Larry Daley returns to rescue some old friends...</td>\n",
       "    </tr>\n",
       "    <tr>\n",
       "      <th>1447</th>\n",
       "      <td>s1448</td>\n",
       "      <td>Movie</td>\n",
       "      <td>Eddie the Eagle</td>\n",
       "      <td>Dexter Fletcher</td>\n",
       "      <td>Tom Costello, Jo Hartley, Keith Allen, Dickon ...</td>\n",
       "      <td>United Kingdom, Germany, United States</td>\n",
       "      <td>2020-12-18</td>\n",
       "      <td>2016</td>\n",
       "      <td>PG-13</td>\n",
       "      <td>107 min</td>\n",
       "      <td>Biographical, Comedy, Drama</td>\n",
       "      <td>True story of Eddie Edwards, a British ski-jum...</td>\n",
       "    </tr>\n",
       "    <tr>\n",
       "      <th>1448</th>\n",
       "      <td>s1449</td>\n",
       "      <td>Movie</td>\n",
       "      <td>Bend It Like Beckham</td>\n",
       "      <td>Gurinder Chadha</td>\n",
       "      <td>Parminder Nagra, Keira Knightley, Jonathan Rhy...</td>\n",
       "      <td>United Kingdom, Germany, United States</td>\n",
       "      <td>2020-09-18</td>\n",
       "      <td>2003</td>\n",
       "      <td>PG-13</td>\n",
       "      <td>112 min</td>\n",
       "      <td>Buddy, Comedy, Coming of Age</td>\n",
       "      <td>Despite the wishes of their traditional famili...</td>\n",
       "    </tr>\n",
       "    <tr>\n",
       "      <th>1449</th>\n",
       "      <td>s1450</td>\n",
       "      <td>Movie</td>\n",
       "      <td>Captain Sparky vs. The Flying Saucers</td>\n",
       "      <td>Mark Waring</td>\n",
       "      <td>Charlie Tahan</td>\n",
       "      <td>United States</td>\n",
       "      <td>2020-04-01</td>\n",
       "      <td>2012</td>\n",
       "      <td>TV-G</td>\n",
       "      <td>2 min</td>\n",
       "      <td>Action-Adventure, Animals &amp; Nature, Animation</td>\n",
       "      <td>View one of Sparky's favorite home movies.</td>\n",
       "    </tr>\n",
       "  </tbody>\n",
       "</table>\n",
       "</div>"
      ],
      "text/plain": [
       "     show_id   type                                           title  \\\n",
       "1445   s1446  Movie                        X-Men Origins: Wolverine   \n",
       "1446   s1447  Movie  Night at the Museum: Battle of the Smithsonian   \n",
       "1447   s1448  Movie                                 Eddie the Eagle   \n",
       "1448   s1449  Movie                            Bend It Like Beckham   \n",
       "1449   s1450  Movie           Captain Sparky vs. The Flying Saucers   \n",
       "\n",
       "             director                                               cast  \\\n",
       "1445       Gavin Hood  Hugh Jackman, Liev Schreiber, Danny Huston, wi...   \n",
       "1446       Shawn Levy  Ben Stiller, Amy Adams, Owen Wilson, Hank Azar...   \n",
       "1447  Dexter Fletcher  Tom Costello, Jo Hartley, Keith Allen, Dickon ...   \n",
       "1448  Gurinder Chadha  Parminder Nagra, Keira Knightley, Jonathan Rhy...   \n",
       "1449      Mark Waring                                      Charlie Tahan   \n",
       "\n",
       "                                     country date_added  release_year rating  \\\n",
       "1445           United States, United Kingdom 2021-06-04          2009  PG-13   \n",
       "1446                   United States, Canada 2021-04-02          2009     PG   \n",
       "1447  United Kingdom, Germany, United States 2020-12-18          2016  PG-13   \n",
       "1448  United Kingdom, Germany, United States 2020-09-18          2003  PG-13   \n",
       "1449                           United States 2020-04-01          2012   TV-G   \n",
       "\n",
       "     duration                                      listed_in  \\\n",
       "1445  108 min      Action-Adventure, Family, Science Fiction   \n",
       "1446  106 min               Action-Adventure, Comedy, Family   \n",
       "1447  107 min                    Biographical, Comedy, Drama   \n",
       "1448  112 min                   Buddy, Comedy, Coming of Age   \n",
       "1449    2 min  Action-Adventure, Animals & Nature, Animation   \n",
       "\n",
       "                                            description  \n",
       "1445  Wolverine unites with legendary X-Men to fight...  \n",
       "1446  Larry Daley returns to rescue some old friends...  \n",
       "1447  True story of Eddie Edwards, a British ski-jum...  \n",
       "1448  Despite the wishes of their traditional famili...  \n",
       "1449         View one of Sparky's favorite home movies.  "
      ]
     },
     "execution_count": 87,
     "metadata": {},
     "output_type": "execute_result"
    }
   ],
   "source": [
    "disney_raw_df.tail()"
   ]
  },
  {
   "cell_type": "code",
   "execution_count": 88,
   "metadata": {},
   "outputs": [],
   "source": [
    "#creating a copy of dataframe to work on\n",
    "disney_data = disney_raw_df.copy()"
   ]
  },
  {
   "cell_type": "code",
   "execution_count": 89,
   "metadata": {},
   "outputs": [],
   "source": [
    "#we need to split the strings from country column to get country in seperate rows for the movies\n",
    "#The split() method splits a string into a list.\n",
    "# we have specified ','(comma) as a separator\n",
    "disney_data['country'] = disney_data['country'].str.split(',')"
   ]
  },
  {
   "cell_type": "code",
   "execution_count": 90,
   "metadata": {},
   "outputs": [],
   "source": [
    "# The explode() method converts each element of the specified column(s) into a row.\n",
    "out2 = disney_data.explode('country')"
   ]
  },
  {
   "cell_type": "code",
   "execution_count": 91,
   "metadata": {},
   "outputs": [
    {
     "data": {
      "text/html": [
       "<div>\n",
       "<style scoped>\n",
       "    .dataframe tbody tr th:only-of-type {\n",
       "        vertical-align: middle;\n",
       "    }\n",
       "\n",
       "    .dataframe tbody tr th {\n",
       "        vertical-align: top;\n",
       "    }\n",
       "\n",
       "    .dataframe thead th {\n",
       "        text-align: right;\n",
       "    }\n",
       "</style>\n",
       "<table border=\"1\" class=\"dataframe\">\n",
       "  <thead>\n",
       "    <tr style=\"text-align: right;\">\n",
       "      <th></th>\n",
       "      <th>show_id</th>\n",
       "      <th>type</th>\n",
       "      <th>title</th>\n",
       "      <th>director</th>\n",
       "      <th>cast</th>\n",
       "      <th>country</th>\n",
       "      <th>date_added</th>\n",
       "      <th>release_year</th>\n",
       "      <th>rating</th>\n",
       "      <th>duration</th>\n",
       "      <th>listed_in</th>\n",
       "      <th>description</th>\n",
       "    </tr>\n",
       "  </thead>\n",
       "  <tbody>\n",
       "    <tr>\n",
       "      <th>1447</th>\n",
       "      <td>s1448</td>\n",
       "      <td>Movie</td>\n",
       "      <td>Eddie the Eagle</td>\n",
       "      <td>Dexter Fletcher</td>\n",
       "      <td>Tom Costello, Jo Hartley, Keith Allen, Dickon ...</td>\n",
       "      <td>United States</td>\n",
       "      <td>2020-12-18</td>\n",
       "      <td>2016</td>\n",
       "      <td>PG-13</td>\n",
       "      <td>107 min</td>\n",
       "      <td>Biographical, Comedy, Drama</td>\n",
       "      <td>True story of Eddie Edwards, a British ski-jum...</td>\n",
       "    </tr>\n",
       "    <tr>\n",
       "      <th>1448</th>\n",
       "      <td>s1449</td>\n",
       "      <td>Movie</td>\n",
       "      <td>Bend It Like Beckham</td>\n",
       "      <td>Gurinder Chadha</td>\n",
       "      <td>Parminder Nagra, Keira Knightley, Jonathan Rhy...</td>\n",
       "      <td>United Kingdom</td>\n",
       "      <td>2020-09-18</td>\n",
       "      <td>2003</td>\n",
       "      <td>PG-13</td>\n",
       "      <td>112 min</td>\n",
       "      <td>Buddy, Comedy, Coming of Age</td>\n",
       "      <td>Despite the wishes of their traditional famili...</td>\n",
       "    </tr>\n",
       "    <tr>\n",
       "      <th>1448</th>\n",
       "      <td>s1449</td>\n",
       "      <td>Movie</td>\n",
       "      <td>Bend It Like Beckham</td>\n",
       "      <td>Gurinder Chadha</td>\n",
       "      <td>Parminder Nagra, Keira Knightley, Jonathan Rhy...</td>\n",
       "      <td>Germany</td>\n",
       "      <td>2020-09-18</td>\n",
       "      <td>2003</td>\n",
       "      <td>PG-13</td>\n",
       "      <td>112 min</td>\n",
       "      <td>Buddy, Comedy, Coming of Age</td>\n",
       "      <td>Despite the wishes of their traditional famili...</td>\n",
       "    </tr>\n",
       "    <tr>\n",
       "      <th>1448</th>\n",
       "      <td>s1449</td>\n",
       "      <td>Movie</td>\n",
       "      <td>Bend It Like Beckham</td>\n",
       "      <td>Gurinder Chadha</td>\n",
       "      <td>Parminder Nagra, Keira Knightley, Jonathan Rhy...</td>\n",
       "      <td>United States</td>\n",
       "      <td>2020-09-18</td>\n",
       "      <td>2003</td>\n",
       "      <td>PG-13</td>\n",
       "      <td>112 min</td>\n",
       "      <td>Buddy, Comedy, Coming of Age</td>\n",
       "      <td>Despite the wishes of their traditional famili...</td>\n",
       "    </tr>\n",
       "    <tr>\n",
       "      <th>1449</th>\n",
       "      <td>s1450</td>\n",
       "      <td>Movie</td>\n",
       "      <td>Captain Sparky vs. The Flying Saucers</td>\n",
       "      <td>Mark Waring</td>\n",
       "      <td>Charlie Tahan</td>\n",
       "      <td>United States</td>\n",
       "      <td>2020-04-01</td>\n",
       "      <td>2012</td>\n",
       "      <td>TV-G</td>\n",
       "      <td>2 min</td>\n",
       "      <td>Action-Adventure, Animals &amp; Nature, Animation</td>\n",
       "      <td>View one of Sparky's favorite home movies.</td>\n",
       "    </tr>\n",
       "  </tbody>\n",
       "</table>\n",
       "</div>"
      ],
      "text/plain": [
       "     show_id   type                                  title         director  \\\n",
       "1447   s1448  Movie                        Eddie the Eagle  Dexter Fletcher   \n",
       "1448   s1449  Movie                   Bend It Like Beckham  Gurinder Chadha   \n",
       "1448   s1449  Movie                   Bend It Like Beckham  Gurinder Chadha   \n",
       "1448   s1449  Movie                   Bend It Like Beckham  Gurinder Chadha   \n",
       "1449   s1450  Movie  Captain Sparky vs. The Flying Saucers      Mark Waring   \n",
       "\n",
       "                                                   cast         country  \\\n",
       "1447  Tom Costello, Jo Hartley, Keith Allen, Dickon ...   United States   \n",
       "1448  Parminder Nagra, Keira Knightley, Jonathan Rhy...  United Kingdom   \n",
       "1448  Parminder Nagra, Keira Knightley, Jonathan Rhy...         Germany   \n",
       "1448  Parminder Nagra, Keira Knightley, Jonathan Rhy...   United States   \n",
       "1449                                      Charlie Tahan   United States   \n",
       "\n",
       "     date_added  release_year rating duration  \\\n",
       "1447 2020-12-18          2016  PG-13  107 min   \n",
       "1448 2020-09-18          2003  PG-13  112 min   \n",
       "1448 2020-09-18          2003  PG-13  112 min   \n",
       "1448 2020-09-18          2003  PG-13  112 min   \n",
       "1449 2020-04-01          2012   TV-G    2 min   \n",
       "\n",
       "                                          listed_in  \\\n",
       "1447                    Biographical, Comedy, Drama   \n",
       "1448                   Buddy, Comedy, Coming of Age   \n",
       "1448                   Buddy, Comedy, Coming of Age   \n",
       "1448                   Buddy, Comedy, Coming of Age   \n",
       "1449  Action-Adventure, Animals & Nature, Animation   \n",
       "\n",
       "                                            description  \n",
       "1447  True story of Eddie Edwards, a British ski-jum...  \n",
       "1448  Despite the wishes of their traditional famili...  \n",
       "1448  Despite the wishes of their traditional famili...  \n",
       "1448  Despite the wishes of their traditional famili...  \n",
       "1449         View one of Sparky's favorite home movies.  "
      ]
     },
     "execution_count": 91,
     "metadata": {},
     "output_type": "execute_result"
    }
   ],
   "source": [
    "out2.tail()"
   ]
  },
  {
   "cell_type": "code",
   "execution_count": 92,
   "metadata": {},
   "outputs": [],
   "source": [
    "#lets remove the whitespaces\n",
    "out2['country'] = out2['country'].str.strip()"
   ]
  },
  {
   "cell_type": "code",
   "execution_count": 93,
   "metadata": {},
   "outputs": [],
   "source": [
    "#lets drop the columns where data is unavailable\n",
    "out2 = out2[(out2.country != 'Data unavailable')]"
   ]
  },
  {
   "cell_type": "code",
   "execution_count": 94,
   "metadata": {},
   "outputs": [],
   "source": [
    "# Listing the top 10 countries with the most content on Disney+\n",
    "country_count  = out2['country'].value_counts()\n",
    "country_count = country_count[:10,]"
   ]
  },
  {
   "cell_type": "code",
   "execution_count": 95,
   "metadata": {},
   "outputs": [
    {
     "data": {
      "text/plain": [
       "United States     1182\n",
       "United Kingdom     101\n",
       "Canada              76\n",
       "Australia           23\n",
       "France              22\n",
       "South Korea         13\n",
       "China               10\n",
       "Japan               10\n",
       "Germany              9\n",
       "Ireland              8\n",
       "Name: country, dtype: int64"
      ]
     },
     "execution_count": 95,
     "metadata": {},
     "output_type": "execute_result"
    }
   ],
   "source": [
    "country_count"
   ]
  },
  {
   "cell_type": "code",
   "execution_count": 96,
   "metadata": {},
   "outputs": [],
   "source": [
    "#creating a dictionary which will used further to create the dataframe\n",
    "country_count_predf= {'Country':['United States','United Kingdom','Canada','Australia','France','Sounth Korea','China','Japan','Germany','Ireland']\n",
    "                  ,'No. of content':[1182,101,76,23,22,13,10,10,9,8]}"
   ]
  },
  {
   "cell_type": "code",
   "execution_count": 97,
   "metadata": {},
   "outputs": [],
   "source": [
    "#creating a dataframe\n",
    "country_count_df = pd.DataFrame(data=country_count_predf)"
   ]
  },
  {
   "cell_type": "code",
   "execution_count": 98,
   "metadata": {},
   "outputs": [
    {
     "data": {
      "text/html": [
       "<div>\n",
       "<style scoped>\n",
       "    .dataframe tbody tr th:only-of-type {\n",
       "        vertical-align: middle;\n",
       "    }\n",
       "\n",
       "    .dataframe tbody tr th {\n",
       "        vertical-align: top;\n",
       "    }\n",
       "\n",
       "    .dataframe thead th {\n",
       "        text-align: right;\n",
       "    }\n",
       "</style>\n",
       "<table border=\"1\" class=\"dataframe\">\n",
       "  <thead>\n",
       "    <tr style=\"text-align: right;\">\n",
       "      <th></th>\n",
       "      <th>Country</th>\n",
       "      <th>No. of content</th>\n",
       "    </tr>\n",
       "  </thead>\n",
       "  <tbody>\n",
       "    <tr>\n",
       "      <th>0</th>\n",
       "      <td>United States</td>\n",
       "      <td>1182</td>\n",
       "    </tr>\n",
       "    <tr>\n",
       "      <th>1</th>\n",
       "      <td>United Kingdom</td>\n",
       "      <td>101</td>\n",
       "    </tr>\n",
       "    <tr>\n",
       "      <th>2</th>\n",
       "      <td>Canada</td>\n",
       "      <td>76</td>\n",
       "    </tr>\n",
       "    <tr>\n",
       "      <th>3</th>\n",
       "      <td>Australia</td>\n",
       "      <td>23</td>\n",
       "    </tr>\n",
       "    <tr>\n",
       "      <th>4</th>\n",
       "      <td>France</td>\n",
       "      <td>22</td>\n",
       "    </tr>\n",
       "    <tr>\n",
       "      <th>5</th>\n",
       "      <td>Sounth Korea</td>\n",
       "      <td>13</td>\n",
       "    </tr>\n",
       "    <tr>\n",
       "      <th>6</th>\n",
       "      <td>China</td>\n",
       "      <td>10</td>\n",
       "    </tr>\n",
       "    <tr>\n",
       "      <th>7</th>\n",
       "      <td>Japan</td>\n",
       "      <td>10</td>\n",
       "    </tr>\n",
       "    <tr>\n",
       "      <th>8</th>\n",
       "      <td>Germany</td>\n",
       "      <td>9</td>\n",
       "    </tr>\n",
       "    <tr>\n",
       "      <th>9</th>\n",
       "      <td>Ireland</td>\n",
       "      <td>8</td>\n",
       "    </tr>\n",
       "  </tbody>\n",
       "</table>\n",
       "</div>"
      ],
      "text/plain": [
       "          Country  No. of content\n",
       "0   United States            1182\n",
       "1  United Kingdom             101\n",
       "2          Canada              76\n",
       "3       Australia              23\n",
       "4          France              22\n",
       "5    Sounth Korea              13\n",
       "6           China              10\n",
       "7           Japan              10\n",
       "8         Germany               9\n",
       "9         Ireland               8"
      ]
     },
     "execution_count": 98,
     "metadata": {},
     "output_type": "execute_result"
    }
   ],
   "source": [
    "#dataframe is useful for plotting graphs in a easier way. The data was very less hence created dataframe manually\n",
    "country_count_df"
   ]
  },
  {
   "cell_type": "code",
   "execution_count": 99,
   "metadata": {},
   "outputs": [
    {
     "data": {
      "image/png": "[encoded data removed]",
      "text/plain": [
       "<Figure size 1440x360 with 1 Axes>"
      ]
     },
     "metadata": {
      "needs_background": "light"
     },
     "output_type": "display_data"
    }
   ],
   "source": [
    "#plotting the top 10 countries with the most content on disney+\n",
    "plt.figure(figsize=(20,5))\n",
    "plt.title('Top 10 countries with the most content on Disney+')\n",
    "ax = sns.barplot(y='Country', x='No. of content', data=country_count_df)\n",
    "ax.bar_label(ax.containers[0]);"
   ]
  },
  {
   "cell_type": "code",
   "execution_count": 100,
   "metadata": {},
   "outputs": [],
   "source": [
    "#United States has the maximum content on disney+"
   ]
  },
  {
   "cell_type": "markdown",
   "metadata": {},
   "source": [
    "#### Q5: Is there any relation between the no. of seasons for the TV shows and the release_year? eg: Latest release year has more or less shows comparatively?"
   ]
  },
  {
   "cell_type": "code",
   "execution_count": 101,
   "metadata": {},
   "outputs": [
    {
     "data": {
      "text/html": [
       "<div>\n",
       "<style scoped>\n",
       "    .dataframe tbody tr th:only-of-type {\n",
       "        vertical-align: middle;\n",
       "    }\n",
       "\n",
       "    .dataframe tbody tr th {\n",
       "        vertical-align: top;\n",
       "    }\n",
       "\n",
       "    .dataframe thead th {\n",
       "        text-align: right;\n",
       "    }\n",
       "</style>\n",
       "<table border=\"1\" class=\"dataframe\">\n",
       "  <thead>\n",
       "    <tr style=\"text-align: right;\">\n",
       "      <th></th>\n",
       "      <th>show_id</th>\n",
       "      <th>type</th>\n",
       "      <th>title</th>\n",
       "      <th>director</th>\n",
       "      <th>cast</th>\n",
       "      <th>country</th>\n",
       "      <th>date_added</th>\n",
       "      <th>release_year</th>\n",
       "      <th>rating</th>\n",
       "      <th>duration</th>\n",
       "      <th>listed_in</th>\n",
       "      <th>description</th>\n",
       "    </tr>\n",
       "  </thead>\n",
       "  <tbody>\n",
       "    <tr>\n",
       "      <th>4</th>\n",
       "      <td>s5</td>\n",
       "      <td>TV Show</td>\n",
       "      <td>The Beatles: Get Back</td>\n",
       "      <td>Data unavailable</td>\n",
       "      <td>John Lennon, Paul McCartney, George Harrison, ...</td>\n",
       "      <td>Data unavailable</td>\n",
       "      <td>2021-11-25</td>\n",
       "      <td>2021</td>\n",
       "      <td>PG-13</td>\n",
       "      <td>1 Season</td>\n",
       "      <td>Docuseries, Historical, Music</td>\n",
       "      <td>A three-part documentary from Peter Jackson ca...</td>\n",
       "    </tr>\n",
       "    <tr>\n",
       "      <th>6</th>\n",
       "      <td>s7</td>\n",
       "      <td>TV Show</td>\n",
       "      <td>Hawkeye</td>\n",
       "      <td>Data unavailable</td>\n",
       "      <td>Jeremy Renner, Hailee Steinfeld, Vera Farmiga,...</td>\n",
       "      <td>Data unavailable</td>\n",
       "      <td>2021-11-24</td>\n",
       "      <td>2021</td>\n",
       "      <td>TV-14</td>\n",
       "      <td>1 Season</td>\n",
       "      <td>Action-Adventure, Superhero</td>\n",
       "      <td>Clint Barton/Hawkeye must team up with skilled...</td>\n",
       "    </tr>\n",
       "    <tr>\n",
       "      <th>7</th>\n",
       "      <td>s8</td>\n",
       "      <td>TV Show</td>\n",
       "      <td>Port Protection Alaska</td>\n",
       "      <td>Data unavailable</td>\n",
       "      <td>Gary Muehlberger, Mary Miller, Curly Leach, Sa...</td>\n",
       "      <td>United States</td>\n",
       "      <td>2021-11-24</td>\n",
       "      <td>2015</td>\n",
       "      <td>TV-14</td>\n",
       "      <td>2 Seasons</td>\n",
       "      <td>Docuseries, Reality, Survival</td>\n",
       "      <td>Residents of Port Protection must combat volat...</td>\n",
       "    </tr>\n",
       "    <tr>\n",
       "      <th>8</th>\n",
       "      <td>s9</td>\n",
       "      <td>TV Show</td>\n",
       "      <td>Secrets of the Zoo: Tampa</td>\n",
       "      <td>Data unavailable</td>\n",
       "      <td>Dr. Ray Ball, Dr. Lauren Smith, Chris Massaro,...</td>\n",
       "      <td>United States</td>\n",
       "      <td>2021-11-24</td>\n",
       "      <td>2019</td>\n",
       "      <td>TV-PG</td>\n",
       "      <td>2 Seasons</td>\n",
       "      <td>Animals &amp; Nature, Docuseries, Family</td>\n",
       "      <td>A day in the life at ZooTampa is anything but ...</td>\n",
       "    </tr>\n",
       "    <tr>\n",
       "      <th>13</th>\n",
       "      <td>s14</td>\n",
       "      <td>TV Show</td>\n",
       "      <td>Dr. Oakley, Yukon Vet</td>\n",
       "      <td>Data unavailable</td>\n",
       "      <td>Dr. Michelle Oakley, Zachary Fine</td>\n",
       "      <td>United States</td>\n",
       "      <td>2021-11-17</td>\n",
       "      <td>2013</td>\n",
       "      <td>TV-PG</td>\n",
       "      <td>10 Seasons</td>\n",
       "      <td>Action-Adventure, Animals &amp; Nature, Docuseries</td>\n",
       "      <td>Meet Dr. Michelle Oakley, vet to pretty much e...</td>\n",
       "    </tr>\n",
       "  </tbody>\n",
       "</table>\n",
       "</div>"
      ],
      "text/plain": [
       "   show_id     type                      title          director  \\\n",
       "4       s5  TV Show      The Beatles: Get Back  Data unavailable   \n",
       "6       s7  TV Show                    Hawkeye  Data unavailable   \n",
       "7       s8  TV Show     Port Protection Alaska  Data unavailable   \n",
       "8       s9  TV Show  Secrets of the Zoo: Tampa  Data unavailable   \n",
       "13     s14  TV Show      Dr. Oakley, Yukon Vet  Data unavailable   \n",
       "\n",
       "                                                 cast           country  \\\n",
       "4   John Lennon, Paul McCartney, George Harrison, ...  Data unavailable   \n",
       "6   Jeremy Renner, Hailee Steinfeld, Vera Farmiga,...  Data unavailable   \n",
       "7   Gary Muehlberger, Mary Miller, Curly Leach, Sa...     United States   \n",
       "8   Dr. Ray Ball, Dr. Lauren Smith, Chris Massaro,...     United States   \n",
       "13                  Dr. Michelle Oakley, Zachary Fine     United States   \n",
       "\n",
       "   date_added  release_year rating    duration  \\\n",
       "4  2021-11-25          2021  PG-13    1 Season   \n",
       "6  2021-11-24          2021  TV-14    1 Season   \n",
       "7  2021-11-24          2015  TV-14   2 Seasons   \n",
       "8  2021-11-24          2019  TV-PG   2 Seasons   \n",
       "13 2021-11-17          2013  TV-PG  10 Seasons   \n",
       "\n",
       "                                         listed_in  \\\n",
       "4                    Docuseries, Historical, Music   \n",
       "6                      Action-Adventure, Superhero   \n",
       "7                    Docuseries, Reality, Survival   \n",
       "8             Animals & Nature, Docuseries, Family   \n",
       "13  Action-Adventure, Animals & Nature, Docuseries   \n",
       "\n",
       "                                          description  \n",
       "4   A three-part documentary from Peter Jackson ca...  \n",
       "6   Clint Barton/Hawkeye must team up with skilled...  \n",
       "7   Residents of Port Protection must combat volat...  \n",
       "8   A day in the life at ZooTampa is anything but ...  \n",
       "13  Meet Dr. Michelle Oakley, vet to pretty much e...  "
      ]
     },
     "execution_count": 101,
     "metadata": {},
     "output_type": "execute_result"
    }
   ],
   "source": [
    "tv_shows_df.head()"
   ]
  },
  {
   "cell_type": "code",
   "execution_count": 102,
   "metadata": {},
   "outputs": [
    {
     "name": "stderr",
     "output_type": "stream",
     "text": [
      "C:\\Users\\PURVAR~1\\AppData\\Local\\Temp/ipykernel_12588/1227376287.py:2: SettingWithCopyWarning: \n",
      "A value is trying to be set on a copy of a slice from a DataFrame.\n",
      "Try using .loc[row_indexer,col_indexer] = value instead\n",
      "\n",
      "See the caveats in the documentation: https://pandas.pydata.org/pandas-docs/stable/user_guide/indexing.html#returning-a-view-versus-a-copy\n",
      "  tv_shows_df['duration'] = tv_shows_df['duration'].str.replace('Seasons','')\n",
      "C:\\Users\\PURVAR~1\\AppData\\Local\\Temp/ipykernel_12588/1227376287.py:3: SettingWithCopyWarning: \n",
      "A value is trying to be set on a copy of a slice from a DataFrame.\n",
      "Try using .loc[row_indexer,col_indexer] = value instead\n",
      "\n",
      "See the caveats in the documentation: https://pandas.pydata.org/pandas-docs/stable/user_guide/indexing.html#returning-a-view-versus-a-copy\n",
      "  tv_shows_df['duration'] = tv_shows_df['duration'].str.replace('Season','')\n"
     ]
    }
   ],
   "source": [
    "## Remove the 'Seasons' str from duration column, then convert to a number (Hint: str.replace() & astype() will be useful)\n",
    "tv_shows_df['duration'] = tv_shows_df['duration'].str.replace('Seasons','')\n",
    "tv_shows_df['duration'] = tv_shows_df['duration'].str.replace('Season','')"
   ]
  },
  {
   "cell_type": "code",
   "execution_count": 103,
   "metadata": {},
   "outputs": [
    {
     "data": {
      "text/html": [
       "<div>\n",
       "<style scoped>\n",
       "    .dataframe tbody tr th:only-of-type {\n",
       "        vertical-align: middle;\n",
       "    }\n",
       "\n",
       "    .dataframe tbody tr th {\n",
       "        vertical-align: top;\n",
       "    }\n",
       "\n",
       "    .dataframe thead th {\n",
       "        text-align: right;\n",
       "    }\n",
       "</style>\n",
       "<table border=\"1\" class=\"dataframe\">\n",
       "  <thead>\n",
       "    <tr style=\"text-align: right;\">\n",
       "      <th></th>\n",
       "      <th>show_id</th>\n",
       "      <th>type</th>\n",
       "      <th>title</th>\n",
       "      <th>director</th>\n",
       "      <th>cast</th>\n",
       "      <th>country</th>\n",
       "      <th>date_added</th>\n",
       "      <th>release_year</th>\n",
       "      <th>rating</th>\n",
       "      <th>duration</th>\n",
       "      <th>listed_in</th>\n",
       "      <th>description</th>\n",
       "    </tr>\n",
       "  </thead>\n",
       "  <tbody>\n",
       "    <tr>\n",
       "      <th>4</th>\n",
       "      <td>s5</td>\n",
       "      <td>TV Show</td>\n",
       "      <td>The Beatles: Get Back</td>\n",
       "      <td>Data unavailable</td>\n",
       "      <td>John Lennon, Paul McCartney, George Harrison, ...</td>\n",
       "      <td>Data unavailable</td>\n",
       "      <td>2021-11-25</td>\n",
       "      <td>2021</td>\n",
       "      <td>PG-13</td>\n",
       "      <td>1</td>\n",
       "      <td>Docuseries, Historical, Music</td>\n",
       "      <td>A three-part documentary from Peter Jackson ca...</td>\n",
       "    </tr>\n",
       "    <tr>\n",
       "      <th>6</th>\n",
       "      <td>s7</td>\n",
       "      <td>TV Show</td>\n",
       "      <td>Hawkeye</td>\n",
       "      <td>Data unavailable</td>\n",
       "      <td>Jeremy Renner, Hailee Steinfeld, Vera Farmiga,...</td>\n",
       "      <td>Data unavailable</td>\n",
       "      <td>2021-11-24</td>\n",
       "      <td>2021</td>\n",
       "      <td>TV-14</td>\n",
       "      <td>1</td>\n",
       "      <td>Action-Adventure, Superhero</td>\n",
       "      <td>Clint Barton/Hawkeye must team up with skilled...</td>\n",
       "    </tr>\n",
       "  </tbody>\n",
       "</table>\n",
       "</div>"
      ],
      "text/plain": [
       "  show_id     type                  title          director  \\\n",
       "4      s5  TV Show  The Beatles: Get Back  Data unavailable   \n",
       "6      s7  TV Show                Hawkeye  Data unavailable   \n",
       "\n",
       "                                                cast           country  \\\n",
       "4  John Lennon, Paul McCartney, George Harrison, ...  Data unavailable   \n",
       "6  Jeremy Renner, Hailee Steinfeld, Vera Farmiga,...  Data unavailable   \n",
       "\n",
       "  date_added  release_year rating duration                      listed_in  \\\n",
       "4 2021-11-25          2021  PG-13       1   Docuseries, Historical, Music   \n",
       "6 2021-11-24          2021  TV-14       1     Action-Adventure, Superhero   \n",
       "\n",
       "                                         description  \n",
       "4  A three-part documentary from Peter Jackson ca...  \n",
       "6  Clint Barton/Hawkeye must team up with skilled...  "
      ]
     },
     "execution_count": 103,
     "metadata": {},
     "output_type": "execute_result"
    }
   ],
   "source": [
    "tv_shows_df.head(2)"
   ]
  },
  {
   "cell_type": "code",
   "execution_count": 104,
   "metadata": {},
   "outputs": [
    {
     "name": "stderr",
     "output_type": "stream",
     "text": [
      "C:\\Users\\PURVAR~1\\AppData\\Local\\Temp/ipykernel_12588/3799998118.py:1: SettingWithCopyWarning: \n",
      "A value is trying to be set on a copy of a slice from a DataFrame.\n",
      "Try using .loc[row_indexer,col_indexer] = value instead\n",
      "\n",
      "See the caveats in the documentation: https://pandas.pydata.org/pandas-docs/stable/user_guide/indexing.html#returning-a-view-versus-a-copy\n",
      "  tv_shows_df['duration'] = tv_shows_df['duration'].astype(float)\n"
     ]
    }
   ],
   "source": [
    "tv_shows_df['duration'] = tv_shows_df['duration'].astype(float)"
   ]
  },
  {
   "cell_type": "code",
   "execution_count": 105,
   "metadata": {},
   "outputs": [
    {
     "name": "stdout",
     "output_type": "stream",
     "text": [
      "<class 'pandas.core.frame.DataFrame'>\n",
      "Int64Index: 395 entries, 4 to 1434\n",
      "Data columns (total 12 columns):\n",
      " #   Column        Non-Null Count  Dtype         \n",
      "---  ------        --------------  -----         \n",
      " 0   show_id       395 non-null    object        \n",
      " 1   type          395 non-null    object        \n",
      " 2   title         395 non-null    object        \n",
      " 3   director      395 non-null    object        \n",
      " 4   cast          395 non-null    object        \n",
      " 5   country       395 non-null    object        \n",
      " 6   date_added    395 non-null    datetime64[ns]\n",
      " 7   release_year  395 non-null    int64         \n",
      " 8   rating        395 non-null    object        \n",
      " 9   duration      395 non-null    float64       \n",
      " 10  listed_in     395 non-null    object        \n",
      " 11  description   395 non-null    object        \n",
      "dtypes: datetime64[ns](1), float64(1), int64(1), object(9)\n",
      "memory usage: 40.1+ KB\n"
     ]
    }
   ],
   "source": [
    "tv_shows_df.info()"
   ]
  },
  {
   "cell_type": "code",
   "execution_count": 106,
   "metadata": {},
   "outputs": [
    {
     "data": {
      "image/png": "[encoded data removed]",
      "text/plain": [
       "<Figure size 648x360 with 1 Axes>"
      ]
     },
     "metadata": {
      "needs_background": "light"
     },
     "output_type": "display_data"
    }
   ],
   "source": [
    "#check relationship between duration and release_year\n",
    "sns.scatterplot(x=tv_shows_df.release_year, y=tv_shows_df.duration);"
   ]
  },
  {
   "cell_type": "code",
   "execution_count": 107,
   "metadata": {},
   "outputs": [],
   "source": [
    "#There doesn't seem to be correlation between the the duration of the saesons and the release_year\n",
    "#It is observed that majority of the shows have seasons less than 5\n",
    "#It is interesting to observed one datapoint which has more than 30 seasons. \n",
    "#Lets find which show is it."
   ]
  },
  {
   "cell_type": "code",
   "execution_count": 108,
   "metadata": {},
   "outputs": [
    {
     "data": {
      "text/html": [
       "<div>\n",
       "<style scoped>\n",
       "    .dataframe tbody tr th:only-of-type {\n",
       "        vertical-align: middle;\n",
       "    }\n",
       "\n",
       "    .dataframe tbody tr th {\n",
       "        vertical-align: top;\n",
       "    }\n",
       "\n",
       "    .dataframe thead th {\n",
       "        text-align: right;\n",
       "    }\n",
       "</style>\n",
       "<table border=\"1\" class=\"dataframe\">\n",
       "  <thead>\n",
       "    <tr style=\"text-align: right;\">\n",
       "      <th></th>\n",
       "      <th>show_id</th>\n",
       "      <th>type</th>\n",
       "      <th>title</th>\n",
       "      <th>director</th>\n",
       "      <th>cast</th>\n",
       "      <th>country</th>\n",
       "      <th>date_added</th>\n",
       "      <th>release_year</th>\n",
       "      <th>rating</th>\n",
       "      <th>duration</th>\n",
       "      <th>listed_in</th>\n",
       "      <th>description</th>\n",
       "    </tr>\n",
       "  </thead>\n",
       "  <tbody>\n",
       "    <tr>\n",
       "      <th>92</th>\n",
       "      <td>s93</td>\n",
       "      <td>TV Show</td>\n",
       "      <td>The Simpsons</td>\n",
       "      <td>Data unavailable</td>\n",
       "      <td>Dan Castellaneta, Julie Kavner, Nancy Cartwrig...</td>\n",
       "      <td>United States</td>\n",
       "      <td>2021-09-29</td>\n",
       "      <td>1989</td>\n",
       "      <td>TV-PG</td>\n",
       "      <td>32.0</td>\n",
       "      <td>Animation, Comedy</td>\n",
       "      <td>The world’s favorite nuclear family, in the aw...</td>\n",
       "    </tr>\n",
       "  </tbody>\n",
       "</table>\n",
       "</div>"
      ],
      "text/plain": [
       "   show_id     type         title          director  \\\n",
       "92     s93  TV Show  The Simpsons  Data unavailable   \n",
       "\n",
       "                                                 cast        country  \\\n",
       "92  Dan Castellaneta, Julie Kavner, Nancy Cartwrig...  United States   \n",
       "\n",
       "   date_added  release_year rating  duration          listed_in  \\\n",
       "92 2021-09-29          1989  TV-PG      32.0  Animation, Comedy   \n",
       "\n",
       "                                          description  \n",
       "92  The world’s favorite nuclear family, in the aw...  "
      ]
     },
     "execution_count": 108,
     "metadata": {},
     "output_type": "execute_result"
    }
   ],
   "source": [
    "tv_shows_df.sort_values(by='duration',ascending=False).head(1)"
   ]
  },
  {
   "cell_type": "code",
   "execution_count": 109,
   "metadata": {},
   "outputs": [],
   "source": [
    "#The Simpsons TV show released in year 1989 has 32 seasons."
   ]
  },
  {
   "cell_type": "markdown",
   "metadata": {},
   "source": [
    "Let us save and upload our work to Jovian before continuing."
   ]
  },
  {
   "cell_type": "code",
   "execution_count": 110,
   "metadata": {},
   "outputs": [],
   "source": [
    "import jovian"
   ]
  },
  {
   "cell_type": "code",
   "execution_count": 111,
   "metadata": {},
   "outputs": [
    {
     "data": {
      "application/javascript": [
       "window.require && require([\"base/js/namespace\"],function(Jupyter){Jupyter.notebook.save_checkpoint()})"
      ],
      "text/plain": [
       "<IPython.core.display.Javascript object>"
      ]
     },
     "metadata": {},
     "output_type": "display_data"
    },
    {
     "name": "stdout",
     "output_type": "stream",
     "text": [
      "[jovian] Updating notebook \"purva-raut/disney-plus-movies-and-tv-shows\" on https://jovian.ai/\u001b[0m\n",
      "[jovian] Committed successfully! https://jovian.ai/purva-raut/disney-plus-movies-and-tv-shows\u001b[0m\n"
     ]
    },
    {
     "data": {
      "text/plain": [
       "'https://jovian.ai/purva-raut/disney-plus-movies-and-tv-shows'"
      ]
     },
     "execution_count": 111,
     "metadata": {},
     "output_type": "execute_result"
    }
   ],
   "source": [
    "jovian.commit()"
   ]
  },
  {
   "cell_type": "markdown",
   "metadata": {},
   "source": [
    "## Inferences and Conclusion\n",
    "- In our dataset of disney+ the earliest release year is 1928 and the latest is 2021.\n",
    "- Most the content on the disney+ ott is after release year 2000.\n",
    "- Movies are from year 1940 and above whereas TV shows are from year 1980 and further.\n",
    "- There is no correlation between the release year and the duration of the movies or TV shows.\n",
    "- Between years 1950 to 1985 movies were of longer duration.\n",
    "- The data that we worked on had content added from OCT 2019 to NOV 2021.\n",
    "- Year 2021 has the maximum content of 125 out of which 70 were movies and 55 TV Shows.\n",
    "- Maximum movies uploaded are 1 to 2 hours long followed by short duration movies of less than 30 mins which are less than half of the normal duration movies uploaded. 30 to 60 mins and more than 120 minutes seems like a bit odd for the movie duration so these movies are less.\n",
    "- United States country has the maximum content on disney+ followed by other countries like UNited Kingdom, Canada etc.\n",
    "- It is observed that majority of the TV shows have seasons less than 5.\n",
    "- 'The Simpsons' TV show released in year 1989 has 32 seasons."
   ]
  },
  {
   "cell_type": "code",
   "execution_count": 112,
   "metadata": {},
   "outputs": [],
   "source": [
    "import jovian"
   ]
  },
  {
   "cell_type": "code",
   "execution_count": 113,
   "metadata": {},
   "outputs": [
    {
     "data": {
      "application/javascript": [
       "window.require && require([\"base/js/namespace\"],function(Jupyter){Jupyter.notebook.save_checkpoint()})"
      ],
      "text/plain": [
       "<IPython.core.display.Javascript object>"
      ]
     },
     "metadata": {},
     "output_type": "display_data"
    },
    {
     "name": "stdout",
     "output_type": "stream",
     "text": [
      "[jovian] Updating notebook \"purva-raut/disney-plus-movies-and-tv-shows\" on https://jovian.ai/\u001b[0m\n",
      "[jovian] Committed successfully! https://jovian.ai/purva-raut/disney-plus-movies-and-tv-shows\u001b[0m\n"
     ]
    },
    {
     "data": {
      "text/plain": [
       "'https://jovian.ai/purva-raut/disney-plus-movies-and-tv-shows'"
      ]
     },
     "execution_count": 113,
     "metadata": {},
     "output_type": "execute_result"
    }
   ],
   "source": [
    "jovian.commit()"
   ]
  },
  {
   "cell_type": "markdown",
   "metadata": {},
   "source": [
    "## References and Future Work\n",
    "\n",
    "#### Future Work\n",
    "Take a look at the popular directors and actors from different countries worked on Movies or TV Shows\n",
    "Find top genre Disney+ focuses on\n",
    "\n",
    "#### References\n",
    "- https://stackoverflow.com/\n",
    "- https://flexiple.com/python\n",
    "- https://www.geeksforgeeks.org/pandas\n",
    "- https://www.analyticsvidhya.com/blog/2021/07/visualizing-netflix-data-using-python/\n",
    "- https://www.kaggle.com/code/tejainece/seaborn-barplot-and-pandas-value-counts/notebook\n",
    "- https://www.kaggle.com/code/tejainece/seaborn-barplot-and-pandas-value-counts/notebook\n",
    "- https://www.dataquest.io/blog/comical-data-visualization-in-python-using-matplotlib/\n",
    "- https://pandas.pydata.org/docs/reference/api/pandas.DataFrame.html"
   ]
  },
  {
   "cell_type": "code",
   "execution_count": 114,
   "metadata": {},
   "outputs": [],
   "source": [
    "import jovian"
   ]
  },
  {
   "cell_type": "code",
   "execution_count": 115,
   "metadata": {
    "scrolled": true
   },
   "outputs": [
    {
     "data": {
      "application/javascript": [
       "window.require && require([\"base/js/namespace\"],function(Jupyter){Jupyter.notebook.save_checkpoint()})"
      ],
      "text/plain": [
       "<IPython.core.display.Javascript object>"
      ]
     },
     "metadata": {},
     "output_type": "display_data"
    },
    {
     "name": "stdout",
     "output_type": "stream",
     "text": [
      "[jovian] Updating notebook \"purva-raut/disney-plus-movies-and-tv-shows\" on https://jovian.ai/\u001b[0m\n",
      "[jovian] Committed successfully! https://jovian.ai/purva-raut/disney-plus-movies-and-tv-shows\u001b[0m\n"
     ]
    },
    {
     "data": {
      "text/plain": [
       "'https://jovian.ai/purva-raut/disney-plus-movies-and-tv-shows'"
      ]
     },
     "execution_count": 115,
     "metadata": {},
     "output_type": "execute_result"
    }
   ],
   "source": [
    "jovian.commit()"
   ]
  }
 ],
 "metadata": {
  "kernelspec": {
   "display_name": "Python 3 (ipykernel)",
   "language": "python",
   "name": "python3"
  },
  "language_info": {
   "codemirror_mode": {
    "name": "ipython",
    "version": 3
   },
   "file_extension": ".py",
   "mimetype": "text/x-python",
   "name": "python",
   "nbconvert_exporter": "python",
   "pygments_lexer": "ipython3",
   "version": "3.9.7"
  }
 },
 "nbformat": 4,
 "nbformat_minor": 4
}
